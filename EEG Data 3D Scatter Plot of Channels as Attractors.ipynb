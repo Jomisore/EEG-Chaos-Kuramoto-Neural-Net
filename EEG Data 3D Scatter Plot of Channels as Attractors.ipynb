{
 "cells": [
  {
   "cell_type": "markdown",
   "id": "c51d2419-8feb-46cb-b633-5a06a9624159",
   "metadata": {},
   "source": [
    "# EEG Data 3D Scatter Plot of Channels as Attractors"
   ]
  },
  {
   "cell_type": "code",
   "execution_count": null,
   "id": "f93ede63-b6fd-4416-94b9-166ce6095eaa",
   "metadata": {},
   "outputs": [],
   "source": [
    "import numpy as np\n",
    "from matplotlib import pyplot as plt\n",
    "from mpl_toolkits.mplot3d import Axes3D\n",
    "\n",
    "# Assume EEGdata is your EEG data where each row is a channel and each column is a time point\n",
    "# Normalize the data\n",
    "norm_data = (EEGdata - np.mean(EEGdata, axis=0)) / np.std(EEGdata, axis=0)\n",
    "\n",
    "fig = plt.figure()\n",
    "ax = fig.add_subplot(111, projection='3d')\n",
    "\n",
    "# Each channel is an attractor\n",
    "for i in range(norm_data.shape[0]):\n",
    "    # Take first three points as x, y, z coordinates for the plot\n",
    "    x, y, z = norm_data[i, :3]\n",
    "    ax.scatter(x, y, z)\n",
    "\n",
    "plt.show()"
   ]
  }
 ],
 "metadata": {
  "kernelspec": {
   "display_name": "Python 3 (ipykernel)",
   "language": "python",
   "name": "python3"
  },
  "language_info": {
   "codemirror_mode": {
    "name": "ipython",
    "version": 3
   },
   "file_extension": ".py",
   "mimetype": "text/x-python",
   "name": "python",
   "nbconvert_exporter": "python",
   "pygments_lexer": "ipython3",
   "version": "3.9.13"
  }
 },
 "nbformat": 4,
 "nbformat_minor": 5
}
