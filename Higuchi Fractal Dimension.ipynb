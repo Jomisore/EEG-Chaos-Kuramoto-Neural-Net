{
 "cells": [
  {
   "cell_type": "markdown",
   "id": "8ac8ccb9-807c-490f-a38f-4acc302d2b41",
   "metadata": {},
   "source": [
    "# Higuchi Fractal Dimension"
   ]
  },
  {
   "cell_type": "code",
   "execution_count": null,
   "id": "92309674-3222-4639-a951-0d1334c085fc",
   "metadata": {},
   "outputs": [],
   "source": [
    "import numpy as np\n",
    "import nolds\n",
    "import scipy.io\n",
    "import mne\n",
    "import pandas as pd\n",
    "import seaborn as sns\n",
    "import pyqtgraph as pg\n",
    "from scipy.io import loadmat\n",
    "from scipy import stats\n",
    "import matplotlib.pyplot as plt\n",
    "import antropy as ent\n",
    "from attractors import Attractor\n",
    "from antropy import higuchi_fd\n",
    "from pyrqa.settings import Settings\n",
    "from pyrqa.neighbourhood import FixedRadius\n",
    "from pyrqa.computation import RQAComputation\n",
    "from pyrqa.time_series import TimeSeries\n",
    "from pyrqa.result import RQAResult\n",
    "from pyrqa.opencl import OpenCL\n",
    "from pyrqa.settings import Settings\n",
    "from pyrqa.time_series import TimeSeries\n",
    "from pyrqa.neighbourhood import FixedRadius\n",
    "from pyrqa.settings import Settings\n",
    "from pyrqa.time_series import TimeSeries\n",
    "from pyrqa.neighbourhood import FixedRadius\n",
    "from pyrqa.metric import EuclideanMetric\n",
    "from pyrqa.computation import RQAComputation\n",
    "from pyrqa.metric import EuclideanMetric\n",
    "from pyrqa.computation import RQAComputation\n",
    "from pyrqa.settings import Settings\n",
    "from pyrqa.neighbourhood import FixedRadius\n",
    "from pyrqa.metric import EuclideanMetric\n",
    "from pyrqa.image_generator import ImageGenerator\n",
    "import numpy as np\n",
    "import matplotlib.pyplot as plt\n",
    "from antropy import higuchi_fd"
   ]
  },
  {
   "cell_type": "code",
   "execution_count": null,
   "id": "9c98f85b-5b04-4e94-ab47-0732adf01347",
   "metadata": {},
   "outputs": [],
   "source": [
    "# Load data\n",
    "data = loadmat('/home/vincent/AAA_projects/University/MSc_AI/Final_Project/downsampled/EEG_DS_Struct_0101.mat')"
   ]
  },
  {
   "cell_type": "code",
   "execution_count": null,
   "id": "affd3b9f-fff0-42f0-a822-798921227da7",
   "metadata": {},
   "outputs": [],
   "source": [
    "DSamp = data['DSamp']\n",
    "\n",
    "triggers = DSamp[0][0][0]\n",
    "EEGdata = DSamp[0][0][1]\n",
    "fs = DSamp[0][0][2][0][0] \n",
    "fsOld = DSamp[0][0][3][0][0] \n",
    "time = DSamp[0][0][4][0]\n",
    "label = DSamp[0][0][5]\n",
    "nchan = DSamp[0][0][6][0][0]\n",
    "rate = DSamp[0][0][7][0][0]\n",
    "npt = DSamp[0][0][8][0][0]\n",
    "Subj = DSamp[0][0][9][0]\n",
    "ptrackerPerf = DSamp[0][0][10]\n",
    "ptrackerTime = DSamp[0][0][11]\n",
    "ptrackerfs = DSamp[0][0][12][0][0]"
   ]
  },
  {
   "cell_type": "code",
   "execution_count": null,
   "id": "4faec467-710a-4146-82fc-48e36362cd8a",
   "metadata": {},
   "outputs": [],
   "source": [
    "import numpy as np\n",
    "\n",
    "def higuchi_fd(data, kmax):\n",
    "    \"\"\" Compute Higuchi Fractal Dimension of a time series.\n",
    "    Args:\n",
    "    data (list or np.array): 1D Time series\n",
    "    kmax (int): Maximum delay/offset (in number of samples).\n",
    "    Returns:\n",
    "    hfd (float): Higuchi Fractal Dimension\n",
    "    \"\"\"\n",
    "    L = []\n",
    "    x = []\n",
    "    N = len(data)\n",
    "    for k in range(1,kmax):\n",
    "        Lk = []\n",
    "        for m in range(0,k):\n",
    "            Lmk = 0\n",
    "            for i in range(1,int((N-m)/k)):\n",
    "                Lmk += abs(data[m+i*k] - data[m+i*k-k])\n",
    "            Lmk = Lmk*(N - 1)/(((N - m)/ k)* k)\n",
    "            Lk.append(Lmk)\n",
    "        L.append(np.log(np.mean(Lk)))\n",
    "        x.append([np.log(1.0/ k), 1])\n",
    "\n",
    "    (p, r1, r2, s)=np.linalg.lstsq(x, L, rcond=-1)\n",
    "    return p[0]\n",
    "\n",
    "DSamp = data['DSamp']\n",
    "EEGdata = DSamp[0][0][1]\n",
    "\n",
    "# Transpose the data so each row is a sample and each column is a channel\n",
    "EEGdata = EEGdata.T\n",
    "\n",
    "hfd_data = []\n",
    "kmax = 10  # or other value\n",
    "for i in range(EEGdata.shape[1]):  # iterate over channels\n",
    "    channel_data = EEGdata[:, i]   # get data for one channel\n",
    "    hfd_channel = higuchi_fd(channel_data, kmax)\n",
    "    hfd_data.append(hfd_channel)\n",
    "\n",
    "# hfd_data is a list of the Higuchi Fractal Dimension for each channel."
   ]
  },
  {
   "cell_type": "code",
   "execution_count": null,
   "id": "be2ff562-5177-48bc-b507-8741295c5f47",
   "metadata": {},
   "outputs": [],
   "source": []
  }
 ],
 "metadata": {
  "kernelspec": {
   "display_name": "Python 3 (ipykernel)",
   "language": "python",
   "name": "python3"
  },
  "language_info": {
   "codemirror_mode": {
    "name": "ipython",
    "version": 3
   },
   "file_extension": ".py",
   "mimetype": "text/x-python",
   "name": "python",
   "nbconvert_exporter": "python",
   "pygments_lexer": "ipython3",
   "version": "3.9.13"
  }
 },
 "nbformat": 4,
 "nbformat_minor": 5
}
