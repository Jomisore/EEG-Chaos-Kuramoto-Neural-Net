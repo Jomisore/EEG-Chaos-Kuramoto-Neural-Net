{
 "cells": [
  {
   "cell_type": "markdown",
   "id": "8ac8ccb9-807c-490f-a38f-4acc302d2b41",
   "metadata": {},
   "source": [
    "# Higuchi Fractal Dimension"
   ]
  },
  {
   "cell_type": "markdown",
   "id": "3c37d8a5-8bd4-46a8-a801-88660ca935f7",
   "metadata": {},
   "source": [
    "<div style=\"font-size: 13px; font-family: 'Times New Roman', Times, serif; background-color: #181818; color: #D0D0D0; padding: 20px; border-radius: 8px; margin: 10px; display: flex; flex-wrap: nowrap; justify-content: space-between;\">\n",
    "    <!-- Column 1 -->\n",
    "    <div style=\"flex: 1; margin-right: 10px;\">\n",
    "        <h2>Introduction</h2>\n",
    "        <p>\n",
    "            This code calculates the Higuchi Fractal Dimension (HFD) of EEG signals for multiple channels.\n",
    "            Fractal dimensions are used to quantify the complexity of a data series, which is particularly useful in neuroscience for understanding the complexity of brain activity.\n",
    "        </p>\n",
    "    </div>\n",
    "    <!-- Column 2 -->\n",
    "    <div style=\"flex: 1; margin-left: 10px;\">\n",
    "        <p>\n",
    "            The code uses the Higuchi Fractal Dimension algorithm, which is computationally efficient and particularly useful for analyzing time series data. It works by evaluating the length of the curve created by the data points at different scales.\n",
    "        </p>\n",
    "        \\[\n",
    "        L_k = \\frac{N-1}{\\left\\lfloor \\frac{N-m}{k} \\right\\rfloor k} \\sum_{m=0}^{k-1} \\left[ \\sum_{i=1}^{\\left\\lfloor \\frac{N-m}{k} \\right\\rfloor} \\left| x[m+i \\cdot k] - x[m+i \\cdot k - k] \\right| \\right]\n",
    "        \\]\n",
    "        \\[\n",
    "        HFD = \\frac{\\log(L_{k2}/L_{k1})}{\\log(k2/k1)}\n",
    "        \\]\n",
    "        <p>\n",
    "            Here, \\( L_k \\) is the length of the curve for a given \\( k \\) (delay or time offset). \\( N \\) is the length of the data, \\( x \\) is the time series data, and \\( m \\) is the initial time point for each \\( k \\).\n",
    "        </p>\n",
    "        <p>\n",
    "            Finally, the HFD values for each channel are stored in the list <code>hfd_values</code>.\n",
    "        </p>\n",
    "    </div>\n",
    "</div>"
   ]
  },
  {
   "cell_type": "code",
   "execution_count": 8,
   "id": "2bcc5d3a-38dd-458a-a0e7-cbea3bf11e85",
   "metadata": {},
   "outputs": [
    {
     "name": "stdout",
     "output_type": "stream",
     "text": [
      "Higuchi Fractal Dimensions for each channel: [-0.36005497045124624, -0.23633437232263893, -0.37112149677594536, -0.08754714948970373, -0.11035468235736252, -0.13707288326129607, -0.3934048831939664, -0.24673709351805825, -0.0710953944331469, -0.10275985039837075, -0.3467667431744175, -0.24990709690042587, -0.21426902542688608, -0.09127876391896302, -0.08507749371463456, -0.25722852525504636, -0.2805514117387538, -0.2224151766390623, -0.2099877581545126, -0.0799982792792008, -0.20791211613648958, -0.33103053273893573, -0.2269624863539871, -0.2363840209397604, -0.2704812265220445, -0.31618623070687657, -0.2329294151814016, -0.20944694956243734, -0.2115303234095175, -0.19603356897036747, -0.20279111854623105, -0.2125008482366303]\n"
     ]
    }
   ],
   "source": [
    "import numpy as np\n",
    "\n",
    "# Load EEG data\n",
    "EEG_data = np.load('/home/vincent/AAA_projects/MVCS/Neuroscience/eeg_data_with_channels.npy', allow_pickle=True)\n",
    "\n",
    "# Adjust the list to match your data's channels\n",
    "eeg_channels = ['Fp1', 'Fpz', 'Fp2', 'F7', 'F3', 'Fz', 'F4', 'F8', 'FC5', 'FC1', 'FC2', 'FC6',\n",
    "                'M1', 'T7', 'C3', 'Cz', 'C4', 'T8', 'M2', 'CP5', 'CP1', 'CP2', 'CP6',\n",
    "                'P7', 'P3', 'Pz', 'P4', 'P8', 'POz', 'O1', 'Oz', 'O2']\n",
    "\n",
    "def higuchi_fd(data, k_max):\n",
    "    \"\"\"Compute Higuchi Fractal Dimension of a time series.\n",
    "    \n",
    "    Parameters:\n",
    "    data : list or np.array\n",
    "        One-dimensional time series\n",
    "    k_max : int\n",
    "        Maximum delay (time offset)\n",
    "        \n",
    "    Returns:\n",
    "    hfd : float\n",
    "        Higuchi Fractal Dimension\n",
    "    \"\"\"\n",
    "    N = len(data)\n",
    "    L = []\n",
    "    \n",
    "    x = np.asarray(data)\n",
    "    \n",
    "    for k in range(1, k_max):\n",
    "        Lk = []\n",
    "        \n",
    "        for m in range(0, k):\n",
    "            Lkm = 0\n",
    "            for i in range(1, int((N-m)/k)):\n",
    "                Lkm += abs(x[m+i*k] - x[m+i*k-k])\n",
    "            Lkm = Lkm*(N - 1)/(((N - m)/k)*k)\n",
    "            Lk.append(Lkm)\n",
    "            \n",
    "        L.append(np.log(np.mean(Lk)))\n",
    "    \n",
    "    hfd = np.polyfit(np.log(range(1, k_max)), L, 1)[0]\n",
    "    \n",
    "    return hfd\n",
    "\n",
    "hfd_values = []\n",
    "\n",
    "for channel_data in EEG_data.T:  # .T because we need to iterate over channels\n",
    "    hfd_channel = higuchi_fd(channel_data, k_max=10)  # Adjust k_max as needed\n",
    "    hfd_values.append(hfd_channel)\n",
    "\n",
    "print(\"Higuchi Fractal Dimensions for each channel:\", hfd_values)"
   ]
  },
  {
   "cell_type": "markdown",
   "id": "5fc9d82a-9245-4975-8646-9e15a05ca62f",
   "metadata": {},
   "source": [
    "# Save the results"
   ]
  },
  {
   "cell_type": "code",
   "execution_count": 9,
   "id": "d7b4723c-25a7-4254-835e-aab1a8520198",
   "metadata": {},
   "outputs": [
    {
     "name": "stdout",
     "output_type": "stream",
     "text": [
      "Results saved to: /home/vincent/AAA_projects/MVCS/Neuroscience/Analysis/Fractal Analysis/Higuchi_Fractal_Dimensions.txt\n"
     ]
    }
   ],
   "source": [
    "# Save the results to a text file\n",
    "results_file_path = '/home/vincent/AAA_projects/MVCS/Neuroscience/Analysis/Fractal Analysis/Higuchi_Fractal_Dimensions.txt'\n",
    "with open(results_file_path, 'w') as f:\n",
    "    for channel, hfd in zip(eeg_channels, hfd_values):\n",
    "        f.write(f\"Channel {channel}: {hfd}\\n\")\n",
    "\n",
    "print(\"Results saved to:\", results_file_path)"
   ]
  },
  {
   "cell_type": "code",
   "execution_count": 4,
   "id": "840fabe6-d082-4e37-908b-8c64a45e1ffd",
   "metadata": {},
   "outputs": [
    {
     "name": "stdout",
     "output_type": "stream",
     "text": [
      "\n",
      "CNN Feature Shape:\n",
      "(4, 8)\n",
      "\n",
      "CNN Feature Head:\n",
      "          0         1         2         3         4         5         6  \\\n",
      "0 -0.360055 -0.236334 -0.371121 -0.087547 -0.110355 -0.137073 -0.393405   \n",
      "1 -0.071095 -0.102760 -0.346767 -0.249907 -0.214269 -0.091279 -0.085077   \n",
      "2 -0.280551 -0.222415 -0.209988 -0.079998 -0.207912 -0.331031 -0.226962   \n",
      "3 -0.270481 -0.316186 -0.232929 -0.209447 -0.211530 -0.196034 -0.202791   \n",
      "\n",
      "          7  \n",
      "0 -0.246737  \n",
      "1 -0.257229  \n",
      "2 -0.236384  \n",
      "3 -0.212501  \n",
      "\n",
      "RNN Feature Shape:\n",
      "(1, 32)\n",
      "\n",
      "RNN Feature Head:\n",
      "         0         1         2         3         4         5         6   \\\n",
      "0 -0.360055 -0.236334 -0.371121 -0.087547 -0.110355 -0.137073 -0.393405   \n",
      "\n",
      "         7         8        9   ...        22        23        24        25  \\\n",
      "0 -0.246737 -0.071095 -0.10276  ... -0.226962 -0.236384 -0.270481 -0.316186   \n",
      "\n",
      "         26        27       28        29        30        31  \n",
      "0 -0.232929 -0.209447 -0.21153 -0.196034 -0.202791 -0.212501  \n",
      "\n",
      "[1 rows x 32 columns]\n"
     ]
    }
   ],
   "source": [
    "import numpy as np\n",
    "import pandas as pd\n",
    "\n",
    "# Load the results from the given file\n",
    "results_file_path = '/home/vincent/AAA_projects/MVCS/Neuroscience/Analysis/Fractal Analysis/Higuchi_Fractal_Dimensions.txt'\n",
    "with open(results_file_path, 'r') as f:\n",
    "    # Each line is of the form 'Channel <channel_name>: <HFD value>'\n",
    "    hfd_values = [float(line.split(':')[-1].strip()) for line in f]\n",
    "\n",
    "# Generate CNN Feature\n",
    "# Reshape HFD values into a 4x8 matrix\n",
    "cnn_features = np.array(hfd_values).reshape(4, 8)\n",
    "\n",
    "# Generate RNN Feature\n",
    "# Treat the HFD values as a sequence\n",
    "rnn_features = np.array(hfd_values).reshape(1, -1)  # 1 sequence of HFD values for each channel\n",
    "\n",
    "# Save the features\n",
    "save_path = '/home/vincent/AAA_projects/MVCS/Neuroscience/Features'\n",
    "np.save(f\"{save_path}/cnn_fractal.npy\", cnn_features)\n",
    "np.save(f\"{save_path}/rnn_fractal.npy\", rnn_features)\n",
    "\n",
    "# Print shape and head using pandas\n",
    "# For CNN feature\n",
    "cnn_df = pd.DataFrame(cnn_features)\n",
    "print(\"\\nCNN Feature Shape:\")\n",
    "print(cnn_df.shape)\n",
    "print(\"\\nCNN Feature Head:\")\n",
    "print(cnn_df.head())\n",
    "\n",
    "# For RNN feature\n",
    "rnn_df = pd.DataFrame(rnn_features)\n",
    "print(\"\\nRNN Feature Shape:\")\n",
    "print(rnn_df.shape)\n",
    "print(\"\\nRNN Feature Head:\")\n",
    "print(rnn_df.head())\n"
   ]
  }
 ],
 "metadata": {
  "kernelspec": {
   "display_name": "Python 3 (ipykernel)",
   "language": "python",
   "name": "python3"
  },
  "language_info": {
   "codemirror_mode": {
    "name": "ipython",
    "version": 3
   },
   "file_extension": ".py",
   "mimetype": "text/x-python",
   "name": "python",
   "nbconvert_exporter": "python",
   "pygments_lexer": "ipython3",
   "version": "3.10.12"
  }
 },
 "nbformat": 4,
 "nbformat_minor": 5
}
