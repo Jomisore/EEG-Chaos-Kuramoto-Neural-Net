{
 "cells": [
  {
   "cell_type": "markdown",
   "id": "8ac8ccb9-807c-490f-a38f-4acc302d2b41",
   "metadata": {},
   "source": [
    "# Higuchi Fractal Dimension"
   ]
  },
  {
   "cell_type": "code",
   "execution_count": 5,
   "id": "221da570-1717-49cf-9adf-04c9309f099d",
   "metadata": {},
   "outputs": [],
   "source": []
  },
  {
   "cell_type": "code",
   "execution_count": 8,
   "id": "2bcc5d3a-38dd-458a-a0e7-cbea3bf11e85",
   "metadata": {},
   "outputs": [
    {
     "name": "stdout",
     "output_type": "stream",
     "text": [
      "Higuchi Fractal Dimensions for each channel: [-0.36005497045124624, -0.23633437232263893, -0.37112149677594536, -0.08754714948970373, -0.11035468235736252, -0.13707288326129607, -0.3934048831939664, -0.24673709351805825, -0.0710953944331469, -0.10275985039837075, -0.3467667431744175, -0.24990709690042587, -0.21426902542688608, -0.09127876391896302, -0.08507749371463456, -0.25722852525504636, -0.2805514117387538, -0.2224151766390623, -0.2099877581545126, -0.0799982792792008, -0.20791211613648958, -0.33103053273893573, -0.2269624863539871, -0.2363840209397604, -0.2704812265220445, -0.31618623070687657, -0.2329294151814016, -0.20944694956243734, -0.2115303234095175, -0.19603356897036747, -0.20279111854623105, -0.2125008482366303]\n"
     ]
    }
   ],
   "source": [
    "import numpy as np\n",
    "\n",
    "# Load EEG data\n",
    "EEG_data = np.load('/home/vincent/AAA_projects/MVCS/Neuroscience/eeg_data_with_channels.npy', allow_pickle=True)\n",
    "\n",
    "# Adjust the list to match your data's channels\n",
    "eeg_channels = ['Fp1', 'Fpz', 'Fp2', 'F7', 'F3', 'Fz', 'F4', 'F8', 'FC5', 'FC1', 'FC2', 'FC6',\n",
    "                'M1', 'T7', 'C3', 'Cz', 'C4', 'T8', 'M2', 'CP5', 'CP1', 'CP2', 'CP6',\n",
    "                'P7', 'P3', 'Pz', 'P4', 'P8', 'POz', 'O1', 'Oz', 'O2']\n",
    "\n",
    "def higuchi_fd(data, k_max):\n",
    "    \"\"\"Compute Higuchi Fractal Dimension of a time series.\n",
    "    \n",
    "    Parameters:\n",
    "    data : list or np.array\n",
    "        One-dimensional time series\n",
    "    k_max : int\n",
    "        Maximum delay (time offset)\n",
    "        \n",
    "    Returns:\n",
    "    hfd : float\n",
    "        Higuchi Fractal Dimension\n",
    "    \"\"\"\n",
    "    N = len(data)\n",
    "    L = []\n",
    "    \n",
    "    x = np.asarray(data)\n",
    "    \n",
    "    for k in range(1, k_max):\n",
    "        Lk = []\n",
    "        \n",
    "        for m in range(0, k):\n",
    "            Lkm = 0\n",
    "            for i in range(1, int((N-m)/k)):\n",
    "                Lkm += abs(x[m+i*k] - x[m+i*k-k])\n",
    "            Lkm = Lkm*(N - 1)/(((N - m)/k)*k)\n",
    "            Lk.append(Lkm)\n",
    "            \n",
    "        L.append(np.log(np.mean(Lk)))\n",
    "    \n",
    "    hfd = np.polyfit(np.log(range(1, k_max)), L, 1)[0]\n",
    "    \n",
    "    return hfd\n",
    "\n",
    "hfd_values = []\n",
    "\n",
    "for channel_data in EEG_data.T:  # .T because we need to iterate over channels\n",
    "    hfd_channel = higuchi_fd(channel_data, k_max=10)  # Adjust k_max as needed\n",
    "    hfd_values.append(hfd_channel)\n",
    "\n",
    "print(\"Higuchi Fractal Dimensions for each channel:\", hfd_values)"
   ]
  },
  {
   "cell_type": "markdown",
   "id": "5fc9d82a-9245-4975-8646-9e15a05ca62f",
   "metadata": {},
   "source": [
    "# Save the results"
   ]
  },
  {
   "cell_type": "code",
   "execution_count": 9,
   "id": "d7b4723c-25a7-4254-835e-aab1a8520198",
   "metadata": {},
   "outputs": [
    {
     "name": "stdout",
     "output_type": "stream",
     "text": [
      "Results saved to: /home/vincent/AAA_projects/MVCS/Neuroscience/Analysis/Fractal Analysis/Higuchi_Fractal_Dimensions.txt\n"
     ]
    }
   ],
   "source": [
    "# Save the results to a text file\n",
    "results_file_path = '/home/vincent/AAA_projects/MVCS/Neuroscience/Analysis/Fractal Analysis/Higuchi_Fractal_Dimensions.txt'\n",
    "with open(results_file_path, 'w') as f:\n",
    "    for channel, hfd in zip(eeg_channels, hfd_values):\n",
    "        f.write(f\"Channel {channel}: {hfd}\\n\")\n",
    "\n",
    "print(\"Results saved to:\", results_file_path)"
   ]
  }
 ],
 "metadata": {
  "kernelspec": {
   "display_name": "Python 3 (ipykernel)",
   "language": "python",
   "name": "python3"
  },
  "language_info": {
   "codemirror_mode": {
    "name": "ipython",
    "version": 3
   },
   "file_extension": ".py",
   "mimetype": "text/x-python",
   "name": "python",
   "nbconvert_exporter": "python",
   "pygments_lexer": "ipython3",
   "version": "3.10.12"
  }
 },
 "nbformat": 4,
 "nbformat_minor": 5
}
