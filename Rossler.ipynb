{
 "cells": [
  {
   "cell_type": "markdown",
   "id": "db9764a0-ec60-492f-bcfb-999c8e9b25de",
   "metadata": {},
   "source": [
    "# Rossler Attractor"
   ]
  },
  {
   "cell_type": "code",
   "execution_count": null,
   "id": "53c9c8af-6952-48b8-972e-99d06ee70309",
   "metadata": {
    "tags": []
   },
   "outputs": [],
   "source": [
    "import numpy as np\n",
    "import nolds\n",
    "import scipy.io\n",
    "import mne\n",
    "import pandas as pd\n",
    "import seaborn as sns\n",
    "import pyqtgraph as pg\n",
    "from scipy.io import loadmat\n",
    "from scipy import stats\n",
    "import matplotlib.pyplot as plt\n",
    "import antropy as ent\n",
    "from attractors import Attractor\n",
    "from antropy import higuchi_fd\n",
    "from pyrqa.settings import Settings\n",
    "from pyrqa.neighbourhood import FixedRadius\n",
    "from pyrqa.computation import RQAComputation\n",
    "from pyrqa.time_series import TimeSeries\n",
    "from pyrqa.result import RQAResult\n",
    "from pyrqa.opencl import OpenCL\n",
    "from pyrqa.settings import Settings\n",
    "from pyrqa.time_series import TimeSeries\n",
    "from pyrqa.neighbourhood import FixedRadius\n",
    "from pyrqa.settings import Settings\n",
    "from pyrqa.time_series import TimeSeries\n",
    "from pyrqa.neighbourhood import FixedRadius\n",
    "from pyrqa.metric import EuclideanMetric\n",
    "from pyrqa.computation import RQAComputation\n",
    "from pyrqa.metric import EuclideanMetric\n",
    "from pyrqa.computation import RQAComputation\n",
    "from pyrqa.settings import Settings\n",
    "from pyrqa.neighbourhood import FixedRadius\n",
    "from pyrqa.metric import EuclideanMetric\n",
    "from pyrqa.image_generator import ImageGenerator\n",
    "import numpy as np\n",
    "import matplotlib.pyplot as plt\n",
    "from antropy import higuchi_fd"
   ]
  },
  {
   "cell_type": "code",
   "execution_count": null,
   "id": "455e62ab-4fe1-4a8c-88eb-b8157ab39c51",
   "metadata": {},
   "outputs": [],
   "source": [
    "# Load data\n",
    "data = loadmat('/home/vincent/AAA_projects/University/MSc_AI/Final_Project/downsampled/EEG_DS_Struct_0101.mat')"
   ]
  },
  {
   "cell_type": "code",
   "execution_count": null,
   "id": "b6734a54-1d17-4e12-bcc4-3b72632cff0c",
   "metadata": {},
   "outputs": [],
   "source": [
    "DSamp = data['DSamp']\n",
    "\n",
    "triggers = DSamp[0][0][0]\n",
    "EEGdata = DSamp[0][0][1]\n",
    "fs = DSamp[0][0][2][0][0] \n",
    "fsOld = DSamp[0][0][3][0][0] \n",
    "time = DSamp[0][0][4][0]\n",
    "label = DSamp[0][0][5]\n",
    "nchan = DSamp[0][0][6][0][0]\n",
    "rate = DSamp[0][0][7][0][0]\n",
    "npt = DSamp[0][0][8][0][0]\n",
    "Subj = DSamp[0][0][9][0]\n",
    "ptrackerPerf = DSamp[0][0][10]\n",
    "ptrackerTime = DSamp[0][0][11]\n",
    "ptrackerfs = DSamp[0][0][12][0][0]"
   ]
  },
  {
   "cell_type": "code",
   "execution_count": null,
   "id": "ab89b26b-aeb1-4b93-98b3-490b47dc3527",
   "metadata": {},
   "outputs": [],
   "source": [
    "import numpy as np\n",
    "import matplotlib.pyplot as plt\n",
    "from mpl_toolkits.mplot3d import Axes3D\n",
    "\n",
    "# Assume EEGdata is your EEG data as a 1-D numpy array\n",
    "\n",
    "# Normalize the data\n",
    "norm_data = (EEGdata - np.mean(EEGdata)) / np.std(EEGdata)\n",
    "\n",
    "# Use delay embedding to create a 3D dataset from the 1D EEG data\n",
    "# Here, we'll use delay=1\n",
    "delay = 1\n",
    "embedded_data = np.array([norm_data[:-2*delay], norm_data[delay:-delay], norm_data[2*delay:]])\n",
    "\n",
    "# Plot\n",
    "fig = plt.figure()\n",
    "ax = fig.add_subplot(111, projection='3d')\n",
    "ax.plot(embedded_data[0], embedded_data[1], embedded_data[2])\n",
    "plt.show()"
   ]
  },
  {
   "cell_type": "code",
   "execution_count": null,
   "id": "08f49d75-9f19-4c5b-8292-442a5edc62fe",
   "metadata": {},
   "outputs": [],
   "source": []
  }
 ],
 "metadata": {
  "kernelspec": {
   "display_name": "Python 3 (ipykernel)",
   "language": "python",
   "name": "python3"
  },
  "language_info": {
   "codemirror_mode": {
    "name": "ipython",
    "version": 3
   },
   "file_extension": ".py",
   "mimetype": "text/x-python",
   "name": "python",
   "nbconvert_exporter": "python",
   "pygments_lexer": "ipython3",
   "version": "3.9.13"
  }
 },
 "nbformat": 4,
 "nbformat_minor": 5
}
