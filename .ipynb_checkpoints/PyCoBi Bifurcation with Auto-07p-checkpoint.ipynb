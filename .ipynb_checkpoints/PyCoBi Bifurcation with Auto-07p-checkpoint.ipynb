{
 "cells": [
  {
   "cell_type": "markdown",
   "id": "4e2eaa1c-da0f-4b5f-956c-fd60ced43eb2",
   "metadata": {},
   "source": [
    "# PyCoBi Bifurcation with Auto-07p "
   ]
  },
  {
   "cell_type": "code",
   "execution_count": null,
   "id": "e61903f4-ce21-4f94-be9f-f3c6643560fd",
   "metadata": {},
   "outputs": [],
   "source": [
    "from pycobi import \n",
    "\n",
    "# Initialize a PyCoBi object\n",
    "pcb = pycobi()\n",
    "\n",
    "# Use the Hodgkin-Huxley model as your system of ODEs\n",
    "# Assuming the fortran version of the Hodgkin-Huxley model is available in a file named 'hodgkin_huxley.f'\n",
    "pcb.load_equations('hodgkin_huxley.f')\n",
    "\n",
    "# Set the initial conditions and parameters for your system\n",
    "pcb.set_initial_conditions([V_init, 0.05, 0.6, 0.32])\n",
    "\n",
    "# Define your control parameter and its range for the continuation\n",
    "pcb.set_control_parameter('I', start=0, stop=100, step=1)\n",
    "\n",
    "# Run the continuation\n",
    "pcb.run_continuation()\n",
    "\n",
    "# Display the bifurcation diagram\n",
    "pcb.plot_bifurcation_diagram()"
   ]
  }
 ],
 "metadata": {
  "kernelspec": {
   "display_name": "Python 3 (ipykernel)",
   "language": "python",
   "name": "python3"
  },
  "language_info": {
   "codemirror_mode": {
    "name": "ipython",
    "version": 3
   },
   "file_extension": ".py",
   "mimetype": "text/x-python",
   "name": "python",
   "nbconvert_exporter": "python",
   "pygments_lexer": "ipython3",
   "version": "3.9.13"
  }
 },
 "nbformat": 4,
 "nbformat_minor": 5
}
