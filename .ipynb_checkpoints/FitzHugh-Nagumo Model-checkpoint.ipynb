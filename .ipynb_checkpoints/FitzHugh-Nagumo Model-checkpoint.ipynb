{
 "cells": [
  {
   "cell_type": "markdown",
   "id": "52edb0e0-6e37-423b-a36a-8614a5d6e09f",
   "metadata": {},
   "source": [
    "# FitzHugh-Nagumo Model"
   ]
  },
  {
   "cell_type": "code",
   "execution_count": null,
   "id": "739d9348-7d91-4352-9803-0db8fb642bbc",
   "metadata": {},
   "outputs": [],
   "source": [
    "import numpy as np\n",
    "from scipy.integrate import odeint\n",
    "\n",
    "# Define parameters for the FitzHugh-Nagumo model\n",
    "a = 0.7\n",
    "b = 0.8\n",
    "I = 0.5  # Adjust this as necessary\n",
    "\n",
    "# Define the FitzHugh-Nagumo system\n",
    "def fitzhugh_nagumo(y, t):\n",
    "    u, v = y\n",
    "    dydt = [v - u**3/3 + I, -1/a * (u - b + v)]\n",
    "    return dydt\n",
    "\n",
    "# Initialize a list to store the solutions for each channel\n",
    "solutions = []\n",
    "\n",
    "# Solve the ODE system for each channel\n",
    "for chan in range(nchan):\n",
    "    y0 = EEGdata[0][chan], 0.0  # Initial conditions\n",
    "    t = np.linspace(0, len(EEGdata) / fs, len(EEGdata))  # Time points\n",
    "    solution = odeint(fitzhugh_nagumo, y0, t)  # Solve ODE\n",
    "    solutions.append(solution)\n",
    "\n",
    "# Now `solutions` is a list of arrays, each containing the solution for one channel"
   ]
  }
 ],
 "metadata": {
  "kernelspec": {
   "display_name": "Python 3 (ipykernel)",
   "language": "python",
   "name": "python3"
  },
  "language_info": {
   "codemirror_mode": {
    "name": "ipython",
    "version": 3
   },
   "file_extension": ".py",
   "mimetype": "text/x-python",
   "name": "python",
   "nbconvert_exporter": "python",
   "pygments_lexer": "ipython3",
   "version": "3.9.13"
  }
 },
 "nbformat": 4,
 "nbformat_minor": 5
}
