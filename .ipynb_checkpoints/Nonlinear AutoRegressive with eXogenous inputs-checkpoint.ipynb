{
 "cells": [
  {
   "cell_type": "markdown",
   "id": "db8c1c4d-a125-4364-bdad-27b7ea6d6ba1",
   "metadata": {},
   "source": [
    "# Nonlinear AutoRegressive with eXogenous inputs"
   ]
  },
  {
   "cell_type": "code",
   "execution_count": null,
   "id": "598ca9f1-d161-43d6-a3c6-dd3e6729a74a",
   "metadata": {},
   "outputs": [],
   "source": [
    "import torch\n",
    "import torch.nn as nn\n",
    "import matplotlib.pyplot as plt\n",
    "from mpl_toolkits.mplot3d import Axes3D\n",
    "import numpy as np\n",
    "\n",
    "# Load your EEG data here, replace this with actual loading\n",
    "# Assume EEGdata is numpy array of shape (num_electrodes, time_steps)\n",
    "# For example:\n",
    "# EEGdata = np.random.randn(3, 20000)\n",
    "\n",
    "num_electrodes, num_time_steps = EEGdata.shape\n",
    "\n",
    "# Split data into training and testing\n",
    "num_half = num_time_steps // 2\n",
    "train_data = torch.Tensor(EEGdata[:, :num_half-1])\n",
    "train_target = torch.Tensor(EEGdata[:, 1:num_half])\n",
    "test_data = torch.Tensor(EEGdata[:, num_half:num_time_steps-1])\n",
    "\n",
    "class NARX(nn.Module):\n",
    "    def __init__(self, num_electrodes):\n",
    "        super().__init__()\n",
    "        self.fc1 = nn.Linear(num_electrodes, 8)\n",
    "        self.fc2 = nn.Linear(8, num_electrodes)\n",
    "        \n",
    "    def forward(self, x):\n",
    "        x = torch.tanh(self.fc1(x))\n",
    "        x = self.fc2(x)\n",
    "        return x\n",
    "\n",
    "net = NARX(num_electrodes)\n",
    "\n",
    "# Set up training\n",
    "optimizer = torch.optim.SGD(net.parameters(), lr=0.01)\n",
    "criterion = nn.MSELoss()\n",
    "\n",
    "# Training loop\n",
    "for epoch in range(1000):\n",
    "    optimizer.zero_grad()\n",
    "    output = net(train_data.t())\n",
    "    loss = criterion(output, train_target.t())\n",
    "    loss.backward()\n",
    "    optimizer.step()\n",
    "\n",
    "# Testing\n",
    "output = net(test_data.t()).t().detach().numpy()\n",
    "\n",
    "fig = plt.figure()\n",
    "ax = fig.add_subplot(111, projection='3d')\n",
    "\n",
    "ax.plot3D(output[0, :], output[1, :], output[2, :], 'red')\n",
    "ax.plot3D(EEGdata[0, num_half:], EEGdata[1, num_half:], EEGdata[2, num_half:], 'blue')\n",
    "\n",
    "plt.show()"
   ]
  }
 ],
 "metadata": {
  "kernelspec": {
   "display_name": "Python 3 (ipykernel)",
   "language": "python",
   "name": "python3"
  },
  "language_info": {
   "codemirror_mode": {
    "name": "ipython",
    "version": 3
   },
   "file_extension": ".py",
   "mimetype": "text/x-python",
   "name": "python",
   "nbconvert_exporter": "python",
   "pygments_lexer": "ipython3",
   "version": "3.9.13"
  }
 },
 "nbformat": 4,
 "nbformat_minor": 5
}
