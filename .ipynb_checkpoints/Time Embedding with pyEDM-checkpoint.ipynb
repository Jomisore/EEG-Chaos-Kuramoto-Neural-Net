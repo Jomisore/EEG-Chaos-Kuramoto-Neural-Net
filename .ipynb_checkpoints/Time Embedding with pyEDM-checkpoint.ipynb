{
 "cells": [
  {
   "cell_type": "markdown",
   "id": "edc2d64a-d251-492f-adb8-edbc7c4e0406",
   "metadata": {},
   "source": [
    "# Time Embedding with pyEDM"
   ]
  },
  {
   "cell_type": "code",
   "execution_count": null,
   "id": "4723b2b0-74d5-4a09-93d1-bc4f6ea9fb49",
   "metadata": {},
   "outputs": [],
   "source": [
    "import pandas as pd\n",
    "import numpy as np\n",
    "from pyEDM import EmbedDimension\n",
    "\n",
    "# Normalize the data\n",
    "norm_data = (EEGdata - np.mean(EEGdata, axis=0)) / np.std(EEGdata, axis=0)\n",
    "\n",
    "# Convert normalized data to DataFrame\n",
    "df = pd.DataFrame(norm_data)\n",
    "\n",
    "# Define EmbedDimension parameters\n",
    "lib = \"1 100\"\n",
    "pred = \"101 200\"\n",
    "columns = \"0\"\n",
    "target = \"0\"\n",
    "tau = time_delay\n",
    "\n",
    "# Compute embedding\n",
    "embedded = EmbedDimension(dataFrame = df, lib=lib, pred=pred, columns=columns, target=target, tau=tau)\n",
    "embedded.Run()"
   ]
  }
 ],
 "metadata": {
  "kernelspec": {
   "display_name": "Python 3 (ipykernel)",
   "language": "python",
   "name": "python3"
  },
  "language_info": {
   "codemirror_mode": {
    "name": "ipython",
    "version": 3
   },
   "file_extension": ".py",
   "mimetype": "text/x-python",
   "name": "python",
   "nbconvert_exporter": "python",
   "pygments_lexer": "ipython3",
   "version": "3.9.13"
  }
 },
 "nbformat": 4,
 "nbformat_minor": 5
}
