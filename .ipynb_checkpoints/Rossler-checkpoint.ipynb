{
 "cells": [
  {
   "cell_type": "markdown",
   "id": "db9764a0-ec60-492f-bcfb-999c8e9b25de",
   "metadata": {},
   "source": [
    "# Rossler Attractor"
   ]
  },
  {
   "cell_type": "code",
   "execution_count": null,
   "id": "0ab73cd1-7d82-45ff-b8a3-e4e00b3064e1",
   "metadata": {},
   "outputs": [],
   "source": [
    "import numpy as np\n",
    "from matplotlib import pyplot as plt\n",
    "from mpl_toolkits.mplot3d import Axes3D\n",
    "\n",
    "# Assume EEGdata is your EEG data where each row is a channel and each column is a time point\n",
    "# Normalize the data\n",
    "norm_data = (EEGdata - np.mean(EEGdata, axis=0)) / np.std(EEGdata, axis=0)\n",
    "\n",
    "# Each channel is an attractor\n",
    "n = norm_data.shape[0]\n",
    "a = \"rossler\"\n",
    "\n",
    "# Initial coordinates for each attractor\n",
    "# You might want to set this according to your data or analysis method\n",
    "coords = [norm_data[i, :3].tolist() for i in range(n)] \n",
    "\n",
    "# Create a list of n attractor instances\n",
    "attrs = [Attractor(a, coord=coords[i]) for i in range(n)]\n",
    "\n",
    "# Solve the ODE equations and store the generators\n",
    "objs = []\n",
    "for a in attrs:\n",
    "    func = getattr(a, \"rk3\")\n",
    "    objs.append(func(0, simtime, simpoints))\n",
    "\n",
    "# Use plot_multipoint with necessary kwargs\n",
    "ax = Attractor.plot_multipoint(\n",
    "    simpoints - 1,\n",
    "    *objs,\n",
    "    dpi=240,\n",
    "    bgcolor=\"#FFFFFF\",\n",
    "    palette=[\"#616161\", \"#7a7a7a\", \"#2e2e2e\", \"#1c1c1c\"],\n",
    "    linekwargs={\"linewidth\": 0.5, \"alpha\": 0.7},\n",
    "    pointkwargs={\"markersize\": 1}\n",
    ")\n",
    "plt.show()"
   ]
  }
 ],
 "metadata": {
  "kernelspec": {
   "display_name": "Python 3 (ipykernel)",
   "language": "python",
   "name": "python3"
  },
  "language_info": {
   "codemirror_mode": {
    "name": "ipython",
    "version": 3
   },
   "file_extension": ".py",
   "mimetype": "text/x-python",
   "name": "python",
   "nbconvert_exporter": "python",
   "pygments_lexer": "ipython3",
   "version": "3.9.13"
  }
 },
 "nbformat": 4,
 "nbformat_minor": 5
}
