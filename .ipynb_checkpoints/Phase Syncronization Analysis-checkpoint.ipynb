{
 "cells": [
  {
   "cell_type": "markdown",
   "id": "ded0f74b-00f1-485f-a1d4-84939d63ef84",
   "metadata": {},
   "source": [
    "# Phase Synchonization Analysis"
   ]
  },
  {
   "cell_type": "code",
   "execution_count": null,
   "id": "706ead5a-a2b2-4abc-9273-94f6e68cfe24",
   "metadata": {},
   "outputs": [],
   "source": [
    "import numpy as np\n",
    "import matplotlib.pyplot as plt\n",
    "from scipy.signal import hilbert\n",
    "\n",
    "# Load EEG data\n",
    "eeg_data = np.loadtxt(\"eeg_data.txt\")\n",
    "\n",
    "# Define TES stimulation parameters\n",
    "stimulation_params = {\n",
    "    \"frequency\": 10,  # Hz\n",
    "    \"amplitude\": 1.5,  # mA\n",
    "    \"duration\": 5  # minutes\n",
    "}\n",
    "\n",
    "# Calculate phase synchronization for the EEG data and TES stimulation\n",
    "sampling_rate = 1000  # Hz\n",
    "eeg_phase = np.angle(hilbert(eeg_data))\n",
    "\n",
    "stimulation_frequency = stimulation_params[\"frequency\"]\n",
    "stimulation_duration = stimulation_params[\"duration\"] * 60  # Convert to seconds\n",
    "stimulation_waveform = stimulation_params[\"amplitude\"] * np.sin(2 * np.pi * stimulation_frequency * np.arange(stimulation_duration))\n",
    "\n",
    "stimulation_phase = np.angle(hilbert(stimulation_waveform))\n",
    "\n",
    "# Compute the phase difference between EEG data and TES stimulation\n",
    "phase_diff = np.angle(np.exp(1j * (stimulation_phase - eeg_phase)))\n",
    "\n",
    "# Calculate the phase synchronization\n",
    "sync_strength = np.abs(np.mean(np.exp(1j * phase_diff)))\n",
    "\n",
    "# Visualize the results\n",
    "plt.subplot(2, 2, 1)\n",
    "plt.plot(eeg_data)\n",
    "plt.title(\"EEG data\")\n",
    "\n",
    "plt.subplot(2, 2, 2)\n",
    "plt.plot(stimulation_waveform)\n",
    "plt.title(\"TES stimulation\")\n",
    "\n",
    "plt.subplot(2, 2, 3)\n",
    "plt.plot(phase_diff)\n",
    "plt.title(\"Phase difference\")\n",
    "\n",
    "plt.subplot(2, 2, 4)\n",
    "plt.bar([0, 1], [1 - sync_strength, sync_strength])\n",
    "plt.xticks([0, 1], [\"Desynchronized\", \"Synchronized\"])\n",
    "plt.title(\"Phase synchronization\")\n",
    "\n",
    "plt.show()\n",
    "\n",
    "print(\"Phase synchronization strength:\", sync_strength)"
   ]
  }
 ],
 "metadata": {
  "kernelspec": {
   "display_name": "Python 3 (ipykernel)",
   "language": "python",
   "name": "python3"
  },
  "language_info": {
   "codemirror_mode": {
    "name": "ipython",
    "version": 3
   },
   "file_extension": ".py",
   "mimetype": "text/x-python",
   "name": "python",
   "nbconvert_exporter": "python",
   "pygments_lexer": "ipython3",
   "version": "3.9.13"
  }
 },
 "nbformat": 4,
 "nbformat_minor": 5
}
