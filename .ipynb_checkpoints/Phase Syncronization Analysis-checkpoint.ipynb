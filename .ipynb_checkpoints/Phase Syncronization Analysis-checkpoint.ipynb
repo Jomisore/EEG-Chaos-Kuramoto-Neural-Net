{
 "cells": [
  {
   "cell_type": "markdown",
   "id": "ded0f74b-00f1-485f-a1d4-84939d63ef84",
   "metadata": {},
   "source": [
    "# Phase Synchonization Analysis"
   ]
  },
  {
   "cell_type": "markdown",
   "id": "fa614082-88d8-4577-be67-bc889255b4e4",
   "metadata": {},
   "source": [
    "# Phase Locking Values"
   ]
  },
  {
   "cell_type": "code",
   "execution_count": null,
   "id": "cfcc647e-bb42-4b5d-a208-3a81252c3c80",
   "metadata": {},
   "outputs": [],
   "source": [
    "import numpy as np\n",
    "import itertools\n",
    "import matplotlib.pyplot as plt\n",
    "from scipy.signal import hilbert\n",
    "\n",
    "def compute_phase_locking_value(signal1, signal2):\n",
    "    phase1 = np.angle(hilbert(signal1))\n",
    "    phase2 = np.angle(hilbert(signal2))\n",
    "    phase_diff = phase1 - phase2\n",
    "    PLV = abs(np.sum(np.exp(1j * phase_diff))) / len(phase_diff)\n",
    "    return PLV\n",
    "\n",
    "# Load EEG data\n",
    "EEG_data = np.load('/home/vincent/AAA_projects/MVCS/Neuroscience/eeg_data_with_channels.npy', allow_pickle=True)\n",
    "\n",
    "eeg_channel_names = ['Fp1', 'Fpz', 'Fp2', 'F7', 'F3', 'Fz', 'F4', 'F8', 'FC5', 'FC1', 'FC2', 'FC6',\n",
    "                    'M1', 'T7', 'C3', 'Cz', 'C4', 'T8', 'M2', 'CP5', 'CP1', 'CP2', 'CP6',\n",
    "                    'P7', 'P3', 'Pz', 'P4', 'P8', 'POz', 'O1', 'Oz', 'O2']\n",
    "\n",
    "num_channels = len(eeg_channel_names)\n",
    "plv_matrix = np.zeros((num_channels, num_channels))\n",
    "\n",
    "for i, j in itertools.combinations(range(num_channels), 2):\n",
    "    plv_matrix[i, j] = compute_phase_locking_value(EEG_data[:, i], EEG_data[:, j])\n",
    "    plv_matrix[j, i] = plv_matrix[i, j]\n",
    "\n",
    "# Save the PLV matrix\n",
    "save_path = \"/home/vincent/AAA_projects/MVCS/Neuroscience/Analysis/Phase Syncronization/plv_matrix.npy\"\n",
    "np.save(save_path, plv_matrix)\n",
    "\n",
    "# Plot the PLV matrix\n",
    "plt.figure(figsize=(10, 10))\n",
    "plt.imshow(plv_matrix, cmap=\"viridis\", interpolation=\"none\")\n",
    "plt.colorbar(label=\"PLV\")\n",
    "plt.title(\"Phase Locking Value (PLV) between EEG channels\")\n",
    "plt.xticks(np.arange(num_channels), eeg_channel_names, rotation=90)\n",
    "plt.yticks(np.arange(num_channels), eeg_channel_names)\n",
    "\n",
    "# Save the plot\n",
    "plot_save_path = \"/home/vincent/AAA_projects/MVCS/Neuroscience/Analysis/Phase Syncronization/plots/plv_plot.png\"\n",
    "plt.tight_layout()\n",
    "plt.savefig(plot_save_path, dpi=300)\n",
    "plt.show()"
   ]
  },
  {
   "cell_type": "code",
   "execution_count": null,
   "id": "9f3c071d-0209-4539-b8eb-d36fbe8a10d9",
   "metadata": {},
   "outputs": [],
   "source": []
  },
  {
   "cell_type": "code",
   "execution_count": null,
   "id": "05a3b7aa-96da-4ac0-b876-14492f4c6454",
   "metadata": {},
   "outputs": [],
   "source": []
  }
 ],
 "metadata": {
  "kernelspec": {
   "display_name": "Python 3 (ipykernel)",
   "language": "python",
   "name": "python3"
  },
  "language_info": {
   "codemirror_mode": {
    "name": "ipython",
    "version": 3
   },
   "file_extension": ".py",
   "mimetype": "text/x-python",
   "name": "python",
   "nbconvert_exporter": "python",
   "pygments_lexer": "ipython3",
   "version": "3.10.12"
  }
 },
 "nbformat": 4,
 "nbformat_minor": 5
}
