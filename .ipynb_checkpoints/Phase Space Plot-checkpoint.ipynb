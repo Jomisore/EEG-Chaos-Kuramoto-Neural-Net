{
 "cells": [
  {
   "cell_type": "markdown",
   "id": "b8c35949-5602-4336-8f50-d387804ff631",
   "metadata": {},
   "source": [
    "# Phase Space Plot"
   ]
  },
  {
   "cell_type": "code",
   "execution_count": null,
   "id": "f1e1b091-c20d-4d25-b937-47185eeb653a",
   "metadata": {},
   "outputs": [],
   "source": [
    "import numpy as np\n",
    "from sklearn.neighbors import NearestNeighbors\n",
    "\n",
    "channel_data = DSamp[0][0][1]\n",
    "\n",
    "def delay_embedding(data, emb_dim, delay):\n",
    "    N = len(data)\n",
    "    return np.array([data[i:i+emb_dim*delay:delay] for i in range(N - emb_dim * delay + 1)])\n",
    "\n",
    "def false_nearest_neighbors(data, emb_dim, delay, R=10):\n",
    "    N = len(data)\n",
    "    false_neighbors = np.zeros(emb_dim)\n",
    "\n",
    "    for d in range(1, emb_dim + 1):\n",
    "        emb_data = delay_embedding(data, d, delay)\n",
    "        nbrs = NearestNeighbors(n_neighbors=2).fit(emb_data[:-delay])\n",
    "        distances, indices = nbrs.kneighbors(emb_data[:-delay])\n",
    "        neighbor_index = indices[:, 1]\n",
    "        neighbor_distance = np.abs(data[neighbor_index + delay] - data[np.arange(N - d * delay) + delay])\n",
    "        false_neighbors[d - 1] = np.mean((neighbor_distance / distances[:, 1]) > R)\n",
    "\n",
    "    return false_neighbors\n",
    "\n",
    "# Using this function:\n",
    "def delay_embedding(data, emb_dim, delay):\n",
    "    N = len(data)\n",
    "    return np.array([data[i:i+emb_dim*delay:delay].flatten() for i in range(N - emb_dim * delay + 1)])\n",
    "\n",
    "channel_data_flat = channel_data.flatten()\n",
    "fnn = false_nearest_neighbors(channel_data_flat, emb_dim=10, delay=1)\n",
    "\n",
    "\n",
    "# Plot the FNN as a function of embedding dimension\n",
    "plt.figure()\n",
    "plt.plot(np.arange(1, max_dim+1), fnn)\n",
    "plt.xlabel('Embedding Dimension')\n",
    "plt.ylabel('Fraction of False Nearest Neighbors')\n",
    "plt.title('Estimation of Embedding Dimension using FNN Method')\n",
    "plt.show()"
   ]
  },
  {
   "cell_type": "code",
   "execution_count": null,
   "id": "94a04235-ca39-494d-a5ba-b7a0e31c0d98",
   "metadata": {},
   "outputs": [],
   "source": [
    "# Print the results\n",
    "for dim, fnn_fraction in enumerate(fnn, 1):\n",
    "    print(f\"Embedding dimension: {dim}, Fraction of false nearest neighbors: {fnn_fraction:.2f}\")"
   ]
  },
  {
   "cell_type": "code",
   "execution_count": null,
   "id": "1e76d05f-f439-4e4d-a9e9-4dc735107391",
   "metadata": {},
   "outputs": [],
   "source": [
    "import numpy as np\n",
    "import matplotlib.pyplot as plt\n",
    "from mpl_toolkits.mplot3d import Axes3D\n",
    "\n",
    "# Define a function for delay embedding\n",
    "def delay_embedding(data, emb_dim, delay):\n",
    "    N = len(data)\n",
    "    embedded_data = np.zeros((N - (emb_dim - 1) * delay, emb_dim))\n",
    "    for i in range(N - (emb_dim - 1) * delay):\n",
    "        embedded_data[i] = [data[i + j * delay] for j in range(emb_dim)]\n",
    "    return embedded_data\n",
    "\n",
    "# Choose the first channel of your EEG data\n",
    "channel_data = EEGdata[0, :]\n",
    "\n",
    "# Perform delay embedding with embedding dimension 3 and delay 1\n",
    "embedded_channel_data = delay_embedding(channel_data, emb_dim=3, delay=1)\n",
    "\n",
    "# Create 3D plot\n",
    "fig = plt.figure()\n",
    "ax = fig.add_subplot(111, projection='3d')\n",
    "\n",
    "# Change viewing angle\n",
    "ax.view_init(elev=45, azim=21)\n",
    "\n",
    "ax.plot(embedded_channel_data[:, 0], embedded_channel_data[:, 1], embedded_channel_data[:, 2])\n",
    "plt.title('Phase Space Plot')\n",
    "plt.show()"
   ]
  },
  {
   "cell_type": "code",
   "execution_count": null,
   "id": "a915d790-35bf-4a5c-952c-57971195203d",
   "metadata": {},
   "outputs": [],
   "source": [
    "import numpy as np\n",
    "import matplotlib.pyplot as plt\n",
    "\n",
    "# Define a function for delay embedding\n",
    "def delay_embedding(data, emb_dim, delay):\n",
    "    N = len(data)\n",
    "    embedded_data = np.zeros((N - (emb_dim - 1) * delay, emb_dim))\n",
    "    for i in range(N - (emb_dim - 1) * delay):\n",
    "        embedded_data[i] = [data[i + j * delay] for j in range(emb_dim)]\n",
    "    return embedded_data\n",
    "\n",
    "# Choose the first channel of your EEG data\n",
    "channel_data = EEGdata[0, :]\n",
    "\n",
    "# Perform delay embedding with embedding dimension 2 and delay 1\n",
    "embedded_channel_data = delay_embedding(channel_data, emb_dim=2, delay=1)\n",
    "\n",
    "# Create 2D plot\n",
    "plt.figure()\n",
    "plt.plot(embedded_channel_data[:, 0], embedded_channel_data[:, 1])\n",
    "plt.title('Phase Space Plot')\n",
    "plt.xlabel('Embedding Dimension 1')\n",
    "plt.ylabel('Embedding Dimension 2')\n",
    "plt.show()"
   ]
  }
 ],
 "metadata": {
  "kernelspec": {
   "display_name": "Python 3 (ipykernel)",
   "language": "python",
   "name": "python3"
  },
  "language_info": {
   "codemirror_mode": {
    "name": "ipython",
    "version": 3
   },
   "file_extension": ".py",
   "mimetype": "text/x-python",
   "name": "python",
   "nbconvert_exporter": "python",
   "pygments_lexer": "ipython3",
   "version": "3.9.13"
  }
 },
 "nbformat": 4,
 "nbformat_minor": 5
}
