{
 "cells": [
  {
   "cell_type": "markdown",
   "id": "bd8b86b5-6e80-484e-8c51-31073e04e51f",
   "metadata": {},
   "source": [
    "# Particle Swarm Optimization"
   ]
  },
  {
   "cell_type": "code",
   "execution_count": null,
   "id": "e0568441-cd80-4cb8-aa0e-8bea15c646cd",
   "metadata": {},
   "outputs": [],
   "source": [
    "# Define the PSO optimizer\n",
    "def optimize_nn(x, y):\n",
    "    n_input = x.shape[1]\n",
    "    n_output = y.shape[1]\n",
    "    n_hidden_layer1 = int(x.shape[1]/2)\n",
    "    n_hidden_layer2 = int(x.shape[1]/4)\n",
    "\n",
    "    def create_model():\n",
    "        model = keras.models.Sequential([\n",
    "            keras.layers.Dense(n_hidden_layer1, input_shape=[n_input], activation=activation_1),\n",
    "            keras.layers.Dense(n_hidden_layer2, activation=activation_2),\n",
    "            keras.layers.Dense(n_output, activation=activation_3)\n",
    "        ])\n",
    "        optimizer = tf.keras.optimizers.Adam(learning_rate=learning_rate_1)\n",
    "        model.compile(loss='mean_squared_error', optimizer=optimizer)\n",
    "        return model\n",
    "\n",
    "    model = create_model()\n",
    "    history = model.fit(x, y, epochs=50, verbose=0)\n",
    "    y_pred = model.predict(x)\n",
    "    r2 = r2_score(y, y_pred)\n",
    "    return -r2\n",
    "\n",
    "# Define the PSO optimizer\n",
    "def optimize_nn(x, y):\n",
    "    n_input = x.shape[1]\n",
    "    n_output = y.shape[1]\n",
    "    n_hidden_layer1 = int(x.shape[1]/2)\n",
    "    n_hidden_layer2 = int(x.shape[1]/4)\n",
    "\n",
    "    def create_model():\n",
    "        model = keras.models.Sequential([\n",
    "            keras.layers.Dense(n_hidden_layer1, input_shape=[n_input], activation=activation_1),\n",
    "            keras.layers.Dense(n_hidden_layer2, activation=activation_2),\n",
    "            keras.layers.Dense(n_output, activation=activation_3)\n",
    "        ])\n",
    "        optimizer = tf.keras.optimizers.Adam(learning_rate=learning_rate_1)\n",
    "        model.compile(loss='mean_squared_error', optimizer=optimizer)\n",
    "        return model\n",
    "\n",
    "    model = create_model()\n",
    "    history = model.fit(x, y, epochs=50, verbose=0)\n",
    "    y_pred = model.predict(x)\n",
    "    r2 = r2_score(y, y_pred)\n",
    "    return -r2\n",
    "\n",
    "# Define inputs and outputs for the neural network\n",
    "x = eeg_data_with_stimulation\n",
    "y = electrical_stimulation_waveform.reshape(-1, 1)\n",
    "\n",
    "# Define the PSO optimizer\n",
    "optimizer = ps.single.GlobalBestPSO(n_particles=n_particles, dimensions=x.shape[1],\n",
    "                                    options={'c1': 0.5, 'c2': 0.3, 'w':0.9},\n",
    "                                    bounds=[(-1, 1)] * x.shape[1])\n",
    "\n",
    "# Run the PSO optimizer\n",
    "cost, pos = optimizer.optimize(optimize_nn, iters=max_iterations, x=x, y=y)\n",
    "\n",
    "# Train the neural network with the optimized hyperparameters\n",
    "model = optimize_nn(x, y)\n",
    "\n",
    "# Make predictions with the trained neural network\n",
    "y_pred = model.predict(x)"
   ]
  }
 ],
 "metadata": {
  "kernelspec": {
   "display_name": "Python 3 (ipykernel)",
   "language": "python",
   "name": "python3"
  },
  "language_info": {
   "codemirror_mode": {
    "name": "ipython",
    "version": 3
   },
   "file_extension": ".py",
   "mimetype": "text/x-python",
   "name": "python",
   "nbconvert_exporter": "python",
   "pygments_lexer": "ipython3",
   "version": "3.9.13"
  }
 },
 "nbformat": 4,
 "nbformat_minor": 5
}
