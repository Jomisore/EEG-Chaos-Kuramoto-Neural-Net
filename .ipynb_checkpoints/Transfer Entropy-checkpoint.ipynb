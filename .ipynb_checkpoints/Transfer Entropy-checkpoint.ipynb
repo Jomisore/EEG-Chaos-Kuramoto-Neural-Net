{
 "cells": [
  {
   "cell_type": "markdown",
   "id": "d5fbe28d-4457-4e27-a1f8-42054d3128ee",
   "metadata": {},
   "source": [
    "# Transfer Entropy"
   ]
  },
  {
   "cell_type": "markdown",
   "id": "0768493e-e6d9-4597-b1ee-7ed21ce6fed9",
   "metadata": {},
   "source": [
    "### Hemispheric "
   ]
  },
  {
   "cell_type": "code",
   "execution_count": null,
   "id": "3ea16ba9-ae13-464d-8bba-306614803b10",
   "metadata": {},
   "outputs": [],
   "source": []
  },
  {
   "cell_type": "code",
   "execution_count": 6,
   "id": "e426d0f0-05eb-4156-ac8a-d02159a5cfd9",
   "metadata": {},
   "outputs": [
    {
     "name": "stdout",
     "output_type": "stream",
     "text": [
      "Fp1 (4227688, 2)\n",
      "Fpz (4227689, 2)\n",
      "Fp2 (4227689, 2)\n",
      "F7 (4227689, 2)\n",
      "F3 (4227689, 2)\n",
      "Fz (4227689, 2)\n",
      "F4 (4227688, 2)\n",
      "F8 (4227691, 2)\n",
      "FC5 (4227689, 2)\n",
      "FC1 (4227689, 2)\n",
      "FC2 (4227689, 2)\n",
      "FC6 (4227688, 2)\n",
      "M1 (4227689, 2)\n",
      "T7 (4227689, 2)\n",
      "C3 (4227689, 2)\n",
      "Cz (4227689, 2)\n",
      "C4 (4227688, 2)\n",
      "T8 (4227695, 2)\n",
      "M2 (4227689, 2)\n",
      "CP5 (4227689, 2)\n",
      "CP1 (4227745, 2)\n",
      "CP2 (4227689, 2)\n",
      "CP6 (4227725, 2)\n",
      "P7 (4227689, 2)\n",
      "P3 (4227689, 2)\n",
      "Pz (4227689, 2)\n",
      "P4 (4227689, 2)\n",
      "P8 (4227689, 2)\n",
      "POz (4227689, 2)\n",
      "O1 (4227689, 2)\n",
      "Oz (4227689, 2)\n",
      "O2 (4227689, 2)\n"
     ]
    }
   ],
   "source": [
    "for channel, data in zip(eeg_channels, embedding_data_list_2D):\n",
    "    print(channel, data.shape)\n"
   ]
  },
  {
   "cell_type": "code",
   "execution_count": null,
   "id": "9346d482-d77e-4dc2-ba87-2c4402c38eee",
   "metadata": {},
   "outputs": [],
   "source": [
    "import zipfile\n",
    "import numpy as np\n",
    "import os\n",
    "import shutil\n",
    "from pyinform import transfer_entropy\n",
    "\n",
    "# Path to the zipped 2D embedded data\n",
    "zip_file_path = '/home/vincent/AAA_projects/MVCS/Neuroscience/Analysis/Phase Space/2dembedded_data.zip'\n",
    "extraction_dir = '/home/vincent/AAA_projects/MVCS/Neuroscience/Analysis/Phase Space/temp_extraction'\n",
    "\n",
    "# Extract zipped data to a temporary directory\n",
    "with zipfile.ZipFile(zip_file_path, 'r') as zipf:\n",
    "    zipf.extractall(extraction_dir)\n",
    "\n",
    "eeg_channels = ['Fp1', 'Fpz', 'Fp2', 'F7', 'F3', 'Fz', 'F4', 'F8', 'FC5', 'FC1', 'FC2', 'FC6',\n",
    "                'M1', 'T7', 'C3', 'Cz', 'C4', 'T8', 'M2', 'CP5', 'CP1', 'CP2', 'CP6',\n",
    "                'P7', 'P3', 'Pz', 'P4', 'P8', 'POz', 'O1', 'Oz', 'O2']\n",
    "\n",
    "# Set the desired length\n",
    "desired_length = 4227688\n",
    "\n",
    "# Trim each array in embedding_data_list_2D to desired_length\n",
    "embedding_data_list_2D_trimmed = [data[:desired_length] for data in embedding_data_list_2D]\n",
    "\n",
    "left_channels = ['Fp1', 'F7', 'F3', 'FC5', 'M1', 'T7', 'C3', 'CP5', 'P7', 'P3', 'O1']\n",
    "right_channels = ['Fp2', 'F8', 'F4', 'FC6', 'M2', 'T8', 'C4', 'CP6', 'P8', 'P4', 'O2']\n",
    "central_channels = ['Fpz', 'Fz', 'FC1', 'FC2', 'Cz', 'CP1', 'CP2', 'Pz', 'POz', 'Oz']\n",
    "\n",
    "# Cleanup: Optionally remove the extraction directory after loading the data\n",
    "# shutil.rmtree(extraction_dir) \n",
    "\n",
    "# Group channels by hemisphere\n",
    "left_indices = [eeg_channels.index(ch) for ch in left_channels]\n",
    "right_indices = [eeg_channels.index(ch) for ch in right_channels]\n",
    "\n",
    "# Average the embedded data for each hemisphere\n",
    "left_embedding_avg = np.mean([embedding_data_list_2D[i] for i in left_indices], axis=0)\n",
    "right_embedding_avg = np.mean([embedding_data_list_2D[i] for i in right_indices], axis=0)\n",
    "\n",
    "# Use one of the dimensions (e.g., x-coordinate) for Transfer Entropy calculation\n",
    "left_data = left_embedding_avg[:, 0]\n",
    "right_data = right_embedding_avg[:, 0]\n",
    "\n",
    "# Compute Transfer Entropy\n",
    "k, l, m = 1, 1, 1\n",
    "TE_left_to_right = transfer_entropy(left_data, right_data, k, l, m)\n",
    "TE_right_to_left = transfer_entropy(right_data, left_data, k, l, m)\n",
    "\n",
    "print(f\"Transfer Entropy from Left to Right (2D embeddings): {TE_left_to_right}\")\n",
    "print(f\"Transfer Entropy from Right to Left (2D embeddings): {TE_right_to_left}\")\n"
   ]
  },
  {
   "cell_type": "markdown",
   "id": "5562f44a-2d28-48c3-8736-939618be582b",
   "metadata": {},
   "source": [
    "### Regional"
   ]
  },
  {
   "cell_type": "code",
   "execution_count": null,
   "id": "06967019-13aa-471c-8ac4-daa08010ca88",
   "metadata": {},
   "outputs": [],
   "source": []
  },
  {
   "cell_type": "markdown",
   "id": "9c45709a-aa4c-4f1f-a5df-f0375c46c62e",
   "metadata": {},
   "source": [
    "### Full Granularity"
   ]
  },
  {
   "cell_type": "code",
   "execution_count": null,
   "id": "3d601414-db65-4f2b-ae89-34c632322a07",
   "metadata": {},
   "outputs": [],
   "source": []
  },
  {
   "cell_type": "code",
   "execution_count": null,
   "id": "b8d45dd3-633f-495e-91ff-bd04aa9f3c85",
   "metadata": {},
   "outputs": [],
   "source": []
  },
  {
   "cell_type": "code",
   "execution_count": null,
   "id": "d5ce2e49-53a3-4f71-84f1-715d14557b2e",
   "metadata": {},
   "outputs": [],
   "source": [
    "def phase_randomize(ts):\n",
    "    ts_randomized = np.empty_like(ts)\n",
    "    for i in range(ts.shape[0]):\n",
    "        # Fourier transform\n",
    "        ts_fourier = np.fft.rfft(ts[i])\n",
    "\n",
    "        # Generate random phases\n",
    "        random_phases = np.exp(1j * np.random.uniform(0, 2*np.pi, len(ts[i]) // 2 + 1))\n",
    "\n",
    "        # Apply the random phases to the Fourier transform\n",
    "        ts_fourier_randomized = ts_fourier * random_phases\n",
    "\n",
    "        # Inverse Fourier transform\n",
    "        ts_randomized[i] = np.fft.irfft(ts_fourier_randomized, len(ts[i]))\n",
    "        \n",
    "    return ts_randomized"
   ]
  }
 ],
 "metadata": {
  "kernelspec": {
   "display_name": "Python 3 (ipykernel)",
   "language": "python",
   "name": "python3"
  },
  "language_info": {
   "codemirror_mode": {
    "name": "ipython",
    "version": 3
   },
   "file_extension": ".py",
   "mimetype": "text/x-python",
   "name": "python",
   "nbconvert_exporter": "python",
   "pygments_lexer": "ipython3",
   "version": "3.10.12"
  }
 },
 "nbformat": 4,
 "nbformat_minor": 5
}
