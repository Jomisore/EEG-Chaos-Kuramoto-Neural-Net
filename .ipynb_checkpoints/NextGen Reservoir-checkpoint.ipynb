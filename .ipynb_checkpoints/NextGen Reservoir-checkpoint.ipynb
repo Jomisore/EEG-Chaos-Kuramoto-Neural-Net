{
 "cells": [
  {
   "cell_type": "code",
   "execution_count": null,
   "id": "2a8d03d9-8ba4-4955-ace5-11ff03bf18a2",
   "metadata": {},
   "outputs": [],
   "source": [
    "from sklearn.model_selection import train_test_split\n",
    "from sklearn.metrics import mean_squared_error\n",
    "\n",
    "# Assume EEGdata is your EEG data and stimulation_data is the stimulation data\n",
    "\n",
    "# Normalize your data\n",
    "EEGdata_norm = (EEGdata - np.mean(EEGdata)) / np.std(EEGdata)\n",
    "stimulation_data_norm = (stimulation_data - np.mean(stimulation_data)) / np.std(stimulation_data)\n",
    "\n",
    "# Split data into training and testing sets\n",
    "X_train, X_test, y_train, y_test = train_test_split(EEGdata_norm, stimulation_data_norm, test_size=0.2, random_state=42)\n",
    "\n",
    "# Initialize an Echo State Network\n",
    "esn = ESN(n_inputs = 1,\n",
    "          n_outputs = 1,\n",
    "          n_reservoir = 500,  # Size of the reservoir\n",
    "          spectral_radius = 1.5,  # Spectral radius of the reservoir's weight matrix\n",
    "          noise=0.001,\n",
    "          random_state=42)\n",
    "\n",
    "# Train the ESN\n",
    "pred_train = esn.fit(X_train, y_train)\n",
    "\n",
    "# Predict on the test set\n",
    "y_pred = esn.predict(X_test)\n",
    "\n",
    "# Evaluate the prediction\n",
    "mse = mean_squared_error(y_test, y_pred)\n",
    "print(f\"Mean Squared Error: {mse}\")"
   ]
  }
 ],
 "metadata": {
  "kernelspec": {
   "display_name": "Python 3 (ipykernel)",
   "language": "python",
   "name": "python3"
  },
  "language_info": {
   "codemirror_mode": {
    "name": "ipython",
    "version": 3
   },
   "file_extension": ".py",
   "mimetype": "text/x-python",
   "name": "python",
   "nbconvert_exporter": "python",
   "pygments_lexer": "ipython3",
   "version": "3.10.12"
  }
 },
 "nbformat": 4,
 "nbformat_minor": 5
}
