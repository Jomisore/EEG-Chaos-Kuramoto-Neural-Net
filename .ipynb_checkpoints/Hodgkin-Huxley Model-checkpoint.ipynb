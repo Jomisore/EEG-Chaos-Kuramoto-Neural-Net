{
 "cells": [
  {
   "cell_type": "markdown",
   "id": "9c933b2a-d33c-453a-a573-bf96e7a40fbb",
   "metadata": {},
   "source": [
    "# Hodgkin-Huxley Model"
   ]
  },
  {
   "cell_type": "code",
   "execution_count": null,
   "id": "d3f23238-24da-438b-8ef3-1fb8cd3294e0",
   "metadata": {},
   "outputs": [],
   "source": [
    "import numpy as np\n",
    "from scipy.integrate import odeint\n",
    "\n",
    "# Constants for Hodgkin-Huxley model (in SI units)\n",
    "Cm = 1.0 * 10**-6  # membrane capacitance, in Farads\n",
    "g_Na = 120.0 * 10**-3  # maximum conducances, in Siemens\n",
    "g_K = 36.0 * 10**-3\n",
    "g_L = 0.3 * 10**-3\n",
    "E_Na = 50.0  # Nernst reversal potentials, in mV\n",
    "E_K = -77.0\n",
    "E_L = -54.387\n",
    "I = 10 * 10**-6  # constant input current in Ampere\n",
    "V_min = -100  # Minimum potential, in mV\n",
    "V_max = +50   # Maximum potential, in mV\n",
    "\n",
    "# Hodgkin-Huxley equations\n",
    "def alpha_m(V): return 0.1*(V+40.0)/(1.0 - np.exp(-(V+40.0) / 10.0))\n",
    "def beta_m(V): return 4.0*np.exp(-(V+65.0) / 18.0)\n",
    "def alpha_h(V): return 0.07*np.exp(-(V+65.0) / 20.0)\n",
    "def beta_h(V): return 1.0/(1.0 + np.exp(-(V+35.0) / 10.0))\n",
    "def alpha_n(V): return 0.01*(V+55.0)/(1.0 - np.exp(-(V+55.0) / 10.0))\n",
    "def beta_n(V): return 0.125*np.exp(-(V+65) / 80.0)\n",
    "\n",
    "def hodgkin_huxley(y, t):\n",
    "    V, m, h, n = y\n",
    "    dVdt = (I - g_Na*m**3*h*(V - E_Na) - g_K*n**4*(V - E_K) - g_L*(V - E_L)) / Cm\n",
    "    dmdt = alpha_m(V)*(1.0-m) - beta_m(V)*m\n",
    "    dhdt = alpha_h(V)*(1.0-h) - beta_h(V)*h\n",
    "    dndt = alpha_n(V)*(1.0-n) - beta_n(V)*n\n",
    "    return [dVdt, dmdt, dhdt, dndt]\n",
    "\n",
    "# Initialize a list to store the solutions for each channel\n",
    "solutions = []\n",
    "\n",
    "# Solve the ODE system for each channel\n",
    "for chan in range(nchan):\n",
    "    V_init = EEGdata[0][chan] / 1000  # if EEG data is in microvolts\n",
    "    y0 = V_init, 0.05, 0.6, 0.32  # Updated Initial conditions\n",
    "    print(\"Initial conditions for channel {}: V = {}, m = {}, h = {}, n = {}\".format(chan, y0[0], y0[1], y0[2], y0[3]))\n",
    "\n",
    "    t = np.linspace(0, len(EEGdata) / fs, len(EEGdata))  # Time points\n",
    "    solution = odeint(hodgkin_huxley, y0, t)  # Solve ODE\n",
    "    solution[:, 0] = np.clip(solution[:, 0], V_min, V_max)  # Clip V\n",
    "\n",
    "    solutions.append(solution)"
   ]
  },
  {
   "cell_type": "code",
   "execution_count": null,
   "id": "3086bb7e-b3f2-4944-8027-a05db8827c35",
   "metadata": {
    "tags": []
   },
   "outputs": [],
   "source": [
    "import matplotlib.pyplot as plt\n",
    "\n",
    "# Get the solution for channel 0\n",
    "solution = solutions[0]\n",
    "\n",
    "# Time points\n",
    "t = np.linspace(0, len(EEGdata) / fs, len(EEGdata))\n",
    "\n",
    "# Plot the voltage over time\n",
    "plt.plot(t, solution[:, 0])\n",
    "plt.xlabel('Time (s)')\n",
    "plt.ylabel('Voltage (mV)')\n",
    "plt.title('Voltage over time for channel 0')\n",
    "plt.show()"
   ]
  },
  {
   "cell_type": "code",
   "execution_count": null,
   "id": "9a385c25-4b7a-49d7-a972-a3fc0b5e5300",
   "metadata": {},
   "outputs": [],
   "source": [
    "V_init = EEGdata[0][chan] / 1000  # if EEG data is in microvolts\n",
    "\n",
    "\n",
    "y0 = V_init, 0.05, 0.6, 0.32"
   ]
  },
  {
   "cell_type": "code",
   "execution_count": null,
   "id": "2153ae96-c71f-446f-aa8d-1a952ff20c5b",
   "metadata": {},
   "outputs": [],
   "source": [
    "print(\"Initial conditions for channel {}: V = {}, m = {}, h = {}, n = {}\".format(chan, y0[0], y0[1], y0[2], y0[3]))"
   ]
  }
 ],
 "metadata": {
  "kernelspec": {
   "display_name": "Python 3 (ipykernel)",
   "language": "python",
   "name": "python3"
  },
  "language_info": {
   "codemirror_mode": {
    "name": "ipython",
    "version": 3
   },
   "file_extension": ".py",
   "mimetype": "text/x-python",
   "name": "python",
   "nbconvert_exporter": "python",
   "pygments_lexer": "ipython3",
   "version": "3.9.13"
  }
 },
 "nbformat": 4,
 "nbformat_minor": 5
}
