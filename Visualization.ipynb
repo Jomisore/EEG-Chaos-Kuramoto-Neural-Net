{
 "cells": [
  {
   "cell_type": "markdown",
   "id": "b8bd3ba2-b5b1-4f47-9b14-e1c4b3fa4ac9",
   "metadata": {},
   "source": [
    "# Visualisation"
   ]
  },
  {
   "cell_type": "code",
   "execution_count": 1,
   "id": "5f5150c2-19d5-498d-8ee0-57a2edcb83a2",
   "metadata": {},
   "outputs": [
    {
     "name": "stdout",
     "output_type": "stream",
     "text": [
      "numpy: 1.24.3\n",
      "matplotlib: 3.7.0\n",
      "scipy: 1.10.1\n",
      "torch: 2.0.1+cu117\n",
      "torchdiffeq: 0.2.3\n",
      "torchsummary: Unknown version\n",
      "minepy: b'1.2.6'\n",
      "pyrqa: Unknown version\n",
      "pyts: 0.12.0\n",
      "MFDFA: 0.4.3\n",
      "pyinform: Unknown version\n",
      "graphviz: 0.20.1\n",
      "fa2 is not installed.\n",
      "networkx: 3.0\n"
     ]
    }
   ],
   "source": [
    "import importlib\n",
    "\n",
    "# List of libraries to check\n",
    "libraries = [\n",
    "    'numpy',\n",
    "    'matplotlib',\n",
    "    'scipy',\n",
    "    'torch',\n",
    "    'torchdiffeq',\n",
    "    'torchsummary',\n",
    "    'minepy',\n",
    "    'pyrqa',\n",
    "    'pyts',\n",
    "    'MFDFA',\n",
    "    'pyinform',\n",
    "    'graphviz',\n",
    "    'fa2',\n",
    "    'networkx'\n",
    "]\n",
    "\n",
    "for lib in libraries:\n",
    "    try:\n",
    "        module = importlib.import_module(lib)\n",
    "        version = getattr(module, '__version__', 'Unknown version')\n",
    "        print(f'{lib}: {version}')\n",
    "    except ImportError:\n",
    "        print(f'{lib} is not installed.')"
   ]
  },
  {
   "cell_type": "markdown",
   "id": "d4da8316-f8aa-45c8-9171-b3062b213876",
   "metadata": {},
   "source": [
    "Here we are visualising the data in different ways"
   ]
  },
  {
   "cell_type": "code",
   "execution_count": 2,
   "id": "4f078599-b866-4bde-aa7d-0da623b44ba3",
   "metadata": {},
   "outputs": [
    {
     "name": "stderr",
     "output_type": "stream",
     "text": [
      "/home/vincent/miniconda3/lib/python3.10/site-packages/antropy/fractal.py:197: NumbaDeprecationWarning: \u001b[1mThe 'nopython' keyword argument was not supplied to the 'numba.jit' decorator. The implicit default value for this argument is currently False, but it will be changed to True in Numba 0.59.0. See https://numba.readthedocs.io/en/stable/reference/deprecation.html#deprecation-of-object-mode-fall-back-behaviour-when-using-jit for details.\u001b[0m\n",
      "  @jit((types.Array(types.float64, 1, \"C\", readonly=True), types.int32))\n"
     ]
    }
   ],
   "source": [
    "import numpy as np\n",
    "import nolds\n",
    "import scipy.io\n",
    "import mne\n",
    "import pandas as pd\n",
    "import seaborn as sns\n",
    "import pyqtgraph as pg\n",
    "from scipy.io import loadmat\n",
    "from scipy import stats\n",
    "import matplotlib.pyplot as plt\n",
    "import antropy as ent\n",
    "from antropy import higuchi_fd\n",
    "from pyrqa.settings import Settings\n",
    "from pyrqa.neighbourhood import FixedRadius\n",
    "from pyrqa.computation import RQAComputation\n",
    "from pyrqa.time_series import TimeSeries\n",
    "from pyrqa.result import RQAResult\n",
    "from pyrqa.opencl import OpenCL\n",
    "from pyrqa.settings import Settings\n",
    "from pyrqa.time_series import TimeSeries\n",
    "from pyrqa.neighbourhood import FixedRadius\n",
    "from pyrqa.settings import Settings\n",
    "from pyrqa.time_series import TimeSeries\n",
    "from pyrqa.neighbourhood import FixedRadius\n",
    "from pyrqa.metric import EuclideanMetric\n",
    "from pyrqa.computation import RQAComputation\n",
    "from pyrqa.metric import EuclideanMetric\n",
    "from pyrqa.computation import RQAComputation\n",
    "from pyrqa.settings import Settings\n",
    "from pyrqa.neighbourhood import FixedRadius\n",
    "from pyrqa.metric import EuclideanMetric\n",
    "from pyrqa.image_generator import ImageGenerator\n",
    "import numpy as np\n",
    "import matplotlib.pyplot as plt\n",
    "from antropy import higuchi_fd\n",
    "import os"
   ]
  },
  {
   "cell_type": "code",
   "execution_count": 17,
   "id": "efd95318-43ab-4cf4-a235-db013e0151b1",
   "metadata": {},
   "outputs": [
    {
     "name": "stdout",
     "output_type": "stream",
     "text": [
      "Autoregressive Data Shape: (30000,)\n",
      "Band Power Data Shape: ()\n",
      "FFT Data Shape: ()\n",
      "Lomb-Scargle Data Shape: ()\n",
      "Peak Frequencies Data Shape: ()\n",
      "STFT Data Shape: ()\n",
      "Spectral Centroids Data Shape: ()\n",
      "Spectral Edge Densities Data Shape: ()\n",
      "Spectral Entropy Data Shape: ()\n",
      "Welch's Data Shape: (4,)\n",
      "EEG DataFrame Shape: (4227788, 32)\n"
     ]
    }
   ],
   "source": [
    "# Load data from numpy files\n",
    "autoregressive_data = np.load('/home/vincent/AAA_projects/MVCS/Neuroscience/Analysis/Spectral Analysis/AutoRegressive_x.npy', allow_pickle=True)\n",
    "band_power_data_array = np.load('/home/vincent/AAA_projects/MVCS/Neuroscience/Analysis/Spectral Analysis/BandPower_x.npy', allow_pickle=True)\n",
    "fft_data = np.load('/home/vincent/AAA_projects/MVCS/Neuroscience/Analysis/Spectral Analysis/combined_fft_psd_x.npy', allow_pickle=True)\n",
    "lomb_scargle_data = np.load('/home/vincent/AAA_projects/MVCS/Neuroscience/Analysis/Spectral Analysis/LombScarglePeriodograms_x.npy', allow_pickle=True)\n",
    "peak_frequencies_data = np.load('/home/vincent/AAA_projects/MVCS/Neuroscience/Analysis/Spectral Analysis/PeakFrequencies_x.npy', allow_pickle=True)\n",
    "stft_data = np.load('/home/vincent/AAA_projects/MVCS/Neuroscience/Analysis/Spectral Analysis/STFT_x.npy', allow_pickle=True)\n",
    "spectral_centroids_data = np.load('/home/vincent/AAA_projects/MVCS/Neuroscience/Analysis/Spectral Analysis/SpectralCentroids_x.npy', allow_pickle=True)\n",
    "spectral_edge_densities_data = np.load('/home/vincent/AAA_projects/MVCS/Neuroscience/Analysis/Spectral Analysis/SpectralEdgeDensities_x.npy', allow_pickle=True)\n",
    "spectral_entropy_data = np.load('/home/vincent/AAA_projects/MVCS/Neuroscience/Analysis/Spectral Analysis/SpectralEntropy_x.npy', allow_pickle=True)\n",
    "welchs_data = np.load('/home/vincent/AAA_projects/MVCS/Neuroscience/Analysis/Spectral Analysis/welchs_x.npy', allow_pickle=True)\n",
    "EEG_data = np.load('/home/vincent/AAA_projects/MVCS/Neuroscience/eeg_data_with_channels.npy', allow_pickle=True)\n",
    "\n",
    "\n",
    "# Print the shape of each dataset\n",
    "print(\"Autoregressive Data Shape:\", autoregressive_data.shape)\n",
    "print(\"Band Power Data Shape:\", band_power_data.shape)\n",
    "print(\"FFT Data Shape:\", fft_data.shape)\n",
    "print(\"Lomb-Scargle Data Shape:\", lomb_scargle_data.shape)\n",
    "print(\"Peak Frequencies Data Shape:\", peak_frequencies_data.shape)\n",
    "print(\"STFT Data Shape:\", stft_data.shape)\n",
    "print(\"Spectral Centroids Data Shape:\", spectral_centroids_data.shape)\n",
    "print(\"Spectral Edge Densities Data Shape:\", spectral_edge_densities_data.shape)\n",
    "print(\"Spectral Entropy Data Shape:\", spectral_entropy_data.shape)\n",
    "print(\"Welch's Data Shape:\", welchs_data.shape)\n",
    "print(\"EEG DataFrame Shape:\", EEG_data.shape)"
   ]
  },
  {
   "cell_type": "code",
   "execution_count": null,
   "id": "c495b94a-28e9-4772-8217-2dba0b90f398",
   "metadata": {},
   "outputs": [],
   "source": [
    "import numpy as np\n",
    "\n",
    "# Load the Welch's PSD data from the .npy file\n",
    "psd_data = np.load('/home/vincent/AAA_projects/MVCS/Neuroscience/Analysis/Spectral Analysis/psd_x.npy', allow_pickle=True).item()\n",
    "\n",
    "# List of EEG channel names\n",
    "eeg_channels = ['Fp1', 'Fpz', 'Fp2', 'F7', 'F3', 'Fz', 'F4', 'F8', 'FC5', 'FC1', 'FC2', 'FC6',\n",
    "                'M1', 'T7', 'C3', 'Cz', 'C4', 'T8', 'M2', 'CP5', 'CP1', 'CP2', 'CP6',\n",
    "                'P7', 'P3', 'Pz', 'P4', 'P8', 'POz', 'O1', 'Oz', 'O2']\n",
    "\n",
    "# Print the head of the PSD data for each EEG channel\n",
    "for channel in eeg_channels:\n",
    "    psd_values = psd_data[channel]\n",
    "    print(f'PSD values for EEG Channel {channel}:')\n",
    "    print(psd_values[:10])  # Print the first 10 values of the PSD\n",
    "    print('---')"
   ]
  },
  {
   "cell_type": "code",
   "execution_count": null,
   "id": "dd8e10b8-0ae2-4a2d-951e-565ba142851b",
   "metadata": {},
   "outputs": [],
   "source": []
  },
  {
   "cell_type": "code",
   "execution_count": 20,
   "id": "06623cfe-47b8-4664-a06e-ed2ecf2a0395",
   "metadata": {},
   "outputs": [
    {
     "ename": "IndexError",
     "evalue": "too many indices for array: array is 0-dimensional, but 2 were indexed",
     "output_type": "error",
     "traceback": [
      "\u001b[0;31m---------------------------------------------------------------------------\u001b[0m",
      "\u001b[0;31mIndexError\u001b[0m                                Traceback (most recent call last)",
      "Cell \u001b[0;32mIn[20], line 17\u001b[0m\n\u001b[1;32m     13\u001b[0m \u001b[38;5;66;03m# Plot the data for each EEG channel\u001b[39;00m\n\u001b[1;32m     14\u001b[0m \u001b[38;5;28;01mfor\u001b[39;00m channel \u001b[38;5;129;01min\u001b[39;00m eeg_channels:\n\u001b[1;32m     15\u001b[0m     \u001b[38;5;66;03m# Get the values for the current EEG channel from different analysis data\u001b[39;00m\n\u001b[1;32m     16\u001b[0m     values \u001b[38;5;241m=\u001b[39m [\n\u001b[0;32m---> 17\u001b[0m         \u001b[43mband_power_data_array\u001b[49m\u001b[43m[\u001b[49m\u001b[43m:\u001b[49m\u001b[43m,\u001b[49m\u001b[43m \u001b[49m\u001b[43meeg_channels\u001b[49m\u001b[38;5;241;43m.\u001b[39;49m\u001b[43mindex\u001b[49m\u001b[43m(\u001b[49m\u001b[43mchannel\u001b[49m\u001b[43m)\u001b[49m\u001b[43m]\u001b[49m,  \u001b[38;5;66;03m# Band power data\u001b[39;00m\n\u001b[1;32m     18\u001b[0m         autoregressive_data[channel],\n\u001b[1;32m     19\u001b[0m         fft_data[channel],\n\u001b[1;32m     20\u001b[0m         lomb_scargle_data[channel],\n\u001b[1;32m     21\u001b[0m         peak_frequencies_data[channel],\n\u001b[1;32m     22\u001b[0m         stft_data[channel],\n\u001b[1;32m     23\u001b[0m         spectral_centroids_data[channel],\n\u001b[1;32m     24\u001b[0m         spectral_edge_densities_data[channel],\n\u001b[1;32m     25\u001b[0m         spectral_entropy_data[channel],\n\u001b[1;32m     26\u001b[0m         welchs_data[channel],\n\u001b[1;32m     27\u001b[0m     ]\n\u001b[1;32m     29\u001b[0m     \u001b[38;5;66;03m# Plot the data as a polar plot\u001b[39;00m\n\u001b[1;32m     30\u001b[0m     angles \u001b[38;5;241m=\u001b[39m np\u001b[38;5;241m.\u001b[39mlinspace(\u001b[38;5;241m0\u001b[39m, \u001b[38;5;241m2\u001b[39m \u001b[38;5;241m*\u001b[39m np\u001b[38;5;241m.\u001b[39mpi, \u001b[38;5;28mlen\u001b[39m(values), endpoint\u001b[38;5;241m=\u001b[39m\u001b[38;5;28;01mFalse\u001b[39;00m)\n",
      "\u001b[0;31mIndexError\u001b[0m: too many indices for array: array is 0-dimensional, but 2 were indexed"
     ]
    },
    {
     "data": {
      "image/png": "[encoded data removed]",
      "text/plain": [
       "<Figure size 640x480 with 1 Axes>"
      ]
     },
     "metadata": {},
     "output_type": "display_data"
    }
   ],
   "source": [
    "import numpy as np\n",
    "import matplotlib.pyplot as plt\n",
    "\n",
    "# Get the list of all EEG channel names\n",
    "eeg_channels = ['Fp1', 'Fp2', 'F7', 'F3', 'Fz', 'F4', 'F8', 'FC5', 'FC1', 'FC2', 'FC6',\n",
    "                'M1', 'T7', 'C3', 'Cz', 'C4', 'T8', 'M2', 'CP5', 'CP1', 'CP2', 'CP6',\n",
    "                'P7', 'P3', 'Pz', 'P4', 'P8', 'POz', 'O1', 'Oz', 'O2', 'Fpz']\n",
    "\n",
    "# Create a circular plot\n",
    "fig, ax = plt.subplots(subplot_kw={'projection': 'polar'})\n",
    "ax.set_facecolor('black')  # Set black background\n",
    "\n",
    "# Plot the data for each EEG channel\n",
    "for channel in eeg_channels:\n",
    "    # Get the values for the current EEG channel from different analysis data\n",
    "    values = [\n",
    "        band_power_data_array[:, eeg_channels.index(channel)],  # Band power data\n",
    "        autoregressive_data[channel],\n",
    "        fft_data[channel],\n",
    "        lomb_scargle_data[channel],\n",
    "        peak_frequencies_data[channel],\n",
    "        stft_data[channel],\n",
    "        spectral_centroids_data[channel],\n",
    "        spectral_edge_densities_data[channel],\n",
    "        spectral_entropy_data[channel],\n",
    "        welchs_data[channel],\n",
    "    ]\n",
    "\n",
    "    # Plot the data as a polar plot\n",
    "    angles = np.linspace(0, 2 * np.pi, len(values), endpoint=False)\n",
    "    values = np.concatenate((values, [values[0]]))  # Close the plot\n",
    "    angles = np.concatenate((angles, [angles[0]]))  # Close the plot\n",
    "    ax.plot(angles, values, linewidth=2, label=channel)\n",
    "\n",
    "# Customize the appearance of the plot (colors, line styles, etc.) for the artistic/psychedelic style\n",
    "# (You can modify the plot appearance to your preference)\n",
    "\n",
    "# Add labels, titles, or annotations if needed\n",
    "\n",
    "# Add a legend to the plot\n",
    "ax.legend(loc='upper right', bbox_to_anchor=(1.3, 1.0))\n",
    "\n",
    "# Save the plot as an image file\n",
    "plt.savefig(\"circular_plot.png\", dpi=300, facecolor='black')\n",
    "\n",
    "# Show the plot\n",
    "plt.show()\n"
   ]
  },
  {
   "cell_type": "code",
   "execution_count": 21,
   "id": "c75e967f-a7ff-4507-a685-09d46f65163c",
   "metadata": {},
   "outputs": [
    {
     "name": "stdout",
     "output_type": "stream",
     "text": [
      "()\n"
     ]
    }
   ],
   "source": [
    "print(band_power_data_array.shape)\n"
   ]
  },
  {
   "cell_type": "code",
   "execution_count": 16,
   "id": "d3922180-3fc1-46d2-bb85-f139e5a173f6",
   "metadata": {},
   "outputs": [
    {
     "name": "stdout",
     "output_type": "stream",
     "text": [
      "Shape of autoregressive_data: (30000,)\n",
      "First value in autoregressive_data: -17355.23130181053\n"
     ]
    }
   ],
   "source": [
    "print(\"Shape of autoregressive_data:\", autoregressive_data.shape)\n",
    "print(\"First value in autoregressive_data:\", autoregressive_data[0])\n"
   ]
  },
  {
   "cell_type": "code",
   "execution_count": null,
   "id": "a5174b16-7041-4eca-a7af-112b2a305463",
   "metadata": {},
   "outputs": [],
   "source": []
  }
 ],
 "metadata": {
  "kernelspec": {
   "display_name": "Python 3 (ipykernel)",
   "language": "python",
   "name": "python3"
  },
  "language_info": {
   "codemirror_mode": {
    "name": "ipython",
    "version": 3
   },
   "file_extension": ".py",
   "mimetype": "text/x-python",
   "name": "python",
   "nbconvert_exporter": "python",
   "pygments_lexer": "ipython3",
   "version": "3.10.12"
  }
 },
 "nbformat": 4,
 "nbformat_minor": 5
}
