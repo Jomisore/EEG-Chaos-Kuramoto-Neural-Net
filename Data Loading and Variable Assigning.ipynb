{
 "cells": [
  {
   "cell_type": "code",
   "execution_count": 1,
   "id": "f3abfd51-c111-42f3-9ea4-c017fc1f6e30",
   "metadata": {},
   "outputs": [],
   "source": [
    "import numpy as np\n",
    "import nolds\n",
    "import scipy.io\n",
    "import mne\n",
    "import pandas as pd\n",
    "import seaborn as sns\n",
    "import pyqtgraph as pg\n",
    "from scipy.io import loadmat\n",
    "from scipy import stats\n",
    "import matplotlib.pyplot as plt\n",
    "import antropy as ent\n",
    "from attractors import Attractor\n",
    "from antropy import higuchi_fd\n",
    "from pyrqa.settings import Settings\n",
    "from pyrqa.neighbourhood import FixedRadius\n",
    "from pyrqa.computation import RQAComputation\n",
    "from pyrqa.time_series import TimeSeries\n",
    "from pyrqa.result import RQAResult\n",
    "from pyrqa.opencl import OpenCL\n",
    "from pyrqa.settings import Settings\n",
    "from pyrqa.time_series import TimeSeries\n",
    "from pyrqa.neighbourhood import FixedRadius\n",
    "from pyrqa.settings import Settings\n",
    "from pyrqa.time_series import TimeSeries\n",
    "from pyrqa.neighbourhood import FixedRadius\n",
    "from pyrqa.metric import EuclideanMetric\n",
    "from pyrqa.computation import RQAComputation\n",
    "from pyrqa.metric import EuclideanMetric\n",
    "from pyrqa.computation import RQAComputation\n",
    "from pyrqa.settings import Settings\n",
    "from pyrqa.neighbourhood import FixedRadius\n",
    "from pyrqa.metric import EuclideanMetric\n",
    "from pyrqa.image_generator import ImageGenerator\n",
    "import numpy as np\n",
    "import matplotlib.pyplot as plt\n",
    "from antropy import higuchi_fd"
   ]
  },
  {
   "cell_type": "code",
   "execution_count": 2,
   "id": "27e2e9db-be2d-4b3e-93fe-05b9a796f3a5",
   "metadata": {},
   "outputs": [],
   "source": [
    "# Load data\n",
    "data = loadmat('/home/vincent/AAA_projects/MVCS/Neuroscience/downsampled/EEG_DS_Struct_0101.mat')"
   ]
  },
  {
   "cell_type": "code",
   "execution_count": 3,
   "id": "171796f0-d037-4e57-9b2c-0afa207c5194",
   "metadata": {},
   "outputs": [],
   "source": [
    "stim_data = pd.read_excel('/home/vincent/AAA_projects/MVCS/Neuroscience/EEG-tES-Chaos-Neural-Net/Stimulation.xlsx')\n",
    "stim_data = stim_data.dropna()\n",
    "\n",
    "stim_data = stim_data.rename(columns={\"Unnamed: 13\": \"Stim Type Block 2\",\n",
    "                                      \"Unnamed: 14\": \"Stim Type Block 3\",\n",
    "                                      \"Unnamed: 16\": \"Stim Amplitude (mA) Block 2\",\n",
    "                                      \"Unnamed: 17\": \"Stim Amplitude (mA) Block 3\"})"
   ]
  },
  {
   "cell_type": "code",
   "execution_count": 4,
   "id": "05495a09-5370-423e-b2e2-75bf45443577",
   "metadata": {
    "tags": []
   },
   "outputs": [
    {
     "ename": "NameError",
     "evalue": "name 'DSamp' is not defined",
     "output_type": "error",
     "traceback": [
      "\u001b[0;31m---------------------------------------------------------------------------\u001b[0m",
      "\u001b[0;31mNameError\u001b[0m                                 Traceback (most recent call last)",
      "\u001b[0;32m/tmp/ipykernel_55546/2249093861.py\u001b[0m in \u001b[0;36m<module>\u001b[0;34m\u001b[0m\n\u001b[0;32m----> 1\u001b[0;31m \u001b[0mprint\u001b[0m\u001b[0;34m(\u001b[0m\u001b[0mDSamp\u001b[0m\u001b[0;34m,\u001b[0m \u001b[0mstim_data\u001b[0m\u001b[0;34m)\u001b[0m\u001b[0;34m\u001b[0m\u001b[0;34m\u001b[0m\u001b[0m\n\u001b[0m",
      "\u001b[0;31mNameError\u001b[0m: name 'DSamp' is not defined"
     ]
    }
   ],
   "source": [
    "print(DSamp, stim_data)"
   ]
  },
  {
   "cell_type": "code",
   "execution_count": 79,
   "id": "c28adfc5-2251-40f0-9cb3-337c8fcff51e",
   "metadata": {},
   "outputs": [],
   "source": [
    "def fetch_stimulation_amplitude(sub_num):\n",
    "    # assuming sub_num is a unique identifier for each subject\n",
    "    session_data = df[df[('Sub#', 'Sub#')] == sub_num]\n",
    "    amplitudes = {\n",
    "        'Block 1': session_data[('Stim Amplitude (mA)', 'Block 1')].values,\n",
    "        'Block 2': session_data[('Stim Amplitude (mA)', 'Block 2')].values,\n",
    "        'Block 3': session_data[('Stim Amplitude (mA)', 'Block 3')].values,\n",
    "    }\n",
    "    return amplitudes"
   ]
  },
  {
   "cell_type": "code",
   "execution_count": 80,
   "id": "909f252d-78ba-4bca-a6c0-b143cd775c7d",
   "metadata": {},
   "outputs": [],
   "source": [
    "def fetch_stimulation_amplitude(sub_num, session_num):\n",
    "    # assuming sub_num is a unique identifier for each subject\n",
    "    # assuming session_num is a unique identifier for each session\n",
    "    session_data = df[(df[('Sub#', 'Sub#')] == sub_num) & (df[('Session', 'Session')] == session_num)]\n",
    "    amplitudes = {\n",
    "        'Block 1': session_data[('Stim Amplitude (mA)', 'Block 1')].values[0],\n",
    "        'Block 2': session_data[('Stim Amplitude (mA)', 'Block 2')].values[0],\n",
    "        'Block 3': session_data[('Stim Amplitude (mA)', 'Block 3')].values[0],\n",
    "    }\n",
    "    return amplitudes"
   ]
  },
  {
   "cell_type": "code",
   "execution_count": 81,
   "id": "bc64aca4-ae85-4599-8d78-ec9c147f9362",
   "metadata": {
    "tags": []
   },
   "outputs": [],
   "source": [
    "DSamp = data['DSamp']\n",
    "\n",
    "triggers = DSamp[0][0][0]\n",
    "EEGdata = DSamp[0][0][1]\n",
    "fs = DSamp[0][0][2][0][0] \n",
    "fsOld = DSamp[0][0][3][0][0] \n",
    "time = DSamp[0][0][4][0]\n",
    "label = DSamp[0][0][5]\n",
    "nchan = DSamp[0][0][6][0][0]\n",
    "rate = DSamp[0][0][7][0][0]\n",
    "npt = DSamp[0][0][8][0][0]\n",
    "Subj = DSamp[0][0][9][0]\n",
    "ptrackerPerf = DSamp[0][0][10]\n",
    "ptrackerTime = DSamp[0][0][11]\n",
    "ptrackerfs = DSamp[0][0][12][0][0]"
   ]
  },
  {
   "cell_type": "code",
   "execution_count": 45,
   "id": "8c33e330-4d38-4f74-a912-516b9f53a785",
   "metadata": {},
   "outputs": [
    {
     "name": "stdout",
     "output_type": "stream",
     "text": [
      "Triggers:  [[(array([[20.428]]), array([[20429]], dtype=uint16), array(['0002'], dtype='<U4'), array([[2]], dtype=uint8), array(['Block Start'], dtype='<U11'), array([], shape=(1, 0), dtype=float64))\n",
      "  (array([[619.442]]), array([[619443]], dtype=int32), array(['0002'], dtype='<U4'), array([[2]], dtype=uint8), array(['Block Start'], dtype='<U11'), array([], shape=(1, 0), dtype=float64))\n",
      "  (array([[619.499]]), array([[619500]], dtype=int32), array(['0016'], dtype='<U4'), array([[16]], dtype=uint8), array(['Stim Start'], dtype='<U10'), array(['M30'], dtype='<U3'))\n",
      "  (array([[654.746]]), array([[654747]], dtype=int32), array(['0032'], dtype='<U4'), array([[32]], dtype=uint8), array(['Stim Stop'], dtype='<U9'), array([], shape=(1, 0), dtype=float64))\n",
      "  (array([[770.515]]), array([[770516]], dtype=int32), array(['0016'], dtype='<U4'), array([[16]], dtype=uint8), array(['Stim Start'], dtype='<U10'), array(['M30'], dtype='<U3'))\n",
      "  (array([[805.571]]), array([[805572]], dtype=int32), array(['0032'], dtype='<U4'), array([[32]], dtype=uint8), array(['Stim Stop'], dtype='<U9'), array([], shape=(1, 0), dtype=float64))\n",
      "  (array([[921.515]]), array([[921516]], dtype=int32), array(['0016'], dtype='<U4'), array([[16]], dtype=uint8), array(['Stim Start'], dtype='<U10'), array(['M30'], dtype='<U3'))\n",
      "  (array([[956.651]]), array([[956652]], dtype=int32), array(['0032'], dtype='<U4'), array([[32]], dtype=uint8), array(['Stim Stop'], dtype='<U9'), array([], shape=(1, 0), dtype=float64))\n",
      "  (array([[1072.551]]), array([[1072552]], dtype=int32), array(['0016'], dtype='<U4'), array([[16]], dtype=uint8), array(['Stim Start'], dtype='<U10'), array(['M30'], dtype='<U3'))\n",
      "  (array([[1107.578]]), array([[1107579]], dtype=int32), array(['0032'], dtype='<U4'), array([[32]], dtype=uint8), array(['Stim Stop'], dtype='<U9'), array([], shape=(1, 0), dtype=float64))\n",
      "  (array([[1218.442]]), array([[1218443]], dtype=int32), array(['0002'], dtype='<U4'), array([[2]], dtype=uint8), array(['Block Start'], dtype='<U11'), array([], shape=(1, 0), dtype=float64))\n",
      "  (array([[1817.46]]), array([[1817461]], dtype=int32), array(['0002'], dtype='<U4'), array([[2]], dtype=uint8), array(['Block Start'], dtype='<U11'), array([], shape=(1, 0), dtype=float64))\n",
      "  (array([[1819.593]]), array([[1819594]], dtype=int32), array(['0016'], dtype='<U4'), array([[16]], dtype=uint8), array(['Stim Start'], dtype='<U10'), array(['M30'], dtype='<U3'))\n",
      "  (array([[1854.888]]), array([[1854889]], dtype=int32), array(['0032'], dtype='<U4'), array([[32]], dtype=uint8), array(['Stim Stop'], dtype='<U9'), array([], shape=(1, 0), dtype=float64))\n",
      "  (array([[1970.669]]), array([[1970670]], dtype=int32), array(['0016'], dtype='<U4'), array([[16]], dtype=uint8), array(['Stim Start'], dtype='<U10'), array(['M30'], dtype='<U3'))\n",
      "  (array([[2005.715]]), array([[2005716]], dtype=int32), array(['0032'], dtype='<U4'), array([[32]], dtype=uint8), array(['Stim Stop'], dtype='<U9'), array([], shape=(1, 0), dtype=float64))\n",
      "  (array([[2121.644]]), array([[2121645]], dtype=int32), array(['0016'], dtype='<U4'), array([[16]], dtype=uint8), array(['Stim Start'], dtype='<U10'), array(['M30'], dtype='<U3'))\n",
      "  (array([[2156.695]]), array([[2156696]], dtype=int32), array(['0032'], dtype='<U4'), array([[32]], dtype=uint8), array(['Stim Stop'], dtype='<U9'), array([], shape=(1, 0), dtype=float64))\n",
      "  (array([[2272.756]]), array([[2272757]], dtype=int32), array(['0016'], dtype='<U4'), array([[16]], dtype=uint8), array(['Stim Start'], dtype='<U10'), array(['M30'], dtype='<U3'))\n",
      "  (array([[2307.798]]), array([[2307799]], dtype=int32), array(['0032'], dtype='<U4'), array([[32]], dtype=uint8), array(['Stim Stop'], dtype='<U9'), array([], shape=(1, 0), dtype=float64))\n",
      "  (array([[2416.534]]), array([[2416535]], dtype=int32), array(['0002'], dtype='<U4'), array([[2]], dtype=uint8), array(['Block Start'], dtype='<U11'), array([], shape=(1, 0), dtype=float64))\n",
      "  (array([[3015.513]]), array([[3015514]], dtype=int32), array(['0002'], dtype='<U4'), array([[2]], dtype=uint8), array(['Block Start'], dtype='<U11'), array([], shape=(1, 0), dtype=float64))\n",
      "  (array([[3019.822]]), array([[3019823]], dtype=int32), array(['0016'], dtype='<U4'), array([[16]], dtype=uint8), array(['Stim Start'], dtype='<U10'), array(['M30'], dtype='<U3'))\n",
      "  (array([[3019.924]]), array([[3019925]], dtype=int32), array(['0032'], dtype='<U4'), array([[32]], dtype=uint8), array(['Stim Stop'], dtype='<U9'), array([], shape=(1, 0), dtype=float64))]]\n",
      "EEGdata:  [[-21295.98864928 -21303.74707676 -21315.46657134 ... -17286.89230419\n",
      "  -17281.27799398 -17330.52269117]\n",
      " [-20109.7167273  -20120.74615359 -20130.12657698 ... -16618.13723294\n",
      "  -16602.343699   -16641.89672243]\n",
      " [-24153.38375243 -24163.86401194 -24171.94434272 ... -14755.59815419\n",
      "  -14743.08142526 -14783.66201823]\n",
      " ...\n",
      " [  2692.44573979   2703.97118199   2731.75987441 ...   4181.64344633\n",
      "    4157.70728788   4198.03945844]\n",
      " [ -5014.9543463   -5014.10209995  -5019.83464311 ...  -4711.95486888\n",
      "   -4706.99851768  -4709.83053726]\n",
      " [    76.88986022     72.02278487     66.20816171 ...     73.4410151\n",
      "      69.33401454     66.65666327]]\n",
      "fs:  1000\n",
      "fsOld:  2000\n",
      "Time:  [0.000000e+00 1.000000e-03 2.000000e-03 ... 4.227785e+03 4.227786e+03\n",
      " 4.227787e+03]\n",
      "Label:  [[array(['Fp1'], dtype='<U3')]\n",
      " [array(['Fpz'], dtype='<U3')]\n",
      " [array(['Fp2'], dtype='<U3')]\n",
      " [array(['F7'], dtype='<U2')]\n",
      " [array(['F3'], dtype='<U2')]\n",
      " [array(['Fz'], dtype='<U2')]\n",
      " [array(['F4'], dtype='<U2')]\n",
      " [array(['F8'], dtype='<U2')]\n",
      " [array(['FC5'], dtype='<U3')]\n",
      " [array(['FC1'], dtype='<U3')]\n",
      " [array(['FC2'], dtype='<U3')]\n",
      " [array(['FC6'], dtype='<U3')]\n",
      " [array(['M1'], dtype='<U2')]\n",
      " [array(['T7'], dtype='<U2')]\n",
      " [array(['C3'], dtype='<U2')]\n",
      " [array(['Cz'], dtype='<U2')]\n",
      " [array(['C4'], dtype='<U2')]\n",
      " [array(['T8'], dtype='<U2')]\n",
      " [array(['M2'], dtype='<U2')]\n",
      " [array(['CP5'], dtype='<U3')]\n",
      " [array(['CP1'], dtype='<U3')]\n",
      " [array(['CP2'], dtype='<U3')]\n",
      " [array(['CP6'], dtype='<U3')]\n",
      " [array(['P7'], dtype='<U2')]\n",
      " [array(['P3'], dtype='<U2')]\n",
      " [array(['Pz'], dtype='<U2')]\n",
      " [array(['P4'], dtype='<U2')]\n",
      " [array(['P8'], dtype='<U2')]\n",
      " [array(['POz'], dtype='<U3')]\n",
      " [array(['O1'], dtype='<U2')]\n",
      " [array(['Oz'], dtype='<U2')]\n",
      " [array(['O2'], dtype='<U2')]\n",
      " [array(['BIP1'], dtype='<U4')]\n",
      " [array(['BIP2'], dtype='<U4')]\n",
      " [array(['RESP1'], dtype='<U5')]]\n",
      "nchan:  35\n",
      "Rate:  1000\n",
      "npt:  4227788\n",
      "Subj:  0101\n",
      "PtrackerPerf:  [[ 0.82088665]\n",
      " [ 1.32936508]\n",
      " [ 1.76474775]\n",
      " ...\n",
      " [11.88057628]\n",
      " [ 9.25956959]\n",
      " [ 3.30952176]]\n",
      "PtrackerTime:  [[0.00000e+00]\n",
      " [1.00000e-02]\n",
      " [2.00000e-02]\n",
      " ...\n",
      " [4.19999e+03]\n",
      " [4.20000e+03]\n",
      " [4.20001e+03]]\n",
      "Ptrackerfs:  100\n"
     ]
    }
   ],
   "source": [
    "triggers = DSamp[0][0][0]\n",
    "print(\"Triggers: \", triggers)\n",
    "\n",
    "EEGdata = DSamp[0][0][1]\n",
    "print(\"EEGdata: \", EEGdata)\n",
    "\n",
    "fs = DSamp[0][0][2][0][0] \n",
    "print(\"fs: \", fs)\n",
    "\n",
    "fsOld = DSamp[0][0][3][0][0] \n",
    "print(\"fsOld: \", fsOld)\n",
    "\n",
    "time = DSamp[0][0][4][0]\n",
    "print(\"Time: \", time)\n",
    "\n",
    "label = DSamp[0][0][5]\n",
    "print(\"Label: \", label)\n",
    "\n",
    "nchan = DSamp[0][0][6][0][0]\n",
    "print(\"nchan: \", nchan)\n",
    "\n",
    "rate = DSamp[0][0][7][0][0]\n",
    "print(\"Rate: \", rate)\n",
    "\n",
    "npt = DSamp[0][0][8][0][0]\n",
    "print(\"npt: \", npt)\n",
    "\n",
    "Subj = DSamp[0][0][9][0]\n",
    "print(\"Subj: \", Subj)\n",
    "\n",
    "ptrackerPerf = DSamp[0][0][10]\n",
    "print(\"PtrackerPerf: \", ptrackerPerf)\n",
    "\n",
    "ptrackerTime = DSamp[0][0][11]\n",
    "print(\"PtrackerTime: \", ptrackerTime)\n",
    "\n",
    "ptrackerfs = DSamp[0][0][12][0][0]\n",
    "print(\"Ptrackerfs: \", ptrackerfs)"
   ]
  },
  {
   "cell_type": "markdown",
   "id": "93c0adbd-6be5-43ee-91bf-dcde9cbc52ce",
   "metadata": {
    "jp-MarkdownHeadingCollapsed": true,
    "tags": []
   },
   "source": [
    "## Other topics to explore: Cable Theory-Based Models, Compartmental Neuron Models, Network Models, Mean-Field Models, Detailed Biophysical Models, Graph Theory, Topological Data Analysis"
   ]
  },
  {
   "cell_type": "markdown",
   "id": "c9ca2c99-23da-439e-8d64-cb98551d29b8",
   "metadata": {},
   "source": [
    "## Next Modules to make: Convolutional Neural Network, Hjorth Coefficients, Petrosian Fractal Dimension, Band Power, Spectral Entropy, Discrete Wavelet Transform, Differential Asymmetry, Magnitude Squared Coherence Estimate"
   ]
  },
  {
   "cell_type": "code",
   "execution_count": null,
   "id": "6b51afdd-fa89-4580-add5-aa645fd80179",
   "metadata": {},
   "outputs": [],
   "source": []
  }
 ],
 "metadata": {
  "kernelspec": {
   "display_name": "Python 3 (ipykernel)",
   "language": "python",
   "name": "python3"
  },
  "language_info": {
   "codemirror_mode": {
    "name": "ipython",
    "version": 3
   },
   "file_extension": ".py",
   "mimetype": "text/x-python",
   "name": "python",
   "nbconvert_exporter": "python",
   "pygments_lexer": "ipython3",
   "version": "3.9.13"
  }
 },
 "nbformat": 4,
 "nbformat_minor": 5
}
