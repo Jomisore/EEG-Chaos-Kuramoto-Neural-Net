{
 "cells": [
  {
   "cell_type": "markdown",
   "id": "d5f4b793-a5d7-4a0f-b075-3cb855dd7f95",
   "metadata": {},
   "source": [
    "# Arnold Tongue"
   ]
  },
  {
   "cell_type": "code",
   "execution_count": 3,
   "id": "e116d3bf-58b9-4c51-9f74-b9f6c8a3c084",
   "metadata": {},
   "outputs": [],
   "source": [
    "import zipfile\n",
    "import numpy as np\n",
    "import os\n",
    "# Path to the zipped 2D embedded data\n",
    "zip_file_path = '/home/vincent/AAA_projects/MVCS/Neuroscience/Analysis/Phase Space/2dembedded_data.zip'\n",
    "extraction_dir = '/home/vincent/AAA_projects/MVCS/Neuroscience/Analysis/Phase Space/temp_extraction'\n",
    "\n",
    "# Extract zipped data to a temporary directory\n",
    "with zipfile.ZipFile(zip_file_path, 'r') as zipf:\n",
    "    zipf.extractall(extraction_dir)\n",
    "\n",
    "eeg_channels = ['Fp1', 'Fpz', 'Fp2', 'F7', 'F3', 'Fz', 'F4', 'F8', 'FC5', 'FC1', 'FC2', 'FC6',\n",
    "                'M1', 'T7', 'C3', 'Cz', 'C4', 'T8', 'M2', 'CP5', 'CP1', 'CP2', 'CP6',\n",
    "                'P7', 'P3', 'Pz', 'P4', 'P8', 'POz', 'O1', 'Oz', 'O2']\n"
   ]
  },
  {
   "cell_type": "code",
   "execution_count": null,
   "id": "c1106def-424e-4703-86f0-3f95f84cf3c1",
   "metadata": {},
   "outputs": [],
   "source": [
    "import numpy as np\n",
    "import matplotlib.pyplot as plt\n",
    "\n",
    "def kuramoto_model(theta, t, omega, K, N, y):\n",
    "    \"\"\" Kuramoto model to describe synchronization phenomena.\n",
    "    y is the driving force with amplitude a and frequency b.\n",
    "    \"\"\"\n",
    "    dydt = omega + (K/N) * np.sum(np.sin(theta - theta[:, np.newaxis]), axis=1) + y(t)\n",
    "    return dydt\n",
    "\n",
    "def driving_force(t, a, b):\n",
    "    \"\"\" Periodic driving force with amplitude 'a' and frequency 'b'. \"\"\"\n",
    "    return a * np.cos(2 * np.pi * b * t)\n",
    "\n",
    "# Parameters\n",
    "N = len(eeg_channels) # Number of oscillators (one for each EEG channel)\n",
    "K = 1.0 # Coupling strength\n",
    "omega = np.random.uniform(-1, 1, N) # Natural frequencies\n",
    "\n",
    "# Ranges for amplitude 'a' and frequency 'b' of the driving force\n",
    "a_values = np.linspace(0.1, 2.0, 50)\n",
    "b_values = np.linspace(0.1, 2.0, 50)\n",
    "\n",
    "# Store results\n",
    "synchronization_array = np.zeros((len(a_values), len(b_values)))\n",
    "\n",
    "# Iterate over values of a and b\n",
    "for i, a in enumerate(a_values):\n",
    "    for j, b in enumerate(b_values):\n",
    "        y = lambda t: driving_force(t, a, b)\n",
    "        \n",
    "        # Integrate the Kuramoto model with the given driving force\n",
    "        # We'll use the odeint function from scipy for this purpose\n",
    "        from scipy.integrate import odeint\n",
    "        theta_0 = np.random.uniform(0, 2 * np.pi, N)\n",
    "        T = np.linspace(0, 100, 1000)\n",
    "        solution = odeint(kuramoto_model, theta_0, T, args=(omega, K, N, y))\n",
    "        \n",
    "        # Measure synchronization\n",
    "        r = np.abs(np.sum(np.exp(1j * solution), axis=1)) / N\n",
    "        synchronization_array[i, j] = np.mean(r)\n",
    "\n",
    "# Plot\n",
    "plt.imshow(synchronization_array, extent=[a_values.min(), a_values.max(), b_values.min(), b_values.max()], origin='lower', aspect='auto')\n",
    "plt.colorbar(label=\"Synchronization\")\n",
    "plt.xlabel('Amplitude a')\n",
    "plt.ylabel('Frequency b')\n",
    "plt.title('Arnold Tongues')\n",
    "plt.show()\n"
   ]
  },
  {
   "cell_type": "code",
   "execution_count": null,
   "id": "98476834-45a3-4a8c-a57d-495084828008",
   "metadata": {},
   "outputs": [],
   "source": []
  }
 ],
 "metadata": {
  "kernelspec": {
   "display_name": "Python 3 (ipykernel)",
   "language": "python",
   "name": "python3"
  },
  "language_info": {
   "codemirror_mode": {
    "name": "ipython",
    "version": 3
   },
   "file_extension": ".py",
   "mimetype": "text/x-python",
   "name": "python",
   "nbconvert_exporter": "python",
   "pygments_lexer": "ipython3",
   "version": "3.10.12"
  }
 },
 "nbformat": 4,
 "nbformat_minor": 5
}
