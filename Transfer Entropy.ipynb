{
 "cells": [
  {
   "cell_type": "markdown",
   "id": "d5fbe28d-4457-4e27-a1f8-42054d3128ee",
   "metadata": {},
   "source": [
    "# Transfer Entropy"
   ]
  },
  {
   "cell_type": "code",
   "execution_count": 1,
   "id": "2a15df7c-4ec1-45e5-bf3c-98d268e0cbc4",
   "metadata": {},
   "outputs": [],
   "source": [
    "import numpy as np\n",
    "import nolds\n",
    "import scipy.io\n",
    "import mne\n",
    "import pandas as pd\n",
    "import seaborn as sns\n",
    "import pyqtgraph as pg\n",
    "from scipy.io import loadmat\n",
    "from scipy import stats\n",
    "import matplotlib.pyplot as plt\n",
    "import antropy as ent\n",
    "from attractors import Attractor\n",
    "from antropy import higuchi_fd\n",
    "from pyrqa.settings import Settings\n",
    "from pyrqa.neighbourhood import FixedRadius\n",
    "from pyrqa.computation import RQAComputation\n",
    "from pyrqa.time_series import TimeSeries\n",
    "from pyrqa.result import RQAResult\n",
    "from pyrqa.opencl import OpenCL\n",
    "from pyrqa.settings import Settings\n",
    "from pyrqa.time_series import TimeSeries\n",
    "from pyrqa.neighbourhood import FixedRadius\n",
    "from pyrqa.settings import Settings\n",
    "from pyrqa.time_series import TimeSeries\n",
    "from pyrqa.neighbourhood import FixedRadius\n",
    "from pyrqa.metric import EuclideanMetric\n",
    "from pyrqa.computation import RQAComputation\n",
    "from pyrqa.metric import EuclideanMetric\n",
    "from pyrqa.computation import RQAComputation\n",
    "from pyrqa.settings import Settings\n",
    "from pyrqa.neighbourhood import FixedRadius\n",
    "from pyrqa.metric import EuclideanMetric\n",
    "from pyrqa.image_generator import ImageGenerator\n",
    "import numpy as np\n",
    "import matplotlib.pyplot as plt\n",
    "from antropy import higuchi_fd"
   ]
  },
  {
   "cell_type": "code",
   "execution_count": 2,
   "id": "b56ff797-0553-446e-97d2-9b6ae0bda899",
   "metadata": {},
   "outputs": [],
   "source": [
    "# Load data\n",
    "data = loadmat('/home/vincent/AAA_projects/University/MSc_AI/Final_Project/downsampled/EEG_DS_Struct_0101.mat')"
   ]
  },
  {
   "cell_type": "code",
   "execution_count": 3,
   "id": "4e903f08-9538-469a-b6ca-0f8e9ce85a27",
   "metadata": {},
   "outputs": [],
   "source": [
    "DSamp = data['DSamp']\n",
    "\n",
    "triggers = DSamp[0][0][0]\n",
    "EEGdata = DSamp[0][0][1]\n",
    "fs = DSamp[0][0][2][0][0] \n",
    "fsOld = DSamp[0][0][3][0][0] \n",
    "time = DSamp[0][0][4][0]\n",
    "label = DSamp[0][0][5]\n",
    "nchan = DSamp[0][0][6][0][0]\n",
    "rate = DSamp[0][0][7][0][0]\n",
    "npt = DSamp[0][0][8][0][0]\n",
    "Subj = DSamp[0][0][9][0]\n",
    "ptrackerPerf = DSamp[0][0][10]\n",
    "ptrackerTime = DSamp[0][0][11]\n",
    "ptrackerfs = DSamp[0][0][12][0][0]"
   ]
  },
  {
   "cell_type": "code",
   "execution_count": 4,
   "id": "3ea16ba9-ae13-464d-8bba-306614803b10",
   "metadata": {},
   "outputs": [],
   "source": [
    "def phase_randomize(ts):\n",
    "    ts_randomized = np.empty_like(ts)\n",
    "    for i in range(ts.shape[0]):\n",
    "        # Fourier transform\n",
    "        ts_fourier = np.fft.rfft(ts[i])\n",
    "\n",
    "        # Generate random phases\n",
    "        random_phases = np.exp(1j * np.random.uniform(0, 2*np.pi, len(ts[i]) // 2 + 1))\n",
    "\n",
    "        # Apply the random phases to the Fourier transform\n",
    "        ts_fourier_randomized = ts_fourier * random_phases\n",
    "\n",
    "        # Inverse Fourier transform\n",
    "        ts_randomized[i] = np.fft.irfft(ts_fourier_randomized, len(ts[i]))\n",
    "        \n",
    "    return ts_randomized"
   ]
  },
  {
   "cell_type": "code",
   "execution_count": 5,
   "id": "f64638cf-9b90-4739-a272-f290e1cabe3c",
   "metadata": {},
   "outputs": [
    {
     "ename": "IndexError",
     "evalue": "tuple index out of range",
     "output_type": "error",
     "traceback": [
      "\u001b[0;31m---------------------------------------------------------------------------\u001b[0m",
      "\u001b[0;31mIndexError\u001b[0m                                Traceback (most recent call last)",
      "\u001b[0;32m/tmp/ipykernel_127737/3465526429.py\u001b[0m in \u001b[0;36m<module>\u001b[0;34m\u001b[0m\n\u001b[1;32m     22\u001b[0m \u001b[0;31m# Generate surrogate data for TE analysis\u001b[0m\u001b[0;34m\u001b[0m\u001b[0;34m\u001b[0m\u001b[0m\n\u001b[1;32m     23\u001b[0m \u001b[0msurrogate_EEGdata\u001b[0m \u001b[0;34m=\u001b[0m \u001b[0mphase_randomize\u001b[0m\u001b[0;34m(\u001b[0m\u001b[0mEEGdata\u001b[0m\u001b[0;34m)\u001b[0m  \u001b[0;31m# Corrected here\u001b[0m\u001b[0;34m\u001b[0m\u001b[0;34m\u001b[0m\u001b[0m\n\u001b[0;32m---> 24\u001b[0;31m \u001b[0msurrogate_stimulation_waveform\u001b[0m \u001b[0;34m=\u001b[0m \u001b[0mphase_randomize\u001b[0m\u001b[0;34m(\u001b[0m\u001b[0mstimulation_waveform\u001b[0m\u001b[0;34m)\u001b[0m\u001b[0;34m\u001b[0m\u001b[0;34m\u001b[0m\u001b[0m\n\u001b[0m\u001b[1;32m     25\u001b[0m \u001b[0;34m\u001b[0m\u001b[0m\n\u001b[1;32m     26\u001b[0m \u001b[0;31m# Calculate transfer entropy from TES to EEG\u001b[0m\u001b[0;34m\u001b[0m\u001b[0;34m\u001b[0m\u001b[0m\n",
      "\u001b[0;32m/tmp/ipykernel_127737/545624633.py\u001b[0m in \u001b[0;36mphase_randomize\u001b[0;34m(ts)\u001b[0m\n\u001b[1;32m      3\u001b[0m     \u001b[0;32mfor\u001b[0m \u001b[0mi\u001b[0m \u001b[0;32min\u001b[0m \u001b[0mrange\u001b[0m\u001b[0;34m(\u001b[0m\u001b[0mts\u001b[0m\u001b[0;34m.\u001b[0m\u001b[0mshape\u001b[0m\u001b[0;34m[\u001b[0m\u001b[0;36m0\u001b[0m\u001b[0;34m]\u001b[0m\u001b[0;34m)\u001b[0m\u001b[0;34m:\u001b[0m\u001b[0;34m\u001b[0m\u001b[0;34m\u001b[0m\u001b[0m\n\u001b[1;32m      4\u001b[0m         \u001b[0;31m# Fourier transform\u001b[0m\u001b[0;34m\u001b[0m\u001b[0;34m\u001b[0m\u001b[0m\n\u001b[0;32m----> 5\u001b[0;31m         \u001b[0mts_fourier\u001b[0m \u001b[0;34m=\u001b[0m \u001b[0mnp\u001b[0m\u001b[0;34m.\u001b[0m\u001b[0mfft\u001b[0m\u001b[0;34m.\u001b[0m\u001b[0mrfft\u001b[0m\u001b[0;34m(\u001b[0m\u001b[0mts\u001b[0m\u001b[0;34m[\u001b[0m\u001b[0mi\u001b[0m\u001b[0;34m]\u001b[0m\u001b[0;34m)\u001b[0m\u001b[0;34m\u001b[0m\u001b[0;34m\u001b[0m\u001b[0m\n\u001b[0m\u001b[1;32m      6\u001b[0m \u001b[0;34m\u001b[0m\u001b[0m\n\u001b[1;32m      7\u001b[0m         \u001b[0;31m# Generate random phases\u001b[0m\u001b[0;34m\u001b[0m\u001b[0;34m\u001b[0m\u001b[0m\n",
      "\u001b[0;32m<__array_function__ internals>\u001b[0m in \u001b[0;36mrfft\u001b[0;34m(*args, **kwargs)\u001b[0m\n",
      "\u001b[0;32m~/anaconda3/lib/python3.9/site-packages/numpy/fft/_pocketfft.py\u001b[0m in \u001b[0;36mrfft\u001b[0;34m(a, n, axis, norm)\u001b[0m\n\u001b[1;32m    405\u001b[0m     \u001b[0ma\u001b[0m \u001b[0;34m=\u001b[0m \u001b[0masarray\u001b[0m\u001b[0;34m(\u001b[0m\u001b[0ma\u001b[0m\u001b[0;34m)\u001b[0m\u001b[0;34m\u001b[0m\u001b[0;34m\u001b[0m\u001b[0m\n\u001b[1;32m    406\u001b[0m     \u001b[0;32mif\u001b[0m \u001b[0mn\u001b[0m \u001b[0;32mis\u001b[0m \u001b[0;32mNone\u001b[0m\u001b[0;34m:\u001b[0m\u001b[0;34m\u001b[0m\u001b[0;34m\u001b[0m\u001b[0m\n\u001b[0;32m--> 407\u001b[0;31m         \u001b[0mn\u001b[0m \u001b[0;34m=\u001b[0m \u001b[0ma\u001b[0m\u001b[0;34m.\u001b[0m\u001b[0mshape\u001b[0m\u001b[0;34m[\u001b[0m\u001b[0maxis\u001b[0m\u001b[0;34m]\u001b[0m\u001b[0;34m\u001b[0m\u001b[0;34m\u001b[0m\u001b[0m\n\u001b[0m\u001b[1;32m    408\u001b[0m     \u001b[0minv_norm\u001b[0m \u001b[0;34m=\u001b[0m \u001b[0m_get_forward_norm\u001b[0m\u001b[0;34m(\u001b[0m\u001b[0mn\u001b[0m\u001b[0;34m,\u001b[0m \u001b[0mnorm\u001b[0m\u001b[0;34m)\u001b[0m\u001b[0;34m\u001b[0m\u001b[0;34m\u001b[0m\u001b[0m\n\u001b[1;32m    409\u001b[0m     \u001b[0moutput\u001b[0m \u001b[0;34m=\u001b[0m \u001b[0m_raw_fft\u001b[0m\u001b[0;34m(\u001b[0m\u001b[0ma\u001b[0m\u001b[0;34m,\u001b[0m \u001b[0mn\u001b[0m\u001b[0;34m,\u001b[0m \u001b[0maxis\u001b[0m\u001b[0;34m,\u001b[0m \u001b[0;32mTrue\u001b[0m\u001b[0;34m,\u001b[0m \u001b[0;32mTrue\u001b[0m\u001b[0;34m,\u001b[0m \u001b[0minv_norm\u001b[0m\u001b[0;34m)\u001b[0m\u001b[0;34m\u001b[0m\u001b[0;34m\u001b[0m\u001b[0m\n",
      "\u001b[0;31mIndexError\u001b[0m: tuple index out of range"
     ]
    }
   ],
   "source": [
    "import numpy as np\n",
    "from pyinform import transfer_entropy\n",
    "import matplotlib.pyplot as plt\n",
    "\n",
    "# Define TES stimulation parameters\n",
    "stimulation_params = {\n",
    "    \"frequency\": 10,  # Hz\n",
    "    \"amplitude\": 1.5,  # mA\n",
    "    \"duration\": 5  # minutes\n",
    "}\n",
    "\n",
    "# Apply TES stimulation\n",
    "stimulation_duration = stimulation_params[\"duration\"] * 60  # Convert to seconds\n",
    "stimulation_frequency = stimulation_params[\"frequency\"]\n",
    "stimulation_amplitude = stimulation_params[\"amplitude\"]\n",
    "stimulation_waveform = stimulation_amplitude * np.sin(2 * np.pi * stimulation_frequency * np.arange(stimulation_duration))\n",
    "\n",
    "# Define time delay and embedding dimension for TE analysis\n",
    "tau = 10\n",
    "m = 3\n",
    "\n",
    "# Generate surrogate data for TE analysis\n",
    "surrogate_EEGdata = phase_randomize(EEGdata)  # Corrected here\n",
    "surrogate_stimulation_waveform = phase_randomize(stimulation_waveform)\n",
    "\n",
    "# Calculate transfer entropy from TES to EEG\n",
    "te_stim_to_eeg = transfer_entropy(surrogate_stimulation_waveform, EEGdata, k=m, l=tau)  # Corrected here\n",
    "\n",
    "\n",
    "# Visualize the results\n",
    "plt.subplot(2, 2, 1)\n",
    "plt.plot(EEGdata)\n",
    "plt.title(\"EEG data\")\n",
    "\n",
    "plt.subplot(2, 2, 2)\n",
    "plt.plot(stimulation_waveform)\n",
    "plt.title(\"TES stimulation\")\n",
    "\n",
    "plt.subplot(2, 2, 3)\n",
    "plt.plot(EEGdata + stimulation_waveform)\n",
    "plt.title(\"EEG data with TES stimulation\")\n",
    "\n",
    "plt.subplot(2, 2, 4)\n",
    "plt.imshow(te_stim_to_eeg, cmap='jet', origin='lower', aspect='auto')\n",
    "plt.title(\"Transfer entropy (TES to EEG)\")\n",
    "plt.xlabel(\"TES signal\")\n",
    "plt.ylabel(\"EEG signal\")\n",
    "\n",
    "plt.tight_layout()\n",
    "plt.show()"
   ]
  },
  {
   "cell_type": "code",
   "execution_count": null,
   "id": "9346d482-d77e-4dc2-ba87-2c4402c38eee",
   "metadata": {},
   "outputs": [],
   "source": []
  }
 ],
 "metadata": {
  "kernelspec": {
   "display_name": "Python 3 (ipykernel)",
   "language": "python",
   "name": "python3"
  },
  "language_info": {
   "codemirror_mode": {
    "name": "ipython",
    "version": 3
   },
   "file_extension": ".py",
   "mimetype": "text/x-python",
   "name": "python",
   "nbconvert_exporter": "python",
   "pygments_lexer": "ipython3",
   "version": "3.9.13"
  }
 },
 "nbformat": 4,
 "nbformat_minor": 5
}
