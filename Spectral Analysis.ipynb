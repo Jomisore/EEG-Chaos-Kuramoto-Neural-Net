{
 "cells": [
  {
   "cell_type": "markdown",
   "id": "62ba653d-310d-434d-93bf-f15c8a2fafaf",
   "metadata": {},
   "source": [
    "# Spectral Analysis"
   ]
  },
  {
   "cell_type": "code",
   "execution_count": null,
   "id": "3cb083a4-21d3-485d-b75a-3479e5cd5dcb",
   "metadata": {},
   "outputs": [],
   "source": [
    "import numpy as np\n",
    "import matplotlib.pyplot as plt\n",
    "\n",
    "# Assuming EEGdata is your EEG data array and sampling_rate is the sampling rate of your EEG recording\n",
    "\n",
    "# FFT of the signal\n",
    "fft_vals = np.fft.rfft(EEGdata)\n",
    "\n",
    "# Absolute value of FFT (to get magnitude)\n",
    "fft_abs = np.abs(fft_vals)\n",
    "\n",
    "# Create a vector of frequencies associated with the FFT values\n",
    "freqs = np.fft.rfftfreq(len(EEGdata), 1.0/sampling_rate)\n",
    "\n",
    "# Plot the power spectral density\n",
    "plt.figure(figsize=(6, 5))\n",
    "plt.plot(freqs, fft_abs**2)\n",
    "plt.xlabel('Frequency (Hz)')\n",
    "plt.ylabel('Power spectral density')\n",
    "plt.title('Spectral analysis of EEG data')\n",
    "plt.show()\n"
   ]
  }
 ],
 "metadata": {
  "kernelspec": {
   "display_name": "Python 3 (ipykernel)",
   "language": "python",
   "name": "python3"
  },
  "language_info": {
   "codemirror_mode": {
    "name": "ipython",
    "version": 3
   },
   "file_extension": ".py",
   "mimetype": "text/x-python",
   "name": "python",
   "nbconvert_exporter": "python",
   "pygments_lexer": "ipython3",
   "version": "3.9.13"
  }
 },
 "nbformat": 4,
 "nbformat_minor": 5
}
