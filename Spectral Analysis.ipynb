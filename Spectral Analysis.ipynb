{
 "cells": [
  {
   "cell_type": "markdown",
   "id": "62ba653d-310d-434d-93bf-f15c8a2fafaf",
   "metadata": {},
   "source": [
    "# Spectral Analysis"
   ]
  },
  {
   "cell_type": "code",
   "execution_count": null,
   "id": "f68336a9-565b-4a73-9ddf-38d6963d09c5",
   "metadata": {},
   "outputs": [],
   "source": [
    "import numpy as np\n",
    "import nolds\n",
    "import scipy.io\n",
    "import mne\n",
    "import pandas as pd\n",
    "import seaborn as sns\n",
    "import pyqtgraph as pg\n",
    "from scipy.io import loadmat\n",
    "from scipy import stats\n",
    "import matplotlib.pyplot as plt\n",
    "import antropy as ent\n",
    "from attractors import Attractor\n",
    "from antropy import higuchi_fd\n",
    "from pyrqa.settings import Settings\n",
    "from pyrqa.neighbourhood import FixedRadius\n",
    "from pyrqa.computation import RQAComputation\n",
    "from pyrqa.time_series import TimeSeries\n",
    "from pyrqa.result import RQAResult\n",
    "from pyrqa.opencl import OpenCL\n",
    "from pyrqa.settings import Settings\n",
    "from pyrqa.time_series import TimeSeries\n",
    "from pyrqa.neighbourhood import FixedRadius\n",
    "from pyrqa.settings import Settings\n",
    "from pyrqa.time_series import TimeSeries\n",
    "from pyrqa.neighbourhood import FixedRadius\n",
    "from pyrqa.metric import EuclideanMetric\n",
    "from pyrqa.computation import RQAComputation\n",
    "from pyrqa.metric import EuclideanMetric\n",
    "from pyrqa.computation import RQAComputation\n",
    "from pyrqa.settings import Settings\n",
    "from pyrqa.neighbourhood import FixedRadius\n",
    "from pyrqa.metric import EuclideanMetric\n",
    "from pyrqa.image_generator import ImageGenerator\n",
    "import numpy as np\n",
    "import matplotlib.pyplot as plt\n",
    "from antropy import higuchi_fd"
   ]
  },
  {
   "cell_type": "code",
   "execution_count": null,
   "id": "cf18caf6-781e-4239-9b69-8c4545a3dee5",
   "metadata": {},
   "outputs": [],
   "source": [
    "# Load data\n",
    "data = loadmat('/home/vincent/AAA_projects/MVCS/Neuroscience/downsampled/EEG_DS_Struct_0101.mat')"
   ]
  },
  {
   "cell_type": "code",
   "execution_count": null,
   "id": "847c59ab-435d-497c-b284-7c6caa53d73c",
   "metadata": {},
   "outputs": [],
   "source": [
    "DSamp = data['DSamp']\n",
    "\n",
    "triggers = DSamp[0][0][0]\n",
    "EEGdata = DSamp[0][0][1]\n",
    "fs = DSamp[0][0][2][0][0] \n",
    "fsOld = DSamp[0][0][3][0][0] \n",
    "time = DSamp[0][0][4][0]\n",
    "label = DSamp[0][0][5]\n",
    "nchan = DSamp[0][0][6][0][0]\n",
    "rate = DSamp[0][0][7][0][0]\n",
    "npt = DSamp[0][0][8][0][0]\n",
    "Subj = DSamp[0][0][9][0]\n",
    "ptrackerPerf = DSamp[0][0][10]\n",
    "ptrackerTime = DSamp[0][0][11]\n",
    "ptrackerfs = DSamp[0][0][12][0][0]"
   ]
  },
  {
   "cell_type": "code",
   "execution_count": null,
   "id": "3cb083a4-21d3-485d-b75a-3479e5cd5dcb",
   "metadata": {},
   "outputs": [],
   "source": [
    "import numpy as np\n",
    "import matplotlib.pyplot as plt\n",
    "\n",
    "# Assuming EEGdata is your EEG data array and sampling_rate is the sampling rate of your EEG recording\n",
    "\n",
    "# FFT of the signal\n",
    "fft_vals = np.fft.rfft(EEGdata)\n",
    "\n",
    "# Absolute value of FFT (to get magnitude)\n",
    "fft_abs = np.abs(fft_vals)\n",
    "\n",
    "# Create a vector of frequencies associated with the FFT values\n",
    "freqs = np.fft.rfftfreq(len(EEGdata), 1.0/sampling_rate)\n",
    "\n",
    "# Plot the power spectral density\n",
    "plt.figure(figsize=(6, 5))\n",
    "plt.plot(freqs, fft_abs**2)\n",
    "plt.xlabel('Frequency (Hz)')\n",
    "plt.ylabel('Power spectral density')\n",
    "plt.title('Spectral analysis of EEG data')\n",
    "plt.show()\n"
   ]
  }
 ],
 "metadata": {
  "kernelspec": {
   "display_name": "Python 3 (ipykernel)",
   "language": "python",
   "name": "python3"
  },
  "language_info": {
   "codemirror_mode": {
    "name": "ipython",
    "version": 3
   },
   "file_extension": ".py",
   "mimetype": "text/x-python",
   "name": "python",
   "nbconvert_exporter": "python",
   "pygments_lexer": "ipython3",
   "version": "3.9.13"
  }
 },
 "nbformat": 4,
 "nbformat_minor": 5
}
