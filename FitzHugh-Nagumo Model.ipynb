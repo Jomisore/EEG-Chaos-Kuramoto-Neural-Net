{
 "cells": [
  {
   "cell_type": "markdown",
   "id": "52edb0e0-6e37-423b-a36a-8614a5d6e09f",
   "metadata": {},
   "source": [
    "# FitzHugh-Nagumo Model"
   ]
  },
  {
   "cell_type": "code",
   "execution_count": 1,
   "id": "e3a51434-e32f-48c1-a145-ceed3573335a",
   "metadata": {},
   "outputs": [],
   "source": [
    "import numpy as np\n",
    "import nolds\n",
    "import scipy.io\n",
    "import mne\n",
    "import pandas as pd\n",
    "import seaborn as sns\n",
    "import pyqtgraph as pg\n",
    "from scipy.io import loadmat\n",
    "from scipy import stats\n",
    "import matplotlib.pyplot as plt\n",
    "import antropy as ent\n",
    "from attractors import Attractor\n",
    "from antropy import higuchi_fd\n",
    "from pyrqa.settings import Settings\n",
    "from pyrqa.neighbourhood import FixedRadius\n",
    "from pyrqa.computation import RQAComputation\n",
    "from pyrqa.time_series import TimeSeries\n",
    "from pyrqa.result import RQAResult\n",
    "from pyrqa.opencl import OpenCL\n",
    "from pyrqa.settings import Settings\n",
    "from pyrqa.time_series import TimeSeries\n",
    "from pyrqa.neighbourhood import FixedRadius\n",
    "from pyrqa.settings import Settings\n",
    "from pyrqa.time_series import TimeSeries\n",
    "from pyrqa.neighbourhood import FixedRadius\n",
    "from pyrqa.metric import EuclideanMetric\n",
    "from pyrqa.computation import RQAComputation\n",
    "from pyrqa.metric import EuclideanMetric\n",
    "from pyrqa.computation import RQAComputation\n",
    "from pyrqa.settings import Settings\n",
    "from pyrqa.neighbourhood import FixedRadius\n",
    "from pyrqa.metric import EuclideanMetric\n",
    "from pyrqa.image_generator import ImageGenerator\n",
    "import numpy as np\n",
    "import matplotlib.pyplot as plt\n",
    "from antropy import higuchi_fd"
   ]
  },
  {
   "cell_type": "code",
   "execution_count": 2,
   "id": "3bb3afea-d735-4ed8-a332-fc6dc61d5da5",
   "metadata": {},
   "outputs": [],
   "source": [
    "# Load data\n",
    "data = loadmat('/home/vincent/AAA_projects/MVCS/Neuroscience/downsampled/EEG_DS_Struct_0101.mat')"
   ]
  },
  {
   "cell_type": "code",
   "execution_count": 3,
   "id": "04415786-c154-4a29-93fa-4ab1c5fff716",
   "metadata": {},
   "outputs": [],
   "source": [
    "DSamp = data['DSamp']\n",
    "\n",
    "triggers = DSamp[0][0][0]\n",
    "EEGdata = DSamp[0][0][1]\n",
    "fs = DSamp[0][0][2][0][0] \n",
    "fsOld = DSamp[0][0][3][0][0] \n",
    "time = DSamp[0][0][4][0]\n",
    "label = DSamp[0][0][5]\n",
    "nchan = DSamp[0][0][6][0][0]\n",
    "rate = DSamp[0][0][7][0][0]\n",
    "npt = DSamp[0][0][8][0][0]\n",
    "Subj = DSamp[0][0][9][0]\n",
    "ptrackerPerf = DSamp[0][0][10]\n",
    "ptrackerTime = DSamp[0][0][11]\n",
    "ptrackerfs = DSamp[0][0][12][0][0]"
   ]
  },
  {
   "cell_type": "code",
   "execution_count": 4,
   "id": "739d9348-7d91-4352-9803-0db8fb642bbc",
   "metadata": {},
   "outputs": [],
   "source": [
    "import numpy as np\n",
    "from scipy.integrate import odeint\n",
    "\n",
    "# Define parameters for the FitzHugh-Nagumo model\n",
    "a = 0.7\n",
    "b = 0.8\n",
    "I = 0.5  # Adjust this as necessary\n",
    "\n",
    "# Define the FitzHugh-Nagumo system\n",
    "def fitzhugh_nagumo(y, t):\n",
    "    u, v = y\n",
    "    dydt = [v - u**3/3 + I, -1/a * (u - b + v)]\n",
    "    return dydt\n",
    "\n",
    "# Initialize a list to store the solutions for each channel\n",
    "solutions = []\n",
    "\n",
    "# Solve the ODE system for each channel\n",
    "for chan in range(nchan):\n",
    "    y0 = EEGdata[0][chan], 0.0  # Initial conditions\n",
    "    t = np.linspace(0, len(EEGdata) / fs, len(EEGdata))  # Time points\n",
    "    solution = odeint(fitzhugh_nagumo, y0, t)  # Solve ODE\n",
    "    solutions.append(solution)\n",
    "\n",
    "# Now `solutions` is a list of arrays, each containing the solution for one channel"
   ]
  },
  {
   "cell_type": "code",
   "execution_count": null,
   "id": "a71194e1-0476-4d7d-9b6b-de6d2bb8f857",
   "metadata": {},
   "outputs": [],
   "source": []
  }
 ],
 "metadata": {
  "kernelspec": {
   "display_name": "Python 3 (ipykernel)",
   "language": "python",
   "name": "python3"
  },
  "language_info": {
   "codemirror_mode": {
    "name": "ipython",
    "version": 3
   },
   "file_extension": ".py",
   "mimetype": "text/x-python",
   "name": "python",
   "nbconvert_exporter": "python",
   "pygments_lexer": "ipython3",
   "version": "3.9.13"
  }
 },
 "nbformat": 4,
 "nbformat_minor": 5
}
