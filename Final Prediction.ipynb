{
 "cells": [
  {
   "cell_type": "markdown",
   "id": "a18a6e61-a1cc-4294-8e47-4bf8771eaf04",
   "metadata": {},
   "source": [
    "# Final Prediction"
   ]
  },
  {
   "cell_type": "code",
   "execution_count": null,
   "id": "9ccac494-c0fe-49df-88aa-030000aad888",
   "metadata": {},
   "outputs": [],
   "source": [
    "model stacking, integrated architecture, ensemble "
   ]
  }
 ],
 "metadata": {
  "kernelspec": {
   "display_name": "Python 3 (ipykernel)",
   "language": "python",
   "name": "python3"
  },
  "language_info": {
   "codemirror_mode": {
    "name": "ipython",
    "version": 3
   },
   "file_extension": ".py",
   "mimetype": "text/x-python",
   "name": "python",
   "nbconvert_exporter": "python",
   "pygments_lexer": "ipython3",
   "version": "3.10.12"
  }
 },
 "nbformat": 4,
 "nbformat_minor": 5
}
