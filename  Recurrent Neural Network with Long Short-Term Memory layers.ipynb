{
 "cells": [
  {
   "cell_type": "markdown",
   "id": "a1dc70d0-cd59-49c7-ae55-cfc6e9c30e28",
   "metadata": {},
   "source": [
    "# Recurrent Neural Network with Long Short-Term Memory layers"
   ]
  },
  {
   "cell_type": "code",
   "execution_count": 1,
   "id": "34ee9eef-5419-42ac-9e92-beecf89be8ef",
   "metadata": {},
   "outputs": [],
   "source": [
    "import numpy as np\n",
    "import nolds\n",
    "import scipy.io\n",
    "import mne\n",
    "import pandas as pd\n",
    "import seaborn as sns\n",
    "import pyqtgraph as pg\n",
    "from scipy.io import loadmat\n",
    "from scipy import stats\n",
    "import matplotlib.pyplot as plt\n",
    "import antropy as ent\n",
    "from attractors import Attractor\n",
    "from antropy import higuchi_fd\n",
    "from pyrqa.settings import Settings\n",
    "from pyrqa.neighbourhood import FixedRadius\n",
    "from pyrqa.computation import RQAComputation\n",
    "from pyrqa.time_series import TimeSeries\n",
    "from pyrqa.result import RQAResult\n",
    "from pyrqa.opencl import OpenCL\n",
    "from pyrqa.settings import Settings\n",
    "from pyrqa.time_series import TimeSeries\n",
    "from pyrqa.neighbourhood import FixedRadius\n",
    "from pyrqa.settings import Settings\n",
    "from pyrqa.time_series import TimeSeries\n",
    "from pyrqa.neighbourhood import FixedRadius\n",
    "from pyrqa.metric import EuclideanMetric\n",
    "from pyrqa.computation import RQAComputation\n",
    "from pyrqa.metric import EuclideanMetric\n",
    "from pyrqa.computation import RQAComputation\n",
    "from pyrqa.settings import Settings\n",
    "from pyrqa.neighbourhood import FixedRadius\n",
    "from pyrqa.metric import EuclideanMetric\n",
    "from pyrqa.image_generator import ImageGenerator\n",
    "import numpy as np\n",
    "import matplotlib.pyplot as plt\n",
    "from antropy import higuchi_fd"
   ]
  },
  {
   "cell_type": "code",
   "execution_count": 2,
   "id": "1db052b5-d23d-4e3f-9cba-66ffee293df3",
   "metadata": {},
   "outputs": [],
   "source": [
    "# Load data\n",
    "data = loadmat('/home/vincent/AAA_projects/MVCS/Neuroscience/downsampled/EEG_DS_Struct_0101.mat')"
   ]
  },
  {
   "cell_type": "code",
   "execution_count": 4,
   "id": "1f7ce046-cc55-4d2d-8533-808f2ebae5cb",
   "metadata": {},
   "outputs": [],
   "source": [
    "DSamp = data['DSamp']\n",
    "\n",
    "triggers = DSamp[0][0][0]\n",
    "EEGdata = DSamp[0][0][1]\n",
    "fs = DSamp[0][0][2][0][0] \n",
    "fsOld = DSamp[0][0][3][0][0] \n",
    "time = DSamp[0][0][4][0]\n",
    "label = DSamp[0][0][5]\n",
    "nchan = DSamp[0][0][6][0][0]\n",
    "rate = DSamp[0][0][7][0][0]\n",
    "npt = DSamp[0][0][8][0][0]\n",
    "Subj = DSamp[0][0][9][0]\n",
    "ptrackerPerf = DSamp[0][0][10]\n",
    "ptrackerTime = DSamp[0][0][11]\n",
    "ptrackerfs = DSamp[0][0][12][0][0]"
   ]
  },
  {
   "cell_type": "code",
   "execution_count": 13,
   "id": "bd13d0a7-e46c-4de7-b006-69b77efe9d0b",
   "metadata": {},
   "outputs": [
    {
     "name": "stdout",
     "output_type": "stream",
     "text": [
      "Shape of TES data before reshaping: (24, 1)\n",
      "n_samples: 4227, n_steps: 1000\n",
      "Error during reshaping: cannot reshape array of size 24 into shape (1000,1)\n"
     ]
    },
    {
     "ename": "NameError",
     "evalue": "name 'TESdata_reshaped' is not defined",
     "output_type": "error",
     "traceback": [
      "\u001b[0;31m---------------------------------------------------------------------------\u001b[0m",
      "\u001b[0;31mNameError\u001b[0m                                 Traceback (most recent call last)",
      "\u001b[0;32m/tmp/ipykernel_122061/1956411969.py\u001b[0m in \u001b[0;36m<module>\u001b[0;34m\u001b[0m\n\u001b[1;32m     19\u001b[0m \u001b[0;34m\u001b[0m\u001b[0m\n\u001b[1;32m     20\u001b[0m \u001b[0;31m# Convert to float32\u001b[0m\u001b[0;34m\u001b[0m\u001b[0;34m\u001b[0m\u001b[0m\n\u001b[0;32m---> 21\u001b[0;31m \u001b[0mTESdata_reshaped\u001b[0m \u001b[0;34m=\u001b[0m \u001b[0mTESdata_reshaped\u001b[0m\u001b[0;34m.\u001b[0m\u001b[0mastype\u001b[0m\u001b[0;34m(\u001b[0m\u001b[0;34m'float32'\u001b[0m\u001b[0;34m)\u001b[0m\u001b[0;34m\u001b[0m\u001b[0;34m\u001b[0m\u001b[0m\n\u001b[0m\u001b[1;32m     22\u001b[0m \u001b[0;34m\u001b[0m\u001b[0m\n\u001b[1;32m     23\u001b[0m \u001b[0;31m# Print out shape\u001b[0m\u001b[0;34m\u001b[0m\u001b[0;34m\u001b[0m\u001b[0m\n",
      "\u001b[0;31mNameError\u001b[0m: name 'TESdata_reshaped' is not defined"
     ]
    }
   ],
   "source": [
    "TESdata = triggers  # Assuming TES data is stored here\n",
    "\n",
    "# Transpose your data if necessary\n",
    "# This step will depend on how your data is structured. If it's already in the correct shape, you don't need to transpose it\n",
    "TESdata = TESdata.T\n",
    "\n",
    "# Check the shape of your TES data\n",
    "print(f\"Shape of TES data before reshaping: {TESdata.shape}\")\n",
    "\n",
    "# Ensure the correct reshaping parameters\n",
    "print(f\"n_samples: {n_samples}, n_steps: {n_steps}\")\n",
    "\n",
    "# Reshape your data\n",
    "# The reshape operation may need to change depending on the structure of your data and the needs of your model\n",
    "try:\n",
    "    TESdata_reshaped = TESdata[:n_samples*n_steps].reshape(-1, n_steps, TESdata.shape[1])\n",
    "except ValueError as e:\n",
    "    print(f\"Error during reshaping: {e}\")\n",
    "\n",
    "# Convert to float32\n",
    "TESdata_reshaped = TESdata_reshaped.astype('float32')\n",
    "\n",
    "# Print out shape\n",
    "print(\"TESdata_reshaped shape: \", TESdata_reshaped.shape)\n",
    "\n",
    "# Then use TESdata_reshaped as input to your model\n",
    "model.fit(TESdata_reshaped, label_reshaped, batch_size=64, epochs=10)"
   ]
  },
  {
   "cell_type": "code",
   "execution_count": 14,
   "id": "cdcd4c5a-4b33-4548-b68b-9f988cab6a4f",
   "metadata": {},
   "outputs": [],
   "source": [
    "# Flatten the array to 1D\n",
    "flattened_label = np.concatenate([item[0] for item in label]).ravel()\n",
    "\n",
    "# Encode the labels\n",
    "label_encoded = label_encoder.fit_transform(flattened_label)\n",
    "\n",
    "# Reshape to 2D\n",
    "label_reshaped = label_encoded.reshape(-1, 1).astype('float32')"
   ]
  },
  {
   "cell_type": "code",
   "execution_count": 15,
   "id": "49378724-5740-4cf7-8bb9-3b23cad27566",
   "metadata": {},
   "outputs": [],
   "source": [
    "from sklearn.preprocessing import LabelEncoder\n",
    "\n",
    "# Create a LabelEncoder instance\n",
    "label_encoder = LabelEncoder()\n",
    "\n",
    "# Flatten the array to 1D and extract the string from the label\n",
    "flattened_label = np.concatenate([item[0] for item in label]).ravel()\n",
    "\n",
    "# Encode the labels\n",
    "label_encoded = label_encoder.fit_transform(flattened_label)\n",
    "\n",
    "# Reshape to match the expected shape\n",
    "label_reshaped = label_encoded.reshape(-1, 1).astype('float32')"
   ]
  },
  {
   "cell_type": "code",
   "execution_count": 16,
   "id": "86ea6348-b25d-4b4f-8276-48ef3acd5a1b",
   "metadata": {},
   "outputs": [],
   "source": [
    "EEGdata_reshaped = EEGdata_reshaped.astype('float32')\n",
    "label_reshaped = label_reshaped.astype('float32')"
   ]
  },
  {
   "cell_type": "code",
   "execution_count": 17,
   "id": "fe65d922-31da-446e-9fd8-1f7e5dd10ed2",
   "metadata": {},
   "outputs": [
    {
     "name": "stdout",
     "output_type": "stream",
     "text": [
      "EEGdata_reshaped shape:  (4227, 1000, 35)\n",
      "label_reshaped shape:  (35, 1)\n"
     ]
    }
   ],
   "source": [
    "print(\"EEGdata_reshaped shape: \", EEGdata_reshaped.shape)\n",
    "print(\"label_reshaped shape: \", label_reshaped.shape)"
   ]
  },
  {
   "cell_type": "code",
   "execution_count": 18,
   "id": "fa03d9ab-5d77-4b38-ae0c-a92f3ad8e316",
   "metadata": {},
   "outputs": [
    {
     "name": "stdout",
     "output_type": "stream",
     "text": [
      "EEGdata contains NaN:  False\n",
      "EEGdata contains Inf:  False\n",
      "label contains NaN:  False\n",
      "label contains Inf:  False\n"
     ]
    }
   ],
   "source": [
    "print(\"EEGdata contains NaN: \", np.isnan(EEGdata_reshaped).any())\n",
    "print(\"EEGdata contains Inf: \", np.isinf(EEGdata_reshaped).any())\n",
    "print(\"label contains NaN: \", np.isnan(label_reshaped).any())\n",
    "print(\"label contains Inf: \", np.isinf(label_reshaped).any())"
   ]
  },
  {
   "cell_type": "code",
   "execution_count": 19,
   "id": "a7c67f05-1e51-405a-9590-31288e9acaa9",
   "metadata": {},
   "outputs": [],
   "source": [
    "n_channels = EEGdata_reshaped.shape[2]\n",
    "label_reshaped = np.repeat(label_encoded[:n_samples, np.newaxis], n_steps, axis=1).reshape(-1, n_steps, 1)"
   ]
  },
  {
   "cell_type": "code",
   "execution_count": 20,
   "id": "37ff87a7-1f99-4389-a5e5-5298613857b5",
   "metadata": {},
   "outputs": [
    {
     "name": "stdout",
     "output_type": "stream",
     "text": [
      "EEGdata_reshaped shape:  (4227, 1000, 35)\n",
      "EEGdata_future shape:  (4227, 1000, 35)\n"
     ]
    },
    {
     "ename": "NameError",
     "evalue": "name 'Sequential' is not defined",
     "output_type": "error",
     "traceback": [
      "\u001b[0;31m---------------------------------------------------------------------------\u001b[0m",
      "\u001b[0;31mNameError\u001b[0m                                 Traceback (most recent call last)",
      "\u001b[0;32m/tmp/ipykernel_122061/4185370745.py\u001b[0m in \u001b[0;36m<module>\u001b[0;34m\u001b[0m\n\u001b[1;32m     28\u001b[0m \u001b[0;34m\u001b[0m\u001b[0m\n\u001b[1;32m     29\u001b[0m \u001b[0;31m# Define your LSTM model\u001b[0m\u001b[0;34m\u001b[0m\u001b[0;34m\u001b[0m\u001b[0m\n\u001b[0;32m---> 30\u001b[0;31m \u001b[0mmodel\u001b[0m \u001b[0;34m=\u001b[0m \u001b[0mSequential\u001b[0m\u001b[0;34m(\u001b[0m\u001b[0;34m)\u001b[0m\u001b[0;34m\u001b[0m\u001b[0;34m\u001b[0m\u001b[0m\n\u001b[0m\u001b[1;32m     31\u001b[0m \u001b[0mmodel\u001b[0m\u001b[0;34m.\u001b[0m\u001b[0madd\u001b[0m\u001b[0;34m(\u001b[0m\u001b[0mLSTM\u001b[0m\u001b[0;34m(\u001b[0m\u001b[0;36m32\u001b[0m\u001b[0;34m,\u001b[0m \u001b[0mreturn_sequences\u001b[0m\u001b[0;34m=\u001b[0m\u001b[0;32mTrue\u001b[0m\u001b[0;34m,\u001b[0m \u001b[0minput_shape\u001b[0m\u001b[0;34m=\u001b[0m\u001b[0;34m(\u001b[0m\u001b[0mn_steps\u001b[0m\u001b[0;34m,\u001b[0m \u001b[0mEEGdata\u001b[0m\u001b[0;34m.\u001b[0m\u001b[0mshape\u001b[0m\u001b[0;34m[\u001b[0m\u001b[0;36m1\u001b[0m\u001b[0;34m]\u001b[0m\u001b[0;34m)\u001b[0m\u001b[0;34m)\u001b[0m\u001b[0;34m)\u001b[0m\u001b[0;34m\u001b[0m\u001b[0;34m\u001b[0m\u001b[0m\n\u001b[1;32m     32\u001b[0m \u001b[0mmodel\u001b[0m\u001b[0;34m.\u001b[0m\u001b[0madd\u001b[0m\u001b[0;34m(\u001b[0m\u001b[0mDropout\u001b[0m\u001b[0;34m(\u001b[0m\u001b[0;36m0.5\u001b[0m\u001b[0;34m)\u001b[0m\u001b[0;34m)\u001b[0m\u001b[0;34m\u001b[0m\u001b[0;34m\u001b[0m\u001b[0m\n",
      "\u001b[0;31mNameError\u001b[0m: name 'Sequential' is not defined"
     ]
    }
   ],
   "source": [
    "# Load your data\n",
    "DSamp = data['DSamp']\n",
    "EEGdata = DSamp[0][0][1]\n",
    "\n",
    "# Transpose your data\n",
    "EEGdata = EEGdata.T\n",
    "\n",
    "# Number of timesteps you want for each sample\n",
    "n_steps = 1000\n",
    "\n",
    "# Number of total samples you will have after the segmentation\n",
    "n_samples = EEGdata.shape[0] // n_steps\n",
    "\n",
    "# Reshape your data\n",
    "EEGdata_reshaped = EEGdata[:n_samples*n_steps].reshape(-1, n_steps, EEGdata.shape[1])\n",
    "\n",
    "# We want to predict the future state of the EEG reading, so we shift the EEG readings\n",
    "# to create the \"labels\"\n",
    "future_step = 1  # Change this to predict more steps into the future\n",
    "EEGdata_future = EEGdata[future_step:n_samples*n_steps+future_step].reshape(-1, n_steps, EEGdata.shape[1])\n",
    "\n",
    "EEGdata_reshaped = EEGdata_reshaped.astype('float32')\n",
    "EEGdata_future = EEGdata_future.astype('float32')\n",
    "\n",
    "# Print out shapes\n",
    "print(\"EEGdata_reshaped shape: \", EEGdata_reshaped.shape)\n",
    "print(\"EEGdata_future shape: \", EEGdata_future.shape)\n",
    "\n",
    "# Define your LSTM model\n",
    "model = Sequential()\n",
    "model.add(LSTM(32, return_sequences=True, input_shape=(n_steps, EEGdata.shape[1])))\n",
    "model.add(Dropout(0.5))\n",
    "model.add(LSTM(32, return_sequences=True))\n",
    "model.add(Dense(EEGdata.shape[1], activation='linear'))  # Predict the future state of all channels\n",
    "\n",
    "# Compile and train your model\n",
    "model.compile(loss='mean_squared_error', optimizer='adam')\n",
    "model.fit(EEGdata_reshaped[:-1], EEGdata_future[:-1], batch_size=64, epochs=10)  # We subtract 1 from the shapes to match their sizes"
   ]
  },
  {
   "cell_type": "code",
   "execution_count": null,
   "id": "9c1bff91-8805-4144-be6a-b5e8a6f54479",
   "metadata": {},
   "outputs": [],
   "source": []
  }
 ],
 "metadata": {
  "kernelspec": {
   "display_name": "Python 3 (ipykernel)",
   "language": "python",
   "name": "python3"
  },
  "language_info": {
   "codemirror_mode": {
    "name": "ipython",
    "version": 3
   },
   "file_extension": ".py",
   "mimetype": "text/x-python",
   "name": "python",
   "nbconvert_exporter": "python",
   "pygments_lexer": "ipython3",
   "version": "3.9.13"
  }
 },
 "nbformat": 4,
 "nbformat_minor": 5
}
