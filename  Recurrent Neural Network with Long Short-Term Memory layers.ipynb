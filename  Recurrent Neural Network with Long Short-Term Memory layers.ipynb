{
 "cells": [
  {
   "cell_type": "markdown",
   "id": "a1dc70d0-cd59-49c7-ae55-cfc6e9c30e28",
   "metadata": {},
   "source": [
    "# Recurrent Neural Network with Long Short-Term Memory layers"
   ]
  },
  {
   "cell_type": "code",
   "execution_count": 1,
   "id": "34ee9eef-5419-42ac-9e92-beecf89be8ef",
   "metadata": {},
   "outputs": [],
   "source": [
    "import numpy as np\n",
    "import nolds\n",
    "import scipy.io\n",
    "import mne\n",
    "import pandas as pd\n",
    "import seaborn as sns\n",
    "import pyqtgraph as pg\n",
    "from scipy.io import loadmat\n",
    "from scipy import stats\n",
    "import matplotlib.pyplot as plt\n",
    "import antropy as ent\n",
    "from attractors import Attractor\n",
    "from antropy import higuchi_fd\n",
    "from pyrqa.settings import Settings\n",
    "from pyrqa.neighbourhood import FixedRadius\n",
    "from pyrqa.computation import RQAComputation\n",
    "from pyrqa.time_series import TimeSeries\n",
    "from pyrqa.result import RQAResult\n",
    "from pyrqa.opencl import OpenCL\n",
    "from pyrqa.settings import Settings\n",
    "from pyrqa.time_series import TimeSeries\n",
    "from pyrqa.neighbourhood import FixedRadius\n",
    "from pyrqa.settings import Settings\n",
    "from pyrqa.time_series import TimeSeries\n",
    "from pyrqa.neighbourhood import FixedRadius\n",
    "from pyrqa.metric import EuclideanMetric\n",
    "from pyrqa.computation import RQAComputation\n",
    "from pyrqa.metric import EuclideanMetric\n",
    "from pyrqa.computation import RQAComputation\n",
    "from pyrqa.settings import Settings\n",
    "from pyrqa.neighbourhood import FixedRadius\n",
    "from pyrqa.metric import EuclideanMetric\n",
    "from pyrqa.image_generator import ImageGenerator\n",
    "import numpy as np\n",
    "import matplotlib.pyplot as plt\n",
    "from antropy import higuchi_fd"
   ]
  },
  {
   "cell_type": "code",
   "execution_count": 2,
   "id": "1db052b5-d23d-4e3f-9cba-66ffee293df3",
   "metadata": {},
   "outputs": [],
   "source": [
    "# Load data\n",
    "data = loadmat('/home/vincent/AAA_projects/MVCS/Neuroscience/downsampled/EEG_DS_Struct_0101.mat')"
   ]
  },
  {
   "cell_type": "code",
   "execution_count": 3,
   "id": "5ba9facb-e6c1-47c5-b017-6fbdf32c7fbd",
   "metadata": {},
   "outputs": [],
   "source": [
    "stim_data = pd.read_excel('/home/vincent/AAA_projects/MVCS/Neuroscience/EEG-tES-Chaos-Neural-Net/Stimulation.xlsx')\n",
    "stim_data = stim_data.dropna()\n",
    "\n",
    "stim_data = stim_data.rename(columns={\"Unnamed: 13\": \"Stim Type Block 2\",\n",
    "                                      \"Unnamed: 14\": \"Stim Type Block 3\",\n",
    "                                      \"Unnamed: 16\": \"Stim Amplitude (mA) Block 2\",\n",
    "                                      \"Unnamed: 17\": \"Stim Amplitude (mA) Block 3\"})"
   ]
  },
  {
   "cell_type": "code",
   "execution_count": 4,
   "id": "1f7ce046-cc55-4d2d-8533-808f2ebae5cb",
   "metadata": {},
   "outputs": [],
   "source": [
    "DSamp = data['DSamp']\n",
    "\n",
    "triggers = DSamp[0][0][0]\n",
    "EEGdata = DSamp[0][0][1]\n",
    "fs = DSamp[0][0][2][0][0] \n",
    "fsOld = DSamp[0][0][3][0][0] \n",
    "time = DSamp[0][0][4][0]\n",
    "label = DSamp[0][0][5]\n",
    "nchan = DSamp[0][0][6][0][0]\n",
    "rate = DSamp[0][0][7][0][0]\n",
    "npt = DSamp[0][0][8][0][0]\n",
    "Subj = DSamp[0][0][9][0]\n",
    "ptrackerPerf = DSamp[0][0][10]\n",
    "ptrackerTime = DSamp[0][0][11]\n",
    "ptrackerfs = DSamp[0][0][12][0][0]"
   ]
  },
  {
   "cell_type": "code",
   "execution_count": 5,
   "id": "cfb126e7-6cde-4522-b449-1c27a87d61ef",
   "metadata": {},
   "outputs": [
    {
     "name": "stdout",
     "output_type": "stream",
     "text": [
      "[[(array([[(array([[20.428]]), array([[20429]], dtype=uint16), array(['0002'], dtype='<U4'), array([[2]], dtype=uint8), array(['Block Start'], dtype='<U11'), array([], shape=(1, 0), dtype=float64)),\n",
      "          (array([[619.442]]), array([[619443]], dtype=int32), array(['0002'], dtype='<U4'), array([[2]], dtype=uint8), array(['Block Start'], dtype='<U11'), array([], shape=(1, 0), dtype=float64)),\n",
      "          (array([[619.499]]), array([[619500]], dtype=int32), array(['0016'], dtype='<U4'), array([[16]], dtype=uint8), array(['Stim Start'], dtype='<U10'), array(['M30'], dtype='<U3')),\n",
      "          (array([[654.746]]), array([[654747]], dtype=int32), array(['0032'], dtype='<U4'), array([[32]], dtype=uint8), array(['Stim Stop'], dtype='<U9'), array([], shape=(1, 0), dtype=float64)),\n",
      "          (array([[770.515]]), array([[770516]], dtype=int32), array(['0016'], dtype='<U4'), array([[16]], dtype=uint8), array(['Stim Start'], dtype='<U10'), array(['M30'], dtype='<U3')),\n",
      "          (array([[805.571]]), array([[805572]], dtype=int32), array(['0032'], dtype='<U4'), array([[32]], dtype=uint8), array(['Stim Stop'], dtype='<U9'), array([], shape=(1, 0), dtype=float64)),\n",
      "          (array([[921.515]]), array([[921516]], dtype=int32), array(['0016'], dtype='<U4'), array([[16]], dtype=uint8), array(['Stim Start'], dtype='<U10'), array(['M30'], dtype='<U3')),\n",
      "          (array([[956.651]]), array([[956652]], dtype=int32), array(['0032'], dtype='<U4'), array([[32]], dtype=uint8), array(['Stim Stop'], dtype='<U9'), array([], shape=(1, 0), dtype=float64)),\n",
      "          (array([[1072.551]]), array([[1072552]], dtype=int32), array(['0016'], dtype='<U4'), array([[16]], dtype=uint8), array(['Stim Start'], dtype='<U10'), array(['M30'], dtype='<U3')),\n",
      "          (array([[1107.578]]), array([[1107579]], dtype=int32), array(['0032'], dtype='<U4'), array([[32]], dtype=uint8), array(['Stim Stop'], dtype='<U9'), array([], shape=(1, 0), dtype=float64)),\n",
      "          (array([[1218.442]]), array([[1218443]], dtype=int32), array(['0002'], dtype='<U4'), array([[2]], dtype=uint8), array(['Block Start'], dtype='<U11'), array([], shape=(1, 0), dtype=float64)),\n",
      "          (array([[1817.46]]), array([[1817461]], dtype=int32), array(['0002'], dtype='<U4'), array([[2]], dtype=uint8), array(['Block Start'], dtype='<U11'), array([], shape=(1, 0), dtype=float64)),\n",
      "          (array([[1819.593]]), array([[1819594]], dtype=int32), array(['0016'], dtype='<U4'), array([[16]], dtype=uint8), array(['Stim Start'], dtype='<U10'), array(['M30'], dtype='<U3')),\n",
      "          (array([[1854.888]]), array([[1854889]], dtype=int32), array(['0032'], dtype='<U4'), array([[32]], dtype=uint8), array(['Stim Stop'], dtype='<U9'), array([], shape=(1, 0), dtype=float64)),\n",
      "          (array([[1970.669]]), array([[1970670]], dtype=int32), array(['0016'], dtype='<U4'), array([[16]], dtype=uint8), array(['Stim Start'], dtype='<U10'), array(['M30'], dtype='<U3')),\n",
      "          (array([[2005.715]]), array([[2005716]], dtype=int32), array(['0032'], dtype='<U4'), array([[32]], dtype=uint8), array(['Stim Stop'], dtype='<U9'), array([], shape=(1, 0), dtype=float64)),\n",
      "          (array([[2121.644]]), array([[2121645]], dtype=int32), array(['0016'], dtype='<U4'), array([[16]], dtype=uint8), array(['Stim Start'], dtype='<U10'), array(['M30'], dtype='<U3')),\n",
      "          (array([[2156.695]]), array([[2156696]], dtype=int32), array(['0032'], dtype='<U4'), array([[32]], dtype=uint8), array(['Stim Stop'], dtype='<U9'), array([], shape=(1, 0), dtype=float64)),\n",
      "          (array([[2272.756]]), array([[2272757]], dtype=int32), array(['0016'], dtype='<U4'), array([[16]], dtype=uint8), array(['Stim Start'], dtype='<U10'), array(['M30'], dtype='<U3')),\n",
      "          (array([[2307.798]]), array([[2307799]], dtype=int32), array(['0032'], dtype='<U4'), array([[32]], dtype=uint8), array(['Stim Stop'], dtype='<U9'), array([], shape=(1, 0), dtype=float64)),\n",
      "          (array([[2416.534]]), array([[2416535]], dtype=int32), array(['0002'], dtype='<U4'), array([[2]], dtype=uint8), array(['Block Start'], dtype='<U11'), array([], shape=(1, 0), dtype=float64)),\n",
      "          (array([[3015.513]]), array([[3015514]], dtype=int32), array(['0002'], dtype='<U4'), array([[2]], dtype=uint8), array(['Block Start'], dtype='<U11'), array([], shape=(1, 0), dtype=float64)),\n",
      "          (array([[3019.822]]), array([[3019823]], dtype=int32), array(['0016'], dtype='<U4'), array([[16]], dtype=uint8), array(['Stim Start'], dtype='<U10'), array(['M30'], dtype='<U3')),\n",
      "          (array([[3019.924]]), array([[3019925]], dtype=int32), array(['0032'], dtype='<U4'), array([[32]], dtype=uint8), array(['Stim Stop'], dtype='<U9'), array([], shape=(1, 0), dtype=float64))]],\n",
      "        dtype=[('time', 'O'), ('offset', 'O'), ('code', 'O'), ('type', 'O'), ('Label', 'O'), ('StimType', 'O')]), array([[-21295.98864928, -21303.74707676, -21315.46657134, ...,\n",
      "          -17286.89230419, -17281.27799398, -17330.52269117],\n",
      "         [-20109.7167273 , -20120.74615359, -20130.12657698, ...,\n",
      "          -16618.13723294, -16602.343699  , -16641.89672243],\n",
      "         [-24153.38375243, -24163.86401194, -24171.94434272, ...,\n",
      "          -14755.59815419, -14743.08142526, -14783.66201823],\n",
      "         ...,\n",
      "         [  2692.44573979,   2703.97118199,   2731.75987441, ...,\n",
      "            4181.64344633,   4157.70728788,   4198.03945844],\n",
      "         [ -5014.9543463 ,  -5014.10209995,  -5019.83464311, ...,\n",
      "           -4711.95486888,  -4706.99851768,  -4709.83053726],\n",
      "         [    76.88986022,     72.02278487,     66.20816171, ...,\n",
      "              73.4410151 ,     69.33401454,     66.65666327]]), array([[1000]], dtype=uint16), array([[2000]], dtype=uint16), array([[0.000000e+00, 1.000000e-03, 2.000000e-03, ..., 4.227785e+03,\n",
      "          4.227786e+03, 4.227787e+03]]), array([[array(['Fp1'], dtype='<U3')],\n",
      "         [array(['Fpz'], dtype='<U3')],\n",
      "         [array(['Fp2'], dtype='<U3')],\n",
      "         [array(['F7'], dtype='<U2')],\n",
      "         [array(['F3'], dtype='<U2')],\n",
      "         [array(['Fz'], dtype='<U2')],\n",
      "         [array(['F4'], dtype='<U2')],\n",
      "         [array(['F8'], dtype='<U2')],\n",
      "         [array(['FC5'], dtype='<U3')],\n",
      "         [array(['FC1'], dtype='<U3')],\n",
      "         [array(['FC2'], dtype='<U3')],\n",
      "         [array(['FC6'], dtype='<U3')],\n",
      "         [array(['M1'], dtype='<U2')],\n",
      "         [array(['T7'], dtype='<U2')],\n",
      "         [array(['C3'], dtype='<U2')],\n",
      "         [array(['Cz'], dtype='<U2')],\n",
      "         [array(['C4'], dtype='<U2')],\n",
      "         [array(['T8'], dtype='<U2')],\n",
      "         [array(['M2'], dtype='<U2')],\n",
      "         [array(['CP5'], dtype='<U3')],\n",
      "         [array(['CP1'], dtype='<U3')],\n",
      "         [array(['CP2'], dtype='<U3')],\n",
      "         [array(['CP6'], dtype='<U3')],\n",
      "         [array(['P7'], dtype='<U2')],\n",
      "         [array(['P3'], dtype='<U2')],\n",
      "         [array(['Pz'], dtype='<U2')],\n",
      "         [array(['P4'], dtype='<U2')],\n",
      "         [array(['P8'], dtype='<U2')],\n",
      "         [array(['POz'], dtype='<U3')],\n",
      "         [array(['O1'], dtype='<U2')],\n",
      "         [array(['Oz'], dtype='<U2')],\n",
      "         [array(['O2'], dtype='<U2')],\n",
      "         [array(['BIP1'], dtype='<U4')],\n",
      "         [array(['BIP2'], dtype='<U4')],\n",
      "         [array(['RESP1'], dtype='<U5')]], dtype=object), array([[35]], dtype=uint8), array([[1000]], dtype=uint16), array([[4227788]], dtype=int32), array(['0101'], dtype='<U4'), array([[ 0.82088665],\n",
      "         [ 1.32936508],\n",
      "         [ 1.76474775],\n",
      "         ...,\n",
      "         [11.88057628],\n",
      "         [ 9.25956959],\n",
      "         [ 3.30952176]]), array([[0.00000e+00],\n",
      "         [1.00000e-02],\n",
      "         [2.00000e-02],\n",
      "         ...,\n",
      "         [4.19999e+03],\n",
      "         [4.20000e+03],\n",
      "         [4.20001e+03]]), array([[100]], dtype=uint8))                                                                                                                                                   ]]     Sub#  Session  File Num F0 M0 P0 F5 M5 P5 F30 M30 P30 Stim Type  \\\n",
      "1    1.0      1.0     101.0  1                  7   8           M30   \n",
      "7    2.0      1.0     201.0           4         7       9      F30♦   \n",
      "9    3.0      1.0     301.0     2  3            7                M0   \n",
      "12   4.0      1.0     401.0           4             8   9       P30   \n",
      "15   5.0      1.0     501.0        3     5  6                    M5   \n",
      "18   6.0      1.0     601.0  1        4     6                    F0   \n",
      "21   7.0      1.0     701.0           4  5  6                    P5   \n",
      "24   8.0      1.0     801.0           4  5          8            F5   \n",
      "27   9.0      1.0     901.0  1        4                 9       P30   \n",
      "30  10.0      1.0    1001.0     2  3     5                       M0   \n",
      "\n",
      "   Stim Type Block 2 Stim Type Block 3 Stim Amplitude (mA)  \\\n",
      "1                F30               F0♦                   1   \n",
      "7                 F5               P30                 0.5   \n",
      "9                 P0               F30                 0.5   \n",
      "12               M30                F5                 0.5   \n",
      "15                P0                P5                 0.5   \n",
      "18                F5                P5                   1   \n",
      "21                F5                M5                 0.5   \n",
      "24               M30                M5                   1   \n",
      "27                F5                F0                 0.5   \n",
      "30                P0                M5                   1   \n",
      "\n",
      "   Stim Amplitude (mA) Block 2 Stim Amplitude (mA) Block 3  \n",
      "1                            1                           1  \n",
      "7                          0.5                         0.5  \n",
      "9                          0.5                         0.5  \n",
      "12                         0.5                         0.5  \n",
      "15                           1                           1  \n",
      "18                         0.5                           1  \n",
      "21                         0.5                         0.5  \n",
      "24                           1                           1  \n",
      "27                         0.5                           1  \n",
      "30                           1                           1  \n"
     ]
    }
   ],
   "source": [
    "print(DSamp, stim_data)"
   ]
  },
  {
   "cell_type": "code",
   "execution_count": 13,
   "id": "bd13d0a7-e46c-4de7-b006-69b77efe9d0b",
   "metadata": {},
   "outputs": [
    {
     "name": "stdout",
     "output_type": "stream",
     "text": [
      "Shape of TES data before reshaping: (24, 1)\n",
      "n_samples: 4227, n_steps: 1000\n",
      "Error during reshaping: cannot reshape array of size 24 into shape (1000,1)\n"
     ]
    },
    {
     "ename": "NameError",
     "evalue": "name 'TESdata_reshaped' is not defined",
     "output_type": "error",
     "traceback": [
      "\u001b[0;31m---------------------------------------------------------------------------\u001b[0m",
      "\u001b[0;31mNameError\u001b[0m                                 Traceback (most recent call last)",
      "\u001b[0;32m/tmp/ipykernel_122061/1956411969.py\u001b[0m in \u001b[0;36m<module>\u001b[0;34m\u001b[0m\n\u001b[1;32m     19\u001b[0m \u001b[0;34m\u001b[0m\u001b[0m\n\u001b[1;32m     20\u001b[0m \u001b[0;31m# Convert to float32\u001b[0m\u001b[0;34m\u001b[0m\u001b[0;34m\u001b[0m\u001b[0m\n\u001b[0;32m---> 21\u001b[0;31m \u001b[0mTESdata_reshaped\u001b[0m \u001b[0;34m=\u001b[0m \u001b[0mTESdata_reshaped\u001b[0m\u001b[0;34m.\u001b[0m\u001b[0mastype\u001b[0m\u001b[0;34m(\u001b[0m\u001b[0;34m'float32'\u001b[0m\u001b[0;34m)\u001b[0m\u001b[0;34m\u001b[0m\u001b[0;34m\u001b[0m\u001b[0m\n\u001b[0m\u001b[1;32m     22\u001b[0m \u001b[0;34m\u001b[0m\u001b[0m\n\u001b[1;32m     23\u001b[0m \u001b[0;31m# Print out shape\u001b[0m\u001b[0;34m\u001b[0m\u001b[0;34m\u001b[0m\u001b[0m\n",
      "\u001b[0;31mNameError\u001b[0m: name 'TESdata_reshaped' is not defined"
     ]
    }
   ],
   "source": [
    "TESdata = triggers  # Assuming TES data is stored here\n",
    "\n",
    "# Transpose your data if necessary\n",
    "# This step will depend on how your data is structured. If it's already in the correct shape, you don't need to transpose it\n",
    "TESdata = TESdata.T\n",
    "\n",
    "# Check the shape of your TES data\n",
    "print(f\"Shape of TES data before reshaping: {TESdata.shape}\")\n",
    "\n",
    "# Ensure the correct reshaping parameters\n",
    "print(f\"n_samples: {n_samples}, n_steps: {n_steps}\")\n",
    "\n",
    "# Reshape your data\n",
    "# The reshape operation may need to change depending on the structure of your data and the needs of your model\n",
    "try:\n",
    "    TESdata_reshaped = TESdata[:n_samples*n_steps].reshape(-1, n_steps, TESdata.shape[1])\n",
    "except ValueError as e:\n",
    "    print(f\"Error during reshaping: {e}\")\n",
    "\n",
    "# Convert to float32\n",
    "TESdata_reshaped = TESdata_reshaped.astype('float32')\n",
    "\n",
    "# Print out shape\n",
    "print(\"TESdata_reshaped shape: \", TESdata_reshaped.shape)\n",
    "\n",
    "# Then use TESdata_reshaped as input to your model\n",
    "model.fit(TESdata_reshaped, label_reshaped, batch_size=64, epochs=10)"
   ]
  },
  {
   "cell_type": "code",
   "execution_count": 14,
   "id": "cdcd4c5a-4b33-4548-b68b-9f988cab6a4f",
   "metadata": {},
   "outputs": [],
   "source": [
    "# Flatten the array to 1D\n",
    "flattened_label = np.concatenate([item[0] for item in label]).ravel()\n",
    "\n",
    "# Encode the labels\n",
    "label_encoded = label_encoder.fit_transform(flattened_label)\n",
    "\n",
    "# Reshape to 2D\n",
    "label_reshaped = label_encoded.reshape(-1, 1).astype('float32')"
   ]
  },
  {
   "cell_type": "code",
   "execution_count": 15,
   "id": "49378724-5740-4cf7-8bb9-3b23cad27566",
   "metadata": {},
   "outputs": [],
   "source": [
    "from sklearn.preprocessing import LabelEncoder\n",
    "\n",
    "# Create a LabelEncoder instance\n",
    "label_encoder = LabelEncoder()\n",
    "\n",
    "# Flatten the array to 1D and extract the string from the label\n",
    "flattened_label = np.concatenate([item[0] for item in label]).ravel()\n",
    "\n",
    "# Encode the labels\n",
    "label_encoded = label_encoder.fit_transform(flattened_label)\n",
    "\n",
    "# Reshape to match the expected shape\n",
    "label_reshaped = label_encoded.reshape(-1, 1).astype('float32')"
   ]
  },
  {
   "cell_type": "code",
   "execution_count": 16,
   "id": "86ea6348-b25d-4b4f-8276-48ef3acd5a1b",
   "metadata": {},
   "outputs": [],
   "source": [
    "EEGdata_reshaped = EEGdata_reshaped.astype('float32')\n",
    "label_reshaped = label_reshaped.astype('float32')"
   ]
  },
  {
   "cell_type": "code",
   "execution_count": 17,
   "id": "fe65d922-31da-446e-9fd8-1f7e5dd10ed2",
   "metadata": {},
   "outputs": [
    {
     "name": "stdout",
     "output_type": "stream",
     "text": [
      "EEGdata_reshaped shape:  (4227, 1000, 35)\n",
      "label_reshaped shape:  (35, 1)\n"
     ]
    }
   ],
   "source": [
    "print(\"EEGdata_reshaped shape: \", EEGdata_reshaped.shape)\n",
    "print(\"label_reshaped shape: \", label_reshaped.shape)"
   ]
  },
  {
   "cell_type": "code",
   "execution_count": 18,
   "id": "fa03d9ab-5d77-4b38-ae0c-a92f3ad8e316",
   "metadata": {},
   "outputs": [
    {
     "name": "stdout",
     "output_type": "stream",
     "text": [
      "EEGdata contains NaN:  False\n",
      "EEGdata contains Inf:  False\n",
      "label contains NaN:  False\n",
      "label contains Inf:  False\n"
     ]
    }
   ],
   "source": [
    "print(\"EEGdata contains NaN: \", np.isnan(EEGdata_reshaped).any())\n",
    "print(\"EEGdata contains Inf: \", np.isinf(EEGdata_reshaped).any())\n",
    "print(\"label contains NaN: \", np.isnan(label_reshaped).any())\n",
    "print(\"label contains Inf: \", np.isinf(label_reshaped).any())"
   ]
  },
  {
   "cell_type": "code",
   "execution_count": 19,
   "id": "a7c67f05-1e51-405a-9590-31288e9acaa9",
   "metadata": {},
   "outputs": [],
   "source": [
    "n_channels = EEGdata_reshaped.shape[2]\n",
    "label_reshaped = np.repeat(label_encoded[:n_samples, np.newaxis], n_steps, axis=1).reshape(-1, n_steps, 1)"
   ]
  },
  {
   "cell_type": "code",
   "execution_count": 20,
   "id": "37ff87a7-1f99-4389-a5e5-5298613857b5",
   "metadata": {},
   "outputs": [
    {
     "name": "stdout",
     "output_type": "stream",
     "text": [
      "EEGdata_reshaped shape:  (4227, 1000, 35)\n",
      "EEGdata_future shape:  (4227, 1000, 35)\n"
     ]
    },
    {
     "ename": "NameError",
     "evalue": "name 'Sequential' is not defined",
     "output_type": "error",
     "traceback": [
      "\u001b[0;31m---------------------------------------------------------------------------\u001b[0m",
      "\u001b[0;31mNameError\u001b[0m                                 Traceback (most recent call last)",
      "\u001b[0;32m/tmp/ipykernel_122061/4185370745.py\u001b[0m in \u001b[0;36m<module>\u001b[0;34m\u001b[0m\n\u001b[1;32m     28\u001b[0m \u001b[0;34m\u001b[0m\u001b[0m\n\u001b[1;32m     29\u001b[0m \u001b[0;31m# Define your LSTM model\u001b[0m\u001b[0;34m\u001b[0m\u001b[0;34m\u001b[0m\u001b[0m\n\u001b[0;32m---> 30\u001b[0;31m \u001b[0mmodel\u001b[0m \u001b[0;34m=\u001b[0m \u001b[0mSequential\u001b[0m\u001b[0;34m(\u001b[0m\u001b[0;34m)\u001b[0m\u001b[0;34m\u001b[0m\u001b[0;34m\u001b[0m\u001b[0m\n\u001b[0m\u001b[1;32m     31\u001b[0m \u001b[0mmodel\u001b[0m\u001b[0;34m.\u001b[0m\u001b[0madd\u001b[0m\u001b[0;34m(\u001b[0m\u001b[0mLSTM\u001b[0m\u001b[0;34m(\u001b[0m\u001b[0;36m32\u001b[0m\u001b[0;34m,\u001b[0m \u001b[0mreturn_sequences\u001b[0m\u001b[0;34m=\u001b[0m\u001b[0;32mTrue\u001b[0m\u001b[0;34m,\u001b[0m \u001b[0minput_shape\u001b[0m\u001b[0;34m=\u001b[0m\u001b[0;34m(\u001b[0m\u001b[0mn_steps\u001b[0m\u001b[0;34m,\u001b[0m \u001b[0mEEGdata\u001b[0m\u001b[0;34m.\u001b[0m\u001b[0mshape\u001b[0m\u001b[0;34m[\u001b[0m\u001b[0;36m1\u001b[0m\u001b[0;34m]\u001b[0m\u001b[0;34m)\u001b[0m\u001b[0;34m)\u001b[0m\u001b[0;34m)\u001b[0m\u001b[0;34m\u001b[0m\u001b[0;34m\u001b[0m\u001b[0m\n\u001b[1;32m     32\u001b[0m \u001b[0mmodel\u001b[0m\u001b[0;34m.\u001b[0m\u001b[0madd\u001b[0m\u001b[0;34m(\u001b[0m\u001b[0mDropout\u001b[0m\u001b[0;34m(\u001b[0m\u001b[0;36m0.5\u001b[0m\u001b[0;34m)\u001b[0m\u001b[0;34m)\u001b[0m\u001b[0;34m\u001b[0m\u001b[0;34m\u001b[0m\u001b[0m\n",
      "\u001b[0;31mNameError\u001b[0m: name 'Sequential' is not defined"
     ]
    }
   ],
   "source": [
    "# Load your data\n",
    "DSamp = data['DSamp']\n",
    "EEGdata = DSamp[0][0][1]\n",
    "\n",
    "# Transpose your data\n",
    "EEGdata = EEGdata.T\n",
    "\n",
    "# Number of timesteps you want for each sample\n",
    "n_steps = 1000\n",
    "\n",
    "# Number of total samples you will have after the segmentation\n",
    "n_samples = EEGdata.shape[0] // n_steps\n",
    "\n",
    "# Reshape your data\n",
    "EEGdata_reshaped = EEGdata[:n_samples*n_steps].reshape(-1, n_steps, EEGdata.shape[1])\n",
    "\n",
    "# We want to predict the future state of the EEG reading, so we shift the EEG readings\n",
    "# to create the \"labels\"\n",
    "future_step = 1  # Change this to predict more steps into the future\n",
    "EEGdata_future = EEGdata[future_step:n_samples*n_steps+future_step].reshape(-1, n_steps, EEGdata.shape[1])\n",
    "\n",
    "EEGdata_reshaped = EEGdata_reshaped.astype('float32')\n",
    "EEGdata_future = EEGdata_future.astype('float32')\n",
    "\n",
    "# Print out shapes\n",
    "print(\"EEGdata_reshaped shape: \", EEGdata_reshaped.shape)\n",
    "print(\"EEGdata_future shape: \", EEGdata_future.shape)\n",
    "\n",
    "# Define your LSTM model\n",
    "model = Sequential()\n",
    "model.add(LSTM(32, return_sequences=True, input_shape=(n_steps, EEGdata.shape[1])))\n",
    "model.add(Dropout(0.5))\n",
    "model.add(LSTM(32, return_sequences=True))\n",
    "model.add(Dense(EEGdata.shape[1], activation='linear'))  # Predict the future state of all channels\n",
    "\n",
    "# Compile and train your model\n",
    "model.compile(loss='mean_squared_error', optimizer='adam')\n",
    "model.fit(EEGdata_reshaped[:-1], EEGdata_future[:-1], batch_size=64, epochs=10)  # We subtract 1 from the shapes to match their sizes"
   ]
  },
  {
   "cell_type": "code",
   "execution_count": null,
   "id": "9c1bff91-8805-4144-be6a-b5e8a6f54479",
   "metadata": {},
   "outputs": [],
   "source": []
  }
 ],
 "metadata": {
  "kernelspec": {
   "display_name": "Python 3 (ipykernel)",
   "language": "python",
   "name": "python3"
  },
  "language_info": {
   "codemirror_mode": {
    "name": "ipython",
    "version": 3
   },
   "file_extension": ".py",
   "mimetype": "text/x-python",
   "name": "python",
   "nbconvert_exporter": "python",
   "pygments_lexer": "ipython3",
   "version": "3.9.13"
  }
 },
 "nbformat": 4,
 "nbformat_minor": 5
}
