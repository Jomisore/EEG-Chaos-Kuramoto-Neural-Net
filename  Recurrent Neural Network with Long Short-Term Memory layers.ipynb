{
 "cells": [
  {
   "cell_type": "markdown",
   "id": "a1dc70d0-cd59-49c7-ae55-cfc6e9c30e28",
   "metadata": {},
   "source": [
    "# Recurrent Neural Network with Long Short-Term Memory layers"
   ]
  },
  {
   "cell_type": "code",
   "execution_count": 2,
   "id": "34ee9eef-5419-42ac-9e92-beecf89be8ef",
   "metadata": {},
   "outputs": [],
   "source": [
    "import numpy as np\n",
    "import nolds\n",
    "import scipy.io\n",
    "import mne\n",
    "import pandas as pd\n",
    "import seaborn as sns\n",
    "import pyqtgraph as pg\n",
    "from scipy.io import loadmat\n",
    "from scipy import stats\n",
    "import matplotlib.pyplot as plt\n",
    "import antropy as ent\n",
    "from attractors import Attractor\n",
    "from antropy import higuchi_fd\n",
    "from pyrqa.settings import Settings\n",
    "from pyrqa.neighbourhood import FixedRadius\n",
    "from pyrqa.computation import RQAComputation\n",
    "from pyrqa.time_series import TimeSeries\n",
    "from pyrqa.result import RQAResult\n",
    "from pyrqa.opencl import OpenCL\n",
    "from pyrqa.settings import Settings\n",
    "from pyrqa.time_series import TimeSeries\n",
    "from pyrqa.neighbourhood import FixedRadius\n",
    "from pyrqa.settings import Settings\n",
    "from pyrqa.time_series import TimeSeries\n",
    "from pyrqa.neighbourhood import FixedRadius\n",
    "from pyrqa.metric import EuclideanMetric\n",
    "from pyrqa.computation import RQAComputation\n",
    "from pyrqa.metric import EuclideanMetric\n",
    "from pyrqa.computation import RQAComputation\n",
    "from pyrqa.settings import Settings\n",
    "from pyrqa.neighbourhood import FixedRadius\n",
    "from pyrqa.metric import EuclideanMetric\n",
    "from pyrqa.image_generator import ImageGenerator\n",
    "import numpy as np\n",
    "import matplotlib.pyplot as plt\n",
    "from antropy import higuchi_fd"
   ]
  },
  {
   "cell_type": "code",
   "execution_count": 3,
   "id": "1db052b5-d23d-4e3f-9cba-66ffee293df3",
   "metadata": {},
   "outputs": [],
   "source": [
    "# Load data\n",
    "data = loadmat('/home/vincent/AAA_projects/MVCS/Neuroscience/downsampled/EEG_DS_Struct_0101.mat')\n",
    "stim_data = pd.read_excel('/home/vincent/AAA_projects/MVCS/Neuroscience/EEG-tES-Chaos-Neural-Net/stim_data.xlsx')\n",
    "\n",
    "# Fill null values in 'Sub#' column\n",
    "stim_data['Sub#'].fillna(method='ffill', inplace=True)\n",
    "\n",
    "DSamp = data['DSamp']\n",
    "\n",
    "# Get data parameters\n",
    "triggers = DSamp[0][0][0]\n",
    "EEGdata = DSamp[0][0][1]\n",
    "fs = DSamp[0][0][2][0][0]\n",
    "fsOld = DSamp[0][0][3][0][0]\n",
    "time = DSamp[0][0][4][0]\n",
    "label = DSamp[0][0][5]\n",
    "nchan = DSamp[0][0][6][0][0]\n",
    "rate = DSamp[0][0][7][0][0]\n",
    "npt = DSamp[0][0][8][0][0]\n",
    "Subj = DSamp[0][0][9][0]\n",
    "ptrackerPerf = DSamp[0][0][10]\n",
    "ptrackerTime = DSamp[0][0][11]\n",
    "ptrackerfs = DSamp[0][0][12][0][0]\n",
    "\n",
    "# List of unwanted channel names\n",
    "unwanted_channels = ['BIP1', 'BIP2', 'RESP1']\n",
    "\n",
    "# Create a mask where True indicates that the channel is not unwanted\n",
    "mask = np.array([ch[0][0] not in unwanted_channels for ch in label])\n",
    "\n",
    "# Filter out unwanted channels from the label data\n",
    "filtered_label = label[mask]\n",
    "\n",
    "# Convert the filtered list back to numpy array and replace the original label\n",
    "label = np.array(filtered_label, dtype=object)\n",
    "\n",
    "# Transpose EEGdata\n",
    "EEGdata = EEGdata.T\n",
    "\n",
    "# Filter out unwanted channels from the EEG data\n",
    "filtered_EEGdata = EEGdata[:, mask]\n",
    "\n",
    "# Transpose it back if needed\n",
    "filtered_EEGdata = filtered_EEGdata.T\n",
    "\n",
    "#Select subject\n",
    "stim_data = stim_data[stim_data['Sub#'] == 1]\n",
    "\n",
    "stim_data_df = pd.DataFrame(stim_data)\n",
    "\n",
    "\n",
    "import numpy as np\n",
    "\n",
    "def flatten(item):\n",
    "    if isinstance(item, list):\n",
    "        for subitem in item:\n",
    "            yield from flatten(subitem)\n",
    "    elif isinstance(item, np.ndarray):\n",
    "        for subitem in item.flatten():\n",
    "            yield from flatten(subitem)\n",
    "    else:\n",
    "        yield item\n",
    "\n",
    "            \n",
    "trigger_list = []  \n",
    "for trigger in triggers[0]:\n",
    "    trigger_list.append([list(flatten(trigger[0])),  # Time\n",
    "                         list(flatten(trigger[1])),  # SampleNum\n",
    "                         list(flatten(trigger[2])),  # FileNum\n",
    "                         list(flatten(trigger[3])),  # EventType\n",
    "                         list(flatten(trigger[4])),  # EventDescription\n",
    "                         list(flatten(trigger[5])) if trigger[5].size else ['Unknown']  # StimType\n",
    "                        ])\n",
    "\n",
    "\n",
    "# Create DataFrame and transpose it\n",
    "eeg_df = pd.DataFrame(filtered_EEGdata.T)  # Transpose the data\n",
    "\n",
    "# We convert the labels list into a simple list (previously it was a list of numpy arrays)\n",
    "simple_label = [label_item[0][0] for label_item in label]\n",
    "\n",
    "eeg_df.columns = simple_label  # Assign column names\n",
    "\n",
    "# Create DataFrames\n",
    "triggers_df = pd.DataFrame(trigger_list, columns=[\"Time\", \"SampleNum\", \"EventType1\", \"EventType\", \"EventDescription\", \"StimType\"])\n",
    "triggers_df = triggers_df.drop(['EventType1', 'SampleNum'], axis=1)"
   ]
  },
  {
   "cell_type": "code",
   "execution_count": 4,
   "id": "6372df66-f1ae-489c-a2ab-cdd075a3a3c6",
   "metadata": {},
   "outputs": [
    {
     "name": "stdout",
     "output_type": "stream",
     "text": [
      "        Time EventType EventDescription   StimType\n",
      "0   [20.428]       [2]    [Block Start]  [Unknown]\n",
      "1  [619.442]       [2]    [Block Start]  [Unknown]\n",
      "2  [619.499]      [16]     [Stim Start]      [M30]\n",
      "3  [654.746]      [32]      [Stim Stop]  [Unknown]\n",
      "4  [770.515]      [16]     [Stim Start]      [M30]\n",
      "   Sub#  Session  File Num F0 M0 P0 F5 M5 P5 F30 M30 P30 StimTypeBlock1  \\\n",
      "0     1        1       101  1                  7   8                M30   \n",
      "1     1        2       102  1                  7   8                M30   \n",
      "2     1        3       103        3        6           9            P30   \n",
      "3     1        4       104     2     4  5                            F5   \n",
      "4     1        5       105     2     4  5                            F5   \n",
      "\n",
      "  StimTypeBlock2 StimTypeBlock3  StimAmplitude_mA_block1  \\\n",
      "0            F30            F0♦                      1.0   \n",
      "1            F30            F0♦                      0.5   \n",
      "2             P0             P5                      0.5   \n",
      "3             M5             M0                      0.5   \n",
      "4             M5             M0                      1.0   \n",
      "\n",
      "   StimAmplitude_mA_block2  StimAmplitude_mA_block3  \n",
      "0                      1.0                      1.0  \n",
      "1                      0.5                      0.5  \n",
      "2                      0.5                      0.5  \n",
      "3                      0.5                      0.5  \n",
      "4                      1.0                      1.0  \n",
      "            Fp1           Fpz           Fp2           F7         F3  \\\n",
      "0 -21295.988649 -20109.716727 -24153.383752  3189.340060 -45.189275   \n",
      "1 -21303.747077 -20120.746154 -24163.864012  3178.880909 -56.702035   \n",
      "2 -21315.466571 -20130.126577 -24171.944343  3164.903807 -69.465350   \n",
      "3 -21317.809594 -20131.044726 -24174.790986  3159.478572 -73.214591   \n",
      "4 -21325.798142 -20137.522181 -24179.985166  3144.934679 -84.871628   \n",
      "\n",
      "            Fz          F4           F8          FC5          FC1  ...  \\\n",
      "0 -8525.066680 -642.128590  3487.913621  6324.956639  6503.012177  ...   \n",
      "1 -8532.499649 -651.966372  3477.011771  6315.078704  6496.522520  ...   \n",
      "2 -8544.315275 -663.772856  3463.194795  6302.391524  6483.178723  ...   \n",
      "3 -8545.873916 -666.109249  3457.870782  6297.212341  6481.970244  ...   \n",
      "4 -8551.164448 -671.761501  3450.466406  6283.925509  6477.045614  ...   \n",
      "\n",
      "           CP6           P7           P3          Pz           P4  \\\n",
      "0  3191.273695  3374.048029 -3617.197964 -611.584742 -1667.222644   \n",
      "1  3186.166918  3372.073657 -3621.118134 -617.022909 -1673.653480   \n",
      "2  3172.584046  3363.104066 -3632.122011 -627.957966 -1684.569981   \n",
      "3  3168.554461  3354.943617 -3639.476353 -633.425118 -1690.436299   \n",
      "4  3161.362174  3343.913673 -3645.950907 -639.939845 -1695.157414   \n",
      "\n",
      "            P8          POz           O1           Oz           O2  \n",
      "0  7523.612085 -9446.685389 -6091.788931 -1392.835634  3559.608191  \n",
      "1  7516.945510 -9451.045628 -6094.343708 -1395.070231  3556.367972  \n",
      "2  7502.158816 -9460.798474 -6104.626002 -1406.149675  3543.184223  \n",
      "3  7496.978015 -9468.273627 -6110.845490 -1413.911429  3536.078117  \n",
      "4  7491.664259 -9477.076964 -6117.640828 -1419.832213  3529.343349  \n",
      "\n",
      "[5 rows x 32 columns]\n"
     ]
    }
   ],
   "source": [
    "print(triggers_df.head())\n",
    "print(stim_data_df.head())\n",
    "print(eeg_df.head())"
   ]
  },
  {
   "cell_type": "code",
   "execution_count": null,
   "id": "6223da00-c0d3-44eb-862b-1320065b800a",
   "metadata": {},
   "outputs": [],
   "source": []
  },
  {
   "cell_type": "code",
   "execution_count": 13,
   "id": "bd13d0a7-e46c-4de7-b006-69b77efe9d0b",
   "metadata": {},
   "outputs": [
    {
     "name": "stdout",
     "output_type": "stream",
     "text": [
      "Shape of TES data before reshaping: (24, 1)\n",
      "n_samples: 4227, n_steps: 1000\n",
      "Error during reshaping: cannot reshape array of size 24 into shape (1000,1)\n"
     ]
    },
    {
     "ename": "NameError",
     "evalue": "name 'TESdata_reshaped' is not defined",
     "output_type": "error",
     "traceback": [
      "\u001b[0;31m---------------------------------------------------------------------------\u001b[0m",
      "\u001b[0;31mNameError\u001b[0m                                 Traceback (most recent call last)",
      "\u001b[0;32m/tmp/ipykernel_122061/1956411969.py\u001b[0m in \u001b[0;36m<module>\u001b[0;34m\u001b[0m\n\u001b[1;32m     19\u001b[0m \u001b[0;34m\u001b[0m\u001b[0m\n\u001b[1;32m     20\u001b[0m \u001b[0;31m# Convert to float32\u001b[0m\u001b[0;34m\u001b[0m\u001b[0;34m\u001b[0m\u001b[0m\n\u001b[0;32m---> 21\u001b[0;31m \u001b[0mTESdata_reshaped\u001b[0m \u001b[0;34m=\u001b[0m \u001b[0mTESdata_reshaped\u001b[0m\u001b[0;34m.\u001b[0m\u001b[0mastype\u001b[0m\u001b[0;34m(\u001b[0m\u001b[0;34m'float32'\u001b[0m\u001b[0;34m)\u001b[0m\u001b[0;34m\u001b[0m\u001b[0;34m\u001b[0m\u001b[0m\n\u001b[0m\u001b[1;32m     22\u001b[0m \u001b[0;34m\u001b[0m\u001b[0m\n\u001b[1;32m     23\u001b[0m \u001b[0;31m# Print out shape\u001b[0m\u001b[0;34m\u001b[0m\u001b[0;34m\u001b[0m\u001b[0m\n",
      "\u001b[0;31mNameError\u001b[0m: name 'TESdata_reshaped' is not defined"
     ]
    }
   ],
   "source": [
    "TESdata = triggers  # Assuming TES data is stored here\n",
    "\n",
    "# Transpose your data if necessary\n",
    "# This step will depend on how your data is structured. If it's already in the correct shape, you don't need to transpose it\n",
    "TESdata = TESdata.T\n",
    "\n",
    "# Check the shape of your TES data\n",
    "print(f\"Shape of TES data before reshaping: {TESdata.shape}\")\n",
    "\n",
    "# Ensure the correct reshaping parameters\n",
    "print(f\"n_samples: {n_samples}, n_steps: {n_steps}\")\n",
    "\n",
    "# Reshape your data\n",
    "# The reshape operation may need to change depending on the structure of your data and the needs of your model\n",
    "try:\n",
    "    TESdata_reshaped = TESdata[:n_samples*n_steps].reshape(-1, n_steps, TESdata.shape[1])\n",
    "except ValueError as e:\n",
    "    print(f\"Error during reshaping: {e}\")\n",
    "\n",
    "# Convert to float32\n",
    "TESdata_reshaped = TESdata_reshaped.astype('float32')\n",
    "\n",
    "# Print out shape\n",
    "print(\"TESdata_reshaped shape: \", TESdata_reshaped.shape)\n",
    "\n",
    "# Then use TESdata_reshaped as input to your model\n",
    "model.fit(TESdata_reshaped, label_reshaped, batch_size=64, epochs=10)"
   ]
  },
  {
   "cell_type": "code",
   "execution_count": 14,
   "id": "cdcd4c5a-4b33-4548-b68b-9f988cab6a4f",
   "metadata": {},
   "outputs": [],
   "source": [
    "# Flatten the array to 1D\n",
    "flattened_label = np.concatenate([item[0] for item in label]).ravel()\n",
    "\n",
    "# Encode the labels\n",
    "label_encoded = label_encoder.fit_transform(flattened_label)\n",
    "\n",
    "# Reshape to 2D\n",
    "label_reshaped = label_encoded.reshape(-1, 1).astype('float32')"
   ]
  },
  {
   "cell_type": "code",
   "execution_count": 15,
   "id": "49378724-5740-4cf7-8bb9-3b23cad27566",
   "metadata": {},
   "outputs": [],
   "source": [
    "from sklearn.preprocessing import LabelEncoder\n",
    "\n",
    "# Create a LabelEncoder instance\n",
    "label_encoder = LabelEncoder()\n",
    "\n",
    "# Flatten the array to 1D and extract the string from the label\n",
    "flattened_label = np.concatenate([item[0] for item in label]).ravel()\n",
    "\n",
    "# Encode the labels\n",
    "label_encoded = label_encoder.fit_transform(flattened_label)\n",
    "\n",
    "# Reshape to match the expected shape\n",
    "label_reshaped = label_encoded.reshape(-1, 1).astype('float32')"
   ]
  },
  {
   "cell_type": "code",
   "execution_count": 16,
   "id": "86ea6348-b25d-4b4f-8276-48ef3acd5a1b",
   "metadata": {},
   "outputs": [],
   "source": [
    "EEGdata_reshaped = EEGdata_reshaped.astype('float32')\n",
    "label_reshaped = label_reshaped.astype('float32')"
   ]
  },
  {
   "cell_type": "code",
   "execution_count": 17,
   "id": "fe65d922-31da-446e-9fd8-1f7e5dd10ed2",
   "metadata": {},
   "outputs": [
    {
     "name": "stdout",
     "output_type": "stream",
     "text": [
      "EEGdata_reshaped shape:  (4227, 1000, 35)\n",
      "label_reshaped shape:  (35, 1)\n"
     ]
    }
   ],
   "source": [
    "print(\"EEGdata_reshaped shape: \", EEGdata_reshaped.shape)\n",
    "print(\"label_reshaped shape: \", label_reshaped.shape)"
   ]
  },
  {
   "cell_type": "code",
   "execution_count": 18,
   "id": "fa03d9ab-5d77-4b38-ae0c-a92f3ad8e316",
   "metadata": {},
   "outputs": [
    {
     "name": "stdout",
     "output_type": "stream",
     "text": [
      "EEGdata contains NaN:  False\n",
      "EEGdata contains Inf:  False\n",
      "label contains NaN:  False\n",
      "label contains Inf:  False\n"
     ]
    }
   ],
   "source": [
    "print(\"EEGdata contains NaN: \", np.isnan(EEGdata_reshaped).any())\n",
    "print(\"EEGdata contains Inf: \", np.isinf(EEGdata_reshaped).any())\n",
    "print(\"label contains NaN: \", np.isnan(label_reshaped).any())\n",
    "print(\"label contains Inf: \", np.isinf(label_reshaped).any())"
   ]
  },
  {
   "cell_type": "code",
   "execution_count": 19,
   "id": "a7c67f05-1e51-405a-9590-31288e9acaa9",
   "metadata": {},
   "outputs": [],
   "source": [
    "n_channels = EEGdata_reshaped.shape[2]\n",
    "label_reshaped = np.repeat(label_encoded[:n_samples, np.newaxis], n_steps, axis=1).reshape(-1, n_steps, 1)"
   ]
  },
  {
   "cell_type": "code",
   "execution_count": 20,
   "id": "37ff87a7-1f99-4389-a5e5-5298613857b5",
   "metadata": {},
   "outputs": [
    {
     "name": "stdout",
     "output_type": "stream",
     "text": [
      "EEGdata_reshaped shape:  (4227, 1000, 35)\n",
      "EEGdata_future shape:  (4227, 1000, 35)\n"
     ]
    },
    {
     "ename": "NameError",
     "evalue": "name 'Sequential' is not defined",
     "output_type": "error",
     "traceback": [
      "\u001b[0;31m---------------------------------------------------------------------------\u001b[0m",
      "\u001b[0;31mNameError\u001b[0m                                 Traceback (most recent call last)",
      "\u001b[0;32m/tmp/ipykernel_122061/4185370745.py\u001b[0m in \u001b[0;36m<module>\u001b[0;34m\u001b[0m\n\u001b[1;32m     28\u001b[0m \u001b[0;34m\u001b[0m\u001b[0m\n\u001b[1;32m     29\u001b[0m \u001b[0;31m# Define your LSTM model\u001b[0m\u001b[0;34m\u001b[0m\u001b[0;34m\u001b[0m\u001b[0m\n\u001b[0;32m---> 30\u001b[0;31m \u001b[0mmodel\u001b[0m \u001b[0;34m=\u001b[0m \u001b[0mSequential\u001b[0m\u001b[0;34m(\u001b[0m\u001b[0;34m)\u001b[0m\u001b[0;34m\u001b[0m\u001b[0;34m\u001b[0m\u001b[0m\n\u001b[0m\u001b[1;32m     31\u001b[0m \u001b[0mmodel\u001b[0m\u001b[0;34m.\u001b[0m\u001b[0madd\u001b[0m\u001b[0;34m(\u001b[0m\u001b[0mLSTM\u001b[0m\u001b[0;34m(\u001b[0m\u001b[0;36m32\u001b[0m\u001b[0;34m,\u001b[0m \u001b[0mreturn_sequences\u001b[0m\u001b[0;34m=\u001b[0m\u001b[0;32mTrue\u001b[0m\u001b[0;34m,\u001b[0m \u001b[0minput_shape\u001b[0m\u001b[0;34m=\u001b[0m\u001b[0;34m(\u001b[0m\u001b[0mn_steps\u001b[0m\u001b[0;34m,\u001b[0m \u001b[0mEEGdata\u001b[0m\u001b[0;34m.\u001b[0m\u001b[0mshape\u001b[0m\u001b[0;34m[\u001b[0m\u001b[0;36m1\u001b[0m\u001b[0;34m]\u001b[0m\u001b[0;34m)\u001b[0m\u001b[0;34m)\u001b[0m\u001b[0;34m)\u001b[0m\u001b[0;34m\u001b[0m\u001b[0;34m\u001b[0m\u001b[0m\n\u001b[1;32m     32\u001b[0m \u001b[0mmodel\u001b[0m\u001b[0;34m.\u001b[0m\u001b[0madd\u001b[0m\u001b[0;34m(\u001b[0m\u001b[0mDropout\u001b[0m\u001b[0;34m(\u001b[0m\u001b[0;36m0.5\u001b[0m\u001b[0;34m)\u001b[0m\u001b[0;34m)\u001b[0m\u001b[0;34m\u001b[0m\u001b[0;34m\u001b[0m\u001b[0m\n",
      "\u001b[0;31mNameError\u001b[0m: name 'Sequential' is not defined"
     ]
    }
   ],
   "source": [
    "# Load your data\n",
    "DSamp = data['DSamp']\n",
    "EEGdata = DSamp[0][0][1]\n",
    "\n",
    "# Transpose your data\n",
    "EEGdata = EEGdata.T\n",
    "\n",
    "# Number of timesteps you want for each sample\n",
    "n_steps = 1000\n",
    "\n",
    "# Number of total samples you will have after the segmentation\n",
    "n_samples = EEGdata.shape[0] // n_steps\n",
    "\n",
    "# Reshape your data\n",
    "EEGdata_reshaped = EEGdata[:n_samples*n_steps].reshape(-1, n_steps, EEGdata.shape[1])\n",
    "\n",
    "# We want to predict the future state of the EEG reading, so we shift the EEG readings\n",
    "# to create the \"labels\"\n",
    "future_step = 1  # Change this to predict more steps into the future\n",
    "EEGdata_future = EEGdata[future_step:n_samples*n_steps+future_step].reshape(-1, n_steps, EEGdata.shape[1])\n",
    "\n",
    "EEGdata_reshaped = EEGdata_reshaped.astype('float32')\n",
    "EEGdata_future = EEGdata_future.astype('float32')\n",
    "\n",
    "# Print out shapes\n",
    "print(\"EEGdata_reshaped shape: \", EEGdata_reshaped.shape)\n",
    "print(\"EEGdata_future shape: \", EEGdata_future.shape)\n",
    "\n",
    "# Define your LSTM model\n",
    "model = Sequential()\n",
    "model.add(LSTM(32, return_sequences=True, input_shape=(n_steps, EEGdata.shape[1])))\n",
    "model.add(Dropout(0.5))\n",
    "model.add(LSTM(32, return_sequences=True))\n",
    "model.add(Dense(EEGdata.shape[1], activation='linear'))  # Predict the future state of all channels\n",
    "\n",
    "# Compile and train your model\n",
    "model.compile(loss='mean_squared_error', optimizer='adam')\n",
    "model.fit(EEGdata_reshaped[:-1], EEGdata_future[:-1], batch_size=64, epochs=10)  # We subtract 1 from the shapes to match their sizes"
   ]
  },
  {
   "cell_type": "code",
   "execution_count": null,
   "id": "9c1bff91-8805-4144-be6a-b5e8a6f54479",
   "metadata": {},
   "outputs": [],
   "source": []
  }
 ],
 "metadata": {
  "kernelspec": {
   "display_name": "Python 3 (ipykernel)",
   "language": "python",
   "name": "python3"
  },
  "language_info": {
   "codemirror_mode": {
    "name": "ipython",
    "version": 3
   },
   "file_extension": ".py",
   "mimetype": "text/x-python",
   "name": "python",
   "nbconvert_exporter": "python",
   "pygments_lexer": "ipython3",
   "version": "3.9.13"
  }
 },
 "nbformat": 4,
 "nbformat_minor": 5
}
