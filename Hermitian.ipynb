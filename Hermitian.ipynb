{
 "cells": [
  {
   "cell_type": "markdown",
   "id": "99b8f700-c252-4159-b760-1ae6c245906c",
   "metadata": {},
   "source": [
    "# Hermitian "
   ]
  },
  {
   "cell_type": "code",
   "execution_count": null,
   "id": "986895b2-bf9d-48c2-8c74-58ca1c68cc19",
   "metadata": {},
   "outputs": [],
   "source": [
    "import numpy as np\n",
    "import nolds\n",
    "import scipy.io\n",
    "import mne\n",
    "import pandas as pd\n",
    "import seaborn as sns\n",
    "import pyqtgraph as pg\n",
    "from scipy.io import loadmat\n",
    "from scipy import stats\n",
    "import matplotlib.pyplot as plt\n",
    "import antropy as ent\n",
    "from attractors import Attractor\n",
    "from antropy import higuchi_fd\n",
    "from pyrqa.settings import Settings\n",
    "from pyrqa.neighbourhood import FixedRadius\n",
    "from pyrqa.computation import RQAComputation\n",
    "from pyrqa.time_series import TimeSeries\n",
    "from pyrqa.result import RQAResult\n",
    "from pyrqa.opencl import OpenCL\n",
    "from pyrqa.settings import Settings\n",
    "from pyrqa.time_series import TimeSeries\n",
    "from pyrqa.neighbourhood import FixedRadius\n",
    "from pyrqa.settings import Settings\n",
    "from pyrqa.time_series import TimeSeries\n",
    "from pyrqa.neighbourhood import FixedRadius\n",
    "from pyrqa.metric import EuclideanMetric\n",
    "from pyrqa.computation import RQAComputation\n",
    "from pyrqa.metric import EuclideanMetric\n",
    "from pyrqa.computation import RQAComputation\n",
    "from pyrqa.settings import Settings\n",
    "from pyrqa.neighbourhood import FixedRadius\n",
    "from pyrqa.metric import EuclideanMetric\n",
    "from pyrqa.image_generator import ImageGenerator\n",
    "import numpy as np\n",
    "import matplotlib.pyplot as plt\n",
    "from antropy import higuchi_fd"
   ]
  },
  {
   "cell_type": "code",
   "execution_count": null,
   "id": "081e20a6-6606-4ba3-baa8-c3810360fcd0",
   "metadata": {},
   "outputs": [],
   "source": [
    "# Load data\n",
    "data = loadmat('/home/vincent/AAA_projects/MVCS/Neuroscience/downsampled/EEG_DS_Struct_0101.mat')"
   ]
  },
  {
   "cell_type": "code",
   "execution_count": null,
   "id": "b652950f-e95d-4d99-82a8-0cab7bb59904",
   "metadata": {},
   "outputs": [],
   "source": [
    "DSamp = data['DSamp']\n",
    "\n",
    "triggers = DSamp[0][0][0]\n",
    "EEGdata = DSamp[0][0][1]\n",
    "fs = DSamp[0][0][2][0][0] \n",
    "fsOld = DSamp[0][0][3][0][0] \n",
    "time = DSamp[0][0][4][0]\n",
    "label = DSamp[0][0][5]\n",
    "nchan = DSamp[0][0][6][0][0]\n",
    "rate = DSamp[0][0][7][0][0]\n",
    "npt = DSamp[0][0][8][0][0]\n",
    "Subj = DSamp[0][0][9][0]\n",
    "ptrackerPerf = DSamp[0][0][10]\n",
    "ptrackerTime = DSamp[0][0][11]\n",
    "ptrackerfs = DSamp[0][0][12][0][0]"
   ]
  },
  {
   "cell_type": "code",
   "execution_count": null,
   "id": "48c9fb8d-f3e2-40de-88df-f829d971f095",
   "metadata": {},
   "outputs": [],
   "source": [
    "import numpy as np\n",
    "\n",
    "def wave_function(data):\n",
    "    return np.exp(-1j * data)\n",
    "\n",
    "def hermitian_operator(data):\n",
    "    return np.conj(data).T\n",
    "\n",
    "def expectation_value(state, operator, state_conj):\n",
    "    return np.sum(np.vdot(state_conj, np.dot(operator, state)))\n",
    "\n",
    "# Load your EEG data\n",
    "# eeg_data should be a numpy array with shape (n_channels, n_samples)\n",
    "# For the purpose of this example, we'll create a random dataset\n",
    "n_channels = 32\n",
    "n_samples = 1000\n",
    "eeg_data = np.random.rand(n_channels, n_samples)\n",
    "\n",
    "# Apply the wave function to the EEG data\n",
    "quantum_states = wave_function(eeg_data)\n",
    "\n",
    "# Calculate the Hermitian operator of the EEG data\n",
    "hermitian_op = hermitian_operator(eeg_data)\n",
    "\n",
    "# Calculate the expectation value of the Hermitian operator with respect to the quantum states\n",
    "quantum_states_conj = np.conj(quantum_states)\n",
    "exp_val = np.empty(n_channels, dtype=np.complex128)\n",
    "\n",
    "for ch in range(n_channels):\n",
    "    exp_val[ch] = expectation_value(quantum_states[ch], hermitian_op[ch], quantum_states_conj[ch])\n",
    "\n",
    "# exp_val now contains the expectation value of the Hermitian operator for each channel, which can be used for further analysis\n",
    "print(\"Expectation value:\", exp_val)"
   ]
  },
  {
   "cell_type": "code",
   "execution_count": null,
   "id": "b7651d3b-9ced-49d6-9e14-a4a0429adfe1",
   "metadata": {},
   "outputs": [],
   "source": []
  }
 ],
 "metadata": {
  "kernelspec": {
   "display_name": "Python 3 (ipykernel)",
   "language": "python",
   "name": "python3"
  },
  "language_info": {
   "codemirror_mode": {
    "name": "ipython",
    "version": 3
   },
   "file_extension": ".py",
   "mimetype": "text/x-python",
   "name": "python",
   "nbconvert_exporter": "python",
   "pygments_lexer": "ipython3",
   "version": "3.9.13"
  }
 },
 "nbformat": 4,
 "nbformat_minor": 5
}
