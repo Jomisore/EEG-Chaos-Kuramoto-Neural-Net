{
 "cells": [
  {
   "cell_type": "markdown",
   "id": "0c19c4ea-37ed-40e3-9174-3f7727397779",
   "metadata": {},
   "source": [
    "<div align=\"center\">\n",
    "\n",
    "## <span style=\"font-size:larger;\">EEG tES Chaos Neural Net</span>\n",
    "\n",
    "&nbsp;<br>\n",
    "&nbsp;<br>\n",
    "&nbsp;<br>\n",
    "&nbsp;<br>\n",
    "\n",
    "</div>"
   ]
  },
  {
   "cell_type": "markdown",
   "id": "98360402-398d-4cab-a24a-754a1100cd04",
   "metadata": {},
   "source": [
    "Article: <a href=\"https://doi.org/10.1038/s41597-021-01046-y\" style=\"color:red;\">https://doi.org/10.1038/s41597-021-01046-y</a>\n",
    "\n",
    "Dataset: <a href=\"https://zenodo.org/record/3840615#.ZK2hJdLMKRQ\" style=\"color:red;\">https://zenodo.org/record/3840615#.ZK2hJdLMKRQ</a>\n",
    "\n",
    "Table of stimulation condition and stimulation intensity: <a href=\"https://www.nature.com/articles/s41597-021-01046-y/tables/2\" style=\"color:red;\">https://www.nature.com/articles/s41597-021-01046-y/tables/2</a>\n",
    "\n",
    "\n",
    "\n",
    "&nbsp;<br>\n",
    "&nbsp;<br>"
   ]
  },
  {
   "cell_type": "markdown",
   "id": "d0f6ed00-b2c1-461e-af85-980e78be32a6",
   "metadata": {},
   "source": [
    "Data include within participant application of nine High-Definition tES (HD-tES) types, targeting three cortical regions (frontal, motor, parietal) with three stimulation waveforms (DC, 5 Hz, 30 Hz); more than 783 total stimulation trials over 62 sessions with EEG, physiological (ECG, EOG), and continuous behavioral vigilance/alertness metrics. Experiment 1 and 2 consisted of participants performing a continuous vigilance/alertness task over three 70-minute and two 70.5-minute sessions, respectively. Demographic data were collected, as well as self-reported wellness questionnaires before and after each session. Participants received all 9 stimulation types in Experiment 1, with each session including three stimulation types, with 4 trials per type. Participants received 2 stimulation types in Experiment 2, with 20 trials of a given stimulation type per session. Within-participant reliability was tested by repeating select sessions. This unique dataset supports a range of hypothesis testing including interactions of tDCS/tACS location and frequency, brain-state, physiology, fatigue, and cognitive performance.\n",
    "\n",
    "Participants maintained a ball at the center of the screen and were periodically stimulated (with low-intensity noninvasive brain stimulation) for 30 secs with combinations of 9 stimulation montages.\n",
    "\n",
    "    \n",
    "    \n",
    "    \n",
    "    \n",
    "    \n",
    "\n",
    "| Variable       | Description                                                         |\n",
    "|----------------|---------------------------------------------------------------------|\n",
    "| DSamp          |                                                                     |\n",
    "| triggers       | These are all the labeled EEG/Stimulation start/stop triggers       |\n",
    "| EEGdata        | Contains the downsampled EEG/ECG/EOG voltage data dims: 35 channels X ~4E6 samples |\n",
    "| fs             | The downsampled sampling frequency of the data: 1000 Hz             |\n",
    "| fsOld          | The original sampling frequency of the data                         |\n",
    "| time           | Time vector for the data. Should be 1 X ~4E6                        |\n",
    "| label          | Contains the channel label information. BIP1= ECG, BIP2=EOG, RESP1= N/A |\n",
    "| nchan          | The number of channels in the data                                  |\n",
    "| rate           | Redundant to fs, sampling rate of data                              |\n",
    "| npt            | Number of data points ~4E6                                          |\n",
    "| Subj           | Subject and session that data belong to. I.e. 0302 - Subject 03 session 03 |\n",
    "| ptrackerPerf   | The CTT data deviation/ the behavioral data                         |\n",
    "| ptrackerTime   | Time vector for the CTT data                                        |\n",
    "| ptrackerfs     | The sampling frequency for the CTT data: 100 Hz                     |"
   ]
  }
 ],
 "metadata": {
  "kernelspec": {
   "display_name": "Python 3 (ipykernel)",
   "language": "python",
   "name": "python3"
  },
  "language_info": {
   "codemirror_mode": {
    "name": "ipython",
    "version": 3
   },
   "file_extension": ".py",
   "mimetype": "text/x-python",
   "name": "python",
   "nbconvert_exporter": "python",
   "pygments_lexer": "ipython3",
   "version": "3.9.13"
  }
 },
 "nbformat": 4,
 "nbformat_minor": 5
}
